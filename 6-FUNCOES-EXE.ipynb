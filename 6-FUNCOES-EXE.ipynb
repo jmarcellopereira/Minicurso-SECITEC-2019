{
 "cells": [
  {
   "cell_type": "markdown",
   "metadata": {
    "nbpresent": {
     "id": "52ee1c03-b1f0-4a3a-84a6-2682e757025d"
    }
   },
   "source": [
    "# FUNÇÕES\n",
    "\n",
    "Em Julia, uma função é um objeto que mapeia uma tupla de valores de argumentos e produz um valor de retorno. Julia possui os tipo de funções Genéricas e Anônimas. Cada uma possui vantagens e desvantagens quanto ao desempenho e sintaxe. De modo geral a mais utilizada é a função genérica ou genérica com variáveis simbólicas. "
   ]
  },
  {
   "cell_type": "markdown",
   "metadata": {
    "nbpresent": {
     "id": "82ba3b56-6b9b-4a3c-9bac-ecd4a3037e17"
    }
   },
   "source": [
    "## FUNÇÕES GENÉRICAS \n",
    "\n",
    "Uma função genérica pode ser do tipo padrão, configuração comum entre várias linguagens de programação, ou simplificada, configuração mais próxima da formatação de uma função matemática. Permitem o uso de várias variáveis e até variáveis simbolicas definidas pelo **SymPy**. "
   ]
  },
  {
   "cell_type": "markdown",
   "metadata": {},
   "source": [
    "### FUNÇÃO GENÉRICA PADRÃO\n",
    "\n",
    "Sintaxe: \n",
    "\n",
    "```julia\n",
    "function nome(variável ou variáveis)\n",
    "    var_local = expressão_variáveis\n",
    "return var_local\n",
    "end\n",
    "```\n",
    "sendo:\n",
    "* nome: nome da função\n",
    "* variáveis: variáveis da expressão da função\n",
    "* expressão: expressão numérica"
   ]
  },
  {
   "cell_type": "code",
   "execution_count": 9,
   "metadata": {},
   "outputs": [],
   "source": [
    "# definir a função calculo da área de um circulo fcirc\n",
    "\n"
   ]
  },
  {
   "cell_type": "code",
   "execution_count": 10,
   "metadata": {},
   "outputs": [],
   "source": [
    "# testando\n",
    "\n"
   ]
  },
  {
   "cell_type": "markdown",
   "metadata": {},
   "source": [
    "* **Função recursiva da série de Fibonacci** "
   ]
  },
  {
   "cell_type": "code",
   "execution_count": 12,
   "metadata": {},
   "outputs": [],
   "source": [
    "# definir a função fibonacci fib\n",
    "\n"
   ]
  },
  {
   "cell_type": "code",
   "execution_count": 13,
   "metadata": {},
   "outputs": [],
   "source": [
    "# tempo de processamento de 40 termos\n",
    "\n"
   ]
  },
  {
   "cell_type": "markdown",
   "metadata": {
    "nbpresent": {
     "id": "8333d515-ec4b-43b4-a36e-6a18f2aee009"
    }
   },
   "source": [
    "### IMPORTANDO UMA FUNÇÃO NO FORMATO DE ARQUIVO \n",
    "\n",
    "De forma semelhante a Python, uma função pode ser salva no formato \".jl\" em uma pasta e importada para o código corrente usando o comando ` include `. Para evitar confusão, é interessante salvar o arquivo da função com o mesmo nome da função.\n",
    "```julia\n",
    "\"\"\"\n",
    "Cálculo área circulo\n",
    "\n",
    "fareac(raio)\n",
    "\n",
    "\"\"\"\n",
    "\n",
    "function fareac(r)\n",
    "    return pi*r^2\n",
    "end\n",
    "\n",
    "```"
   ]
  },
  {
   "cell_type": "code",
   "execution_count": 4,
   "metadata": {
    "nbpresent": {
     "id": "306676bb-04d2-4ac7-ba31-d4780cbf9266"
    },
    "scrolled": false
   },
   "outputs": [],
   "source": [
    "# É interessante salvar o arquivo da função com o mesmo nome da função\n",
    "\n"
   ]
  },
  {
   "cell_type": "code",
   "execution_count": 15,
   "metadata": {
    "nbpresent": {
     "id": "797fa5be-978d-4d86-8f43-eef8e82faa25"
    },
    "scrolled": true
   },
   "outputs": [],
   "source": [
    "# ajuda da função\n",
    "\n"
   ]
  },
  {
   "cell_type": "markdown",
   "metadata": {},
   "source": [
    "### FUNÇÃO GENÉRICA SIMPLIFICADA\n",
    "\n",
    "```julia\n",
    "nome_funcao(variável ou variáveis) = expressão_variavel\n",
    "```\n",
    "\n",
    "Sendo:\n",
    "* nome: nome da função\n",
    "* variáveis: variáveis da expressão da função\n",
    "* expressão: expressão numérica"
   ]
  },
  {
   "cell_type": "markdown",
   "metadata": {
    "nbpresent": {
     "id": "60332675-42c7-43ed-be84-c6bbf5405dd1"
    }
   },
   "source": [
    "#### FUNÇÃO DE UMA VARIÁVEL DEFINIDA"
   ]
  },
  {
   "cell_type": "code",
   "execution_count": 1,
   "metadata": {
    "nbpresent": {
     "id": "65e09fbd-7114-469d-af48-7da8f9f1a82a"
    },
    "scrolled": true
   },
   "outputs": [],
   "source": [
    "# criando a função simplificada f1 x^2 + 2*x\n",
    "\n"
   ]
  },
  {
   "cell_type": "code",
   "execution_count": 2,
   "metadata": {},
   "outputs": [],
   "source": [
    "# testando com um valor\n",
    "\n"
   ]
  },
  {
   "cell_type": "markdown",
   "metadata": {
    "nbpresent": {
     "id": "30f32c90-6647-4221-9ff4-ebf01ad5d3e9"
    }
   },
   "source": [
    "#### Subustituindo por um vetor"
   ]
  },
  {
   "cell_type": "code",
   "execution_count": 7,
   "metadata": {
    "nbpresent": {
     "id": "c15f88d2-8d83-42f3-a311-b982add0e6da"
    }
   },
   "outputs": [],
   "source": [
    "# definir uma funcao generica chamada f2\n",
    "\n"
   ]
  },
  {
   "cell_type": "code",
   "execution_count": 4,
   "metadata": {
    "nbpresent": {
     "id": "dcfaf403-c5f8-4afd-99e0-e146e133a8e8"
    },
    "scrolled": false
   },
   "outputs": [],
   "source": [
    "# definir vetor \n",
    "\n",
    "\n",
    "# usar um vetor numa função generica\n",
    "\n"
   ]
  },
  {
   "cell_type": "markdown",
   "metadata": {
    "nbpresent": {
     "id": "932745c6-d287-439b-bb65-ba9070356e04"
    }
   },
   "source": [
    "#### FUNÇÃO DE DUAS VARIÁVEIS DEFINIDA "
   ]
  },
  {
   "cell_type": "code",
   "execution_count": 5,
   "metadata": {
    "nbpresent": {
     "id": "0e2786ae-f947-4014-84c1-299c2149fdf5"
    }
   },
   "outputs": [],
   "source": [
    "# definir uma função f3 de duas variáveis \n",
    "\n"
   ]
  },
  {
   "cell_type": "code",
   "execution_count": 6,
   "metadata": {
    "nbpresent": {
     "id": "18d1c0ba-5c76-44c6-be3b-32b34ab5b8fb"
    },
    "scrolled": false
   },
   "outputs": [],
   "source": [
    "# substituir valores\n",
    "\n"
   ]
  },
  {
   "cell_type": "markdown",
   "metadata": {
    "nbpresent": {
     "id": "9e192d56-e4d4-47c7-a0a4-596e6fb4bac4"
    }
   },
   "source": [
    "#### Substituindo por vetores"
   ]
  },
  {
   "cell_type": "code",
   "execution_count": 7,
   "metadata": {
    "nbpresent": {
     "id": "8aa217e0-d789-49b7-a741-1d39b81a4d30"
    }
   },
   "outputs": [],
   "source": [
    "# os vetores devem ter a mesma dimensão\n",
    "\n"
   ]
  },
  {
   "cell_type": "markdown",
   "metadata": {
    "nbpresent": {
     "id": "ec158598-6dca-44f8-ab97-2c06f97eed27"
    }
   },
   "source": [
    "### TRANSFORMANDO UMA STRING EM UMA FUNÇÃO GENÉRICA \n",
    "\n",
    "É possível transformar um texto de uma função em uma função genérica manipulável através da macro @eval e função Parse():\n",
    "```julia\n",
    "@eval nome(argumento_1, argumento_2..., argumento_n) = $(parse(\"função_string\"))\n",
    "``` "
   ]
  },
  {
   "cell_type": "code",
   "execution_count": 10,
   "metadata": {
    "nbpresent": {
     "id": "30adafcf-b90e-491a-a3dd-973aa634014e"
    },
    "scrolled": true
   },
   "outputs": [],
   "source": [
    "# transformar uma string (x^2 - 2*x - 1) em uma função genérica\n",
    "\n"
   ]
  },
  {
   "cell_type": "code",
   "execution_count": 11,
   "metadata": {
    "nbpresent": {
     "id": "48e859d4-ce55-4b87-9d2a-2c8250546959"
    }
   },
   "outputs": [],
   "source": [
    "# testando a função\n",
    "\n"
   ]
  },
  {
   "cell_type": "markdown",
   "metadata": {
    "nbpresent": {
     "id": "57b7659d-36bf-45c3-85ce-36da88e176c0"
    }
   },
   "source": [
    "## LIST COMPREEHENSION\n",
    "```julia \n",
    "[func for var = vetor]\n",
    "```"
   ]
  },
  {
   "cell_type": "code",
   "execution_count": 9,
   "metadata": {
    "nbpresent": {
     "id": "7e8d346e-a018-4692-a5c5-1b183a8bd9b0"
    }
   },
   "outputs": [],
   "source": [
    "# definir uma função generica f4\n",
    "\n"
   ]
  },
  {
   "cell_type": "code",
   "execution_count": 14,
   "metadata": {
    "nbpresent": {
     "id": "32cb13f5-8ee0-41ff-b243-27f43534753c"
    }
   },
   "outputs": [],
   "source": [
    "# definir vetor\n",
    "\n",
    "\n",
    "\n",
    "# LC aplicado a um vetor\n",
    "\n"
   ]
  }
 ],
 "metadata": {
  "anaconda-cloud": {},
  "kernelspec": {
   "display_name": "Julia 0.6.4",
   "language": "julia",
   "name": "julia-0.6"
  },
  "language_info": {
   "file_extension": ".jl",
   "mimetype": "application/julia",
   "name": "julia",
   "version": "0.6.4"
  },
  "nbpresent": {
   "slides": {
    "019312a9-f854-4026-827c-e1776d6e1321": {
     "id": "019312a9-f854-4026-827c-e1776d6e1321",
     "prev": "c7da3371-988e-4736-9430-6694d083a38e",
     "regions": {
      "fe35623a-0f5a-4620-9143-f146917a3562": {
       "attrs": {
        "height": 0.8,
        "width": 0.8,
        "x": 0.1,
        "y": 0.1
       },
       "content": {
        "cell": "17e2ac22-17e1-45d0-a45a-3952a092293c",
        "part": "whole"
       },
       "id": "fe35623a-0f5a-4620-9143-f146917a3562"
      }
     }
    },
    "03f0f41e-72e5-465a-891a-fcce8c0ebae5": {
     "id": "03f0f41e-72e5-465a-891a-fcce8c0ebae5",
     "prev": "4e46e254-0138-41d1-b31d-e3fd2efa830d",
     "regions": {
      "548d968b-d3bc-4b86-81ea-ef26c3e6ca9d": {
       "attrs": {
        "height": 0.8,
        "width": 0.8,
        "x": 0.1,
        "y": 0.1
       },
       "content": {
        "cell": "bf35cf06-4943-4ba0-b9d7-fec3b77284ce",
        "part": "whole"
       },
       "id": "548d968b-d3bc-4b86-81ea-ef26c3e6ca9d"
      }
     }
    },
    "06485c82-3b2d-4ef6-af0a-ddb2313fbc69": {
     "id": "06485c82-3b2d-4ef6-af0a-ddb2313fbc69",
     "prev": "e76ccbd1-f767-498e-aaba-c5794c95a84d",
     "regions": {
      "5ce95215-1829-4cde-8ff1-8cc6c2aaf21b": {
       "attrs": {
        "height": 0.8,
        "width": 0.8,
        "x": 0.1,
        "y": 0.1
       },
       "content": {
        "cell": "3ece369e-12a4-4988-a886-cd2d19b2e331",
        "part": "whole"
       },
       "id": "5ce95215-1829-4cde-8ff1-8cc6c2aaf21b"
      }
     }
    },
    "06dcc081-685d-40d1-b2ec-b57084fe702f": {
     "id": "06dcc081-685d-40d1-b2ec-b57084fe702f",
     "prev": "7611359c-5462-4b76-865e-93de981c2d12",
     "regions": {
      "0174b092-3b66-4fbd-b697-fd2b6ca5e3e8": {
       "attrs": {
        "height": 0.8,
        "width": 0.8,
        "x": 0.1,
        "y": 0.1
       },
       "content": {
        "cell": "40033716-4a19-4511-b1ac-51b827878413",
        "part": "whole"
       },
       "id": "0174b092-3b66-4fbd-b697-fd2b6ca5e3e8"
      }
     }
    },
    "07b297d9-6d6e-4e36-9ebe-fb29facb86b6": {
     "id": "07b297d9-6d6e-4e36-9ebe-fb29facb86b6",
     "prev": "c72dacf0-005c-4f4e-a852-b4b6251ab6d0",
     "regions": {
      "e07d3540-aa1a-473a-bd6e-d194e3b5e6b5": {
       "attrs": {
        "height": 0.8,
        "width": 0.8,
        "x": 0.1,
        "y": 0.1
       },
       "content": {
        "cell": "7932ad82-56b4-49c5-902c-24a8d2aee715",
        "part": "whole"
       },
       "id": "e07d3540-aa1a-473a-bd6e-d194e3b5e6b5"
      }
     }
    },
    "0a1d8e1b-9ad4-4e4e-9953-b3e26077efca": {
     "id": "0a1d8e1b-9ad4-4e4e-9953-b3e26077efca",
     "prev": "3fda421a-883a-4705-a858-7e106f3f689f",
     "regions": {
      "a66b02e9-a4af-48eb-8c41-ae2b56a8e6d3": {
       "attrs": {
        "height": 0.8,
        "width": 0.8,
        "x": 0.1,
        "y": 0.1
       },
       "content": {
        "cell": "75af69b4-e6c5-4e10-94dc-0ad676e73e9a",
        "part": "whole"
       },
       "id": "a66b02e9-a4af-48eb-8c41-ae2b56a8e6d3"
      }
     }
    },
    "0b4d2b95-1698-4533-843a-7e26aaaa0772": {
     "id": "0b4d2b95-1698-4533-843a-7e26aaaa0772",
     "prev": "019312a9-f854-4026-827c-e1776d6e1321",
     "regions": {
      "825f2f2c-19d0-49f5-98fe-2b6d10326c2c": {
       "attrs": {
        "height": 0.8,
        "width": 0.8,
        "x": 0.1,
        "y": 0.1
       },
       "content": {
        "cell": "5fad6e33-35e4-45b6-bba6-e10929576021",
        "part": "whole"
       },
       "id": "825f2f2c-19d0-49f5-98fe-2b6d10326c2c"
      }
     }
    },
    "0c1d3cb5-abfe-46cd-8a25-c6f8a772703e": {
     "id": "0c1d3cb5-abfe-46cd-8a25-c6f8a772703e",
     "prev": "44977aaa-1a02-4f91-9e48-0b6bd9925dc7",
     "regions": {
      "d4809191-a096-49f1-a8d4-7602a690e7d5": {
       "attrs": {
        "height": 0.8,
        "width": 0.8,
        "x": 0.1,
        "y": 0.1
       },
       "content": {
        "cell": "ec030412-bcb7-483f-9eb1-f489f9c91c01",
        "part": "whole"
       },
       "id": "d4809191-a096-49f1-a8d4-7602a690e7d5"
      }
     }
    },
    "0e8646e5-b979-4d13-83f9-151846e16dd1": {
     "id": "0e8646e5-b979-4d13-83f9-151846e16dd1",
     "prev": "3bac7704-bc92-43da-b1c3-be85d0146888",
     "regions": {
      "cba42e08-e73c-4755-a7d8-0f485e21434f": {
       "attrs": {
        "height": 0.8,
        "width": 0.8,
        "x": 0.1,
        "y": 0.1
       },
       "content": {
        "cell": "a08d678e-e86d-4180-94bf-e62dc1f36fc1",
        "part": "whole"
       },
       "id": "cba42e08-e73c-4755-a7d8-0f485e21434f"
      }
     }
    },
    "11de6f98-25d4-4f7d-8b0a-82cd3eab68fb": {
     "id": "11de6f98-25d4-4f7d-8b0a-82cd3eab68fb",
     "prev": "fac0959b-ee1b-4c1f-b3ca-30865329b817",
     "regions": {
      "668b14f1-a083-4c8d-8514-fb5ef7bc7092": {
       "attrs": {
        "height": 0.8,
        "width": 0.8,
        "x": 0.1,
        "y": 0.1
       },
       "content": {
        "cell": "32cb13f5-8ee0-41ff-b243-27f43534753c",
        "part": "whole"
       },
       "id": "668b14f1-a083-4c8d-8514-fb5ef7bc7092"
      }
     }
    },
    "162c68a2-7967-4ed1-b4bc-c6e1a23d22fb": {
     "id": "162c68a2-7967-4ed1-b4bc-c6e1a23d22fb",
     "prev": "0c1d3cb5-abfe-46cd-8a25-c6f8a772703e",
     "regions": {
      "cd47c8cc-e332-4c1d-b2f6-4a97fe01bb5e": {
       "attrs": {
        "height": 0.8,
        "width": 0.8,
        "x": 0.1,
        "y": 0.1
       },
       "content": {
        "cell": "231eccce-9bf0-477c-98bb-7fd87ce62fac",
        "part": "whole"
       },
       "id": "cd47c8cc-e332-4c1d-b2f6-4a97fe01bb5e"
      }
     }
    },
    "1887e880-fd17-4878-a137-e9dbcd8040d4": {
     "id": "1887e880-fd17-4878-a137-e9dbcd8040d4",
     "prev": "11de6f98-25d4-4f7d-8b0a-82cd3eab68fb",
     "regions": {
      "f5ec8ec3-0fca-4da9-af20-e04a407d97ce": {
       "attrs": {
        "height": 0.8,
        "width": 0.8,
        "x": 0.1,
        "y": 0.1
       },
       "content": {
        "cell": "d3c13fc7-454c-4e3c-96a8-2e50b2ca29f0",
        "part": "whole"
       },
       "id": "f5ec8ec3-0fca-4da9-af20-e04a407d97ce"
      }
     }
    },
    "1b6a02b0-efdc-414d-8720-317a7fc8bad5": {
     "id": "1b6a02b0-efdc-414d-8720-317a7fc8bad5",
     "prev": "35ed9aef-9ca1-40d4-91bb-d61b8f7e0b8e",
     "regions": {
      "e541ffa4-1db7-49e4-bdff-5d6c694c21b8": {
       "attrs": {
        "height": 0.8,
        "width": 0.8,
        "x": 0.1,
        "y": 0.1
       },
       "content": {
        "cell": "0e2786ae-f947-4014-84c1-299c2149fdf5",
        "part": "whole"
       },
       "id": "e541ffa4-1db7-49e4-bdff-5d6c694c21b8"
      }
     }
    },
    "1fda4606-3f0b-46ec-80bd-56ade161ae2b": {
     "id": "1fda4606-3f0b-46ec-80bd-56ade161ae2b",
     "prev": "b39d1355-61d9-4d11-ae64-8c409db30dfb",
     "regions": {
      "54007c43-1672-4e94-b623-615e3801be30": {
       "attrs": {
        "height": 0.8,
        "width": 0.8,
        "x": 0.1,
        "y": 0.1
       },
       "content": {
        "cell": "3844613e-5d79-466c-b395-3c96648cfd51",
        "part": "whole"
       },
       "id": "54007c43-1672-4e94-b623-615e3801be30"
      }
     }
    },
    "22194a53-3e27-4b92-a9ae-944414992132": {
     "id": "22194a53-3e27-4b92-a9ae-944414992132",
     "prev": "ea904ecc-e604-4319-ac46-b3fe6a997380",
     "regions": {
      "dad9533f-7143-4d98-803c-4a9139ee590a": {
       "attrs": {
        "height": 0.8,
        "width": 0.8,
        "x": 0.1,
        "y": 0.1
       },
       "content": {
        "cell": "65e09fbd-7114-469d-af48-7da8f9f1a82a",
        "part": "whole"
       },
       "id": "dad9533f-7143-4d98-803c-4a9139ee590a"
      }
     }
    },
    "2d1c7956-709e-4541-8659-d780637a6723": {
     "id": "2d1c7956-709e-4541-8659-d780637a6723",
     "prev": "07b297d9-6d6e-4e36-9ebe-fb29facb86b6",
     "regions": {
      "af87200b-feb7-4c87-8734-e482273c93cc": {
       "attrs": {
        "height": 0.8,
        "width": 0.8,
        "x": 0.1,
        "y": 0.1
       },
       "content": {
        "cell": "f377b8b3-a328-4c7b-b46f-d67df7feb145",
        "part": "whole"
       },
       "id": "af87200b-feb7-4c87-8734-e482273c93cc"
      }
     }
    },
    "354f407d-df5c-4902-bfc0-2cd96199ef00": {
     "id": "354f407d-df5c-4902-bfc0-2cd96199ef00",
     "prev": "8601cfd1-1810-48b8-a7f8-cbb52fc0ac26",
     "regions": {
      "59235d49-4a37-4f7f-974f-5fe535dcdc77": {
       "attrs": {
        "height": 0.8,
        "width": 0.8,
        "x": 0.1,
        "y": 0.1
       },
       "content": {
        "cell": "9e192d56-e4d4-47c7-a0a4-596e6fb4bac4",
        "part": "whole"
       },
       "id": "59235d49-4a37-4f7f-974f-5fe535dcdc77"
      }
     }
    },
    "35ed9aef-9ca1-40d4-91bb-d61b8f7e0b8e": {
     "id": "35ed9aef-9ca1-40d4-91bb-d61b8f7e0b8e",
     "prev": "af473693-0fc4-40d8-a3bd-ece13919cd35",
     "regions": {
      "597f50c0-6f78-4c03-a072-e92834dc6616": {
       "attrs": {
        "height": 0.8,
        "width": 0.8,
        "x": 0.1,
        "y": 0.1
       },
       "content": {
        "cell": "932745c6-d287-439b-bb65-ba9070356e04",
        "part": "whole"
       },
       "id": "597f50c0-6f78-4c03-a072-e92834dc6616"
      }
     }
    },
    "3bac7704-bc92-43da-b1c3-be85d0146888": {
     "id": "3bac7704-bc92-43da-b1c3-be85d0146888",
     "prev": "5621313a-c71a-4eba-9121-3657827b18ae",
     "regions": {
      "5f09ea10-48e6-4097-889d-c9b3cfde5ad4": {
       "attrs": {
        "height": 0.8,
        "width": 0.8,
        "x": 0.1,
        "y": 0.1
       },
       "content": {
        "cell": "a8dc0178-9191-4ca4-86d9-60e4f28d51e6",
        "part": "whole"
       },
       "id": "5f09ea10-48e6-4097-889d-c9b3cfde5ad4"
      }
     }
    },
    "3fda421a-883a-4705-a858-7e106f3f689f": {
     "id": "3fda421a-883a-4705-a858-7e106f3f689f",
     "layout": "treemap",
     "prev": "1887e880-fd17-4878-a137-e9dbcd8040d4",
     "regions": {
      "0bf653c7-9900-46dc-b41e-74295373facf": {
       "attrs": {
        "height": 0.67,
        "treemap:weight": 1,
        "width": 0.5,
        "x": 0,
        "y": 0
       },
       "id": "0bf653c7-9900-46dc-b41e-74295373facf"
      },
      "83a49f1b-f203-47c3-ba69-1d76633d5ce7": {
       "attrs": {
        "height": 0.67,
        "treemap:weight": 1,
        "width": 0.5,
        "x": 0.5,
        "y": 0
       },
       "id": "83a49f1b-f203-47c3-ba69-1d76633d5ce7"
      },
      "f840bf9b-b3e2-48b5-8811-4b20bc7e39e3": {
       "attrs": {
        "height": 0.33,
        "treemap:weight": 1,
        "width": 1,
        "x": 0,
        "y": 0.67
       },
       "content": {
        "cell": "dc27e9ca-a1c2-434b-b471-8c1d28846957",
        "part": "whole"
       },
       "id": "f840bf9b-b3e2-48b5-8811-4b20bc7e39e3"
      }
     }
    },
    "44977aaa-1a02-4f91-9e48-0b6bd9925dc7": {
     "id": "44977aaa-1a02-4f91-9e48-0b6bd9925dc7",
     "prev": "9eec474d-b07d-4f10-8529-9b9dd6e5926a",
     "regions": {
      "cd8df8e1-03ce-469e-9732-a92464ec289a": {
       "attrs": {
        "height": 0.8,
        "width": 0.8,
        "x": 0.1,
        "y": 0.1
       },
       "content": {
        "cell": "1e6d7efb-a14c-473f-9c79-02b6e03314ec",
        "part": "whole"
       },
       "id": "cd8df8e1-03ce-469e-9732-a92464ec289a"
      }
     }
    },
    "4b8187a1-196a-409a-b630-ffb6b2439e8c": {
     "id": "4b8187a1-196a-409a-b630-ffb6b2439e8c",
     "prev": "03f0f41e-72e5-465a-891a-fcce8c0ebae5",
     "regions": {
      "bcfdd4a1-7379-4bd1-a1ad-96b37e44a9de": {
       "attrs": {
        "height": 0.8,
        "width": 0.8,
        "x": 0.1,
        "y": 0.1
       },
       "content": {
        "cell": "8333d515-ec4b-43b4-a36e-6a18f2aee009",
        "part": "whole"
       },
       "id": "bcfdd4a1-7379-4bd1-a1ad-96b37e44a9de"
      }
     }
    },
    "4e46e254-0138-41d1-b31d-e3fd2efa830d": {
     "id": "4e46e254-0138-41d1-b31d-e3fd2efa830d",
     "prev": "162c68a2-7967-4ed1-b4bc-c6e1a23d22fb",
     "regions": {
      "507cd9aa-00dc-4f82-9dd7-31a88a547196": {
       "attrs": {
        "height": 0.8,
        "width": 0.8,
        "x": 0.1,
        "y": 0.1
       },
       "content": {
        "cell": "376823f5-d66a-419a-a1e5-2681c64ab367",
        "part": "whole"
       },
       "id": "507cd9aa-00dc-4f82-9dd7-31a88a547196"
      }
     }
    },
    "5517748c-4d2c-43d3-bb38-7953e16c98b6": {
     "id": "5517748c-4d2c-43d3-bb38-7953e16c98b6",
     "prev": "7d48a358-4380-49d2-b1e8-113f7807d854",
     "regions": {
      "eb205a2e-6631-48b6-9982-d4c8972fc396": {
       "attrs": {
        "height": 0.8,
        "width": 0.8,
        "x": 0.1,
        "y": 0.1
       },
       "content": {
        "cell": "7115a57f-9f5f-4fc9-a431-6b01037776f6",
        "part": "whole"
       },
       "id": "eb205a2e-6631-48b6-9982-d4c8972fc396"
      }
     }
    },
    "5621313a-c71a-4eba-9121-3657827b18ae": {
     "id": "5621313a-c71a-4eba-9121-3657827b18ae",
     "prev": "91f3e3bb-a8fd-4637-9955-bf9f2888e440",
     "regions": {
      "f3804628-5ee8-4192-af3c-91d3e024b274": {
       "attrs": {
        "height": 0.8,
        "width": 0.8,
        "x": 0.1,
        "y": 0.1
       },
       "content": {
        "cell": "5904773e-96b4-416c-a975-3ba9a5deb97c",
        "part": "whole"
       },
       "id": "f3804628-5ee8-4192-af3c-91d3e024b274"
      }
     }
    },
    "562ca01a-05d8-4d33-a70b-c09959ca6b09": {
     "id": "562ca01a-05d8-4d33-a70b-c09959ca6b09",
     "prev": "5517748c-4d2c-43d3-bb38-7953e16c98b6",
     "regions": {
      "004c418d-f69e-45d2-8634-4888cbc9e65b": {
       "attrs": {
        "height": 0.8,
        "width": 0.8,
        "x": 0.1,
        "y": 0.1
       },
       "content": {
        "cell": "5aadbcc7-f3ca-4392-872b-d8b1ec82e580",
        "part": "whole"
       },
       "id": "004c418d-f69e-45d2-8634-4888cbc9e65b"
      }
     }
    },
    "56999141-7f6e-42b4-8cf5-ea037a72492b": {
     "id": "56999141-7f6e-42b4-8cf5-ea037a72492b",
     "prev": "0e8646e5-b979-4d13-83f9-151846e16dd1",
     "regions": {
      "620feefc-66f9-4a29-a9d1-9ce21b2bbd0d": {
       "attrs": {
        "height": 0.8,
        "width": 0.8,
        "x": 0.1,
        "y": 0.1
       },
       "content": {
        "cell": "aa66eb81-7b31-45c4-bce8-62f8dc5dfac4",
        "part": "whole"
       },
       "id": "620feefc-66f9-4a29-a9d1-9ce21b2bbd0d"
      }
     }
    },
    "59679e19-821c-44ee-9f36-a9517bf706f7": {
     "id": "59679e19-821c-44ee-9f36-a9517bf706f7",
     "prev": "d7623bd8-7b7d-4bae-9be9-bc36740d239f",
     "regions": {
      "eafc8860-8fd2-4f95-b487-ecd981703f6a": {
       "attrs": {
        "height": 0.8,
        "width": 0.8,
        "x": 0.1,
        "y": 0.1
       },
       "content": {
        "cell": "57b7659d-36bf-45c3-85ce-36da88e176c0",
        "part": "whole"
       },
       "id": "eafc8860-8fd2-4f95-b487-ecd981703f6a"
      }
     }
    },
    "5fd918fe-05d4-448d-89f4-940a59c36987": {
     "id": "5fd918fe-05d4-448d-89f4-940a59c36987",
     "prev": "7a2fa253-1e9b-45ca-9c80-5f2f770f34fa",
     "regions": {
      "02204215-6034-49bf-b0a5-b5fa5fb68fbe": {
       "attrs": {
        "height": 0.8,
        "width": 0.8,
        "x": 0.1,
        "y": 0.1
       },
       "content": {
        "cell": "c15f88d2-8d83-42f3-a311-b982add0e6da",
        "part": "whole"
       },
       "id": "02204215-6034-49bf-b0a5-b5fa5fb68fbe"
      }
     }
    },
    "6999b87b-d878-4efc-954b-27643ff6d737": {
     "id": "6999b87b-d878-4efc-954b-27643ff6d737",
     "prev": "06dcc081-685d-40d1-b2ec-b57084fe702f",
     "regions": {
      "2d454128-0e6c-4858-b343-ca5eca54040c": {
       "attrs": {
        "height": 0.8,
        "width": 0.8,
        "x": 0.1,
        "y": 0.1
       },
       "content": {
        "cell": "4e28aa31-4e35-4757-a8e3-5d1fce7e14b5",
        "part": "whole"
       },
       "id": "2d454128-0e6c-4858-b343-ca5eca54040c"
      }
     }
    },
    "7611359c-5462-4b76-865e-93de981c2d12": {
     "id": "7611359c-5462-4b76-865e-93de981c2d12",
     "prev": "cc51be5c-366c-49b5-805b-9f4e73b24bf5",
     "regions": {
      "000aa0d4-9341-4960-a341-93aa99a13dfb": {
       "attrs": {
        "height": 0.8,
        "width": 0.8,
        "x": 0.1,
        "y": 0.1
       },
       "content": {
        "cell": "f9495fee-55b1-4c8c-baee-cb4dc2b4787e",
        "part": "whole"
       },
       "id": "000aa0d4-9341-4960-a341-93aa99a13dfb"
      }
     }
    },
    "76b2c0ba-158b-4748-816b-dca00f0deee3": {
     "id": "76b2c0ba-158b-4748-816b-dca00f0deee3",
     "prev": "8f99e2cf-81aa-4c48-9532-b45f861c0557",
     "regions": {
      "19ff3583-7656-4b9f-b56c-355cfc92e651": {
       "attrs": {
        "height": 0.8,
        "width": 0.8,
        "x": 0.1,
        "y": 0.1
       },
       "content": {
        "cell": "9e97dea6-5c2c-45fc-8ee8-1f6445ca0434",
        "part": "whole"
       },
       "id": "19ff3583-7656-4b9f-b56c-355cfc92e651"
      }
     }
    },
    "7a2fa253-1e9b-45ca-9c80-5f2f770f34fa": {
     "id": "7a2fa253-1e9b-45ca-9c80-5f2f770f34fa",
     "prev": "562ca01a-05d8-4d33-a70b-c09959ca6b09",
     "regions": {
      "fc911c6d-6a7f-4cb7-841c-4ff448c05fee": {
       "attrs": {
        "height": 0.8,
        "width": 0.8,
        "x": 0.1,
        "y": 0.1
       },
       "content": {
        "cell": "30f32c90-6647-4221-9ff4-ebf01ad5d3e9",
        "part": "whole"
       },
       "id": "fc911c6d-6a7f-4cb7-841c-4ff448c05fee"
      }
     }
    },
    "7d48a358-4380-49d2-b1e8-113f7807d854": {
     "id": "7d48a358-4380-49d2-b1e8-113f7807d854",
     "prev": "af2c6b39-f625-498e-a404-6a89181196df",
     "regions": {
      "11b65ad3-c49a-4cd3-99e6-c2c46b951930": {
       "attrs": {
        "height": 0.8,
        "width": 0.8,
        "x": 0.1,
        "y": 0.1
       },
       "content": {
        "cell": "638afc9e-b059-47e0-993f-25aaa784c42a",
        "part": "whole"
       },
       "id": "11b65ad3-c49a-4cd3-99e6-c2c46b951930"
      }
     }
    },
    "853c4a6a-4ee0-442b-833e-b2f234f33a71": {
     "id": "853c4a6a-4ee0-442b-833e-b2f234f33a71",
     "prev": "b33d959d-c49a-46a5-b0c4-2d484b2f90b2",
     "regions": {
      "773f5900-38a8-40dd-a84a-acdf41e9f0ba": {
       "attrs": {
        "height": 0.8,
        "width": 0.8,
        "x": 0.1,
        "y": 0.1
       },
       "content": {
        "cell": "a6dc59e7-864f-4641-9b27-043c46448e36",
        "part": "whole"
       },
       "id": "773f5900-38a8-40dd-a84a-acdf41e9f0ba"
      }
     }
    },
    "8601cfd1-1810-48b8-a7f8-cbb52fc0ac26": {
     "id": "8601cfd1-1810-48b8-a7f8-cbb52fc0ac26",
     "prev": "1b6a02b0-efdc-414d-8720-317a7fc8bad5",
     "regions": {
      "009fcb5e-05f9-4ba7-8ea8-e53fc3180d41": {
       "attrs": {
        "height": 0.8,
        "width": 0.8,
        "x": 0.1,
        "y": 0.1
       },
       "content": {
        "cell": "18d1c0ba-5c76-44c6-be3b-32b34ab5b8fb",
        "part": "whole"
       },
       "id": "009fcb5e-05f9-4ba7-8ea8-e53fc3180d41"
      }
     }
    },
    "8a356c6f-f38a-4c16-a2ee-264336f2df18": {
     "id": "8a356c6f-f38a-4c16-a2ee-264336f2df18",
     "prev": "56999141-7f6e-42b4-8cf5-ea037a72492b",
     "regions": {
      "0b639af3-6810-422c-963d-9cc56de87e36": {
       "attrs": {
        "height": 0.8,
        "width": 0.8,
        "x": 0.1,
        "y": 0.1
       },
       "content": {
        "cell": "f3888341-1b28-43d2-b834-5adae4395c23",
        "part": "whole"
       },
       "id": "0b639af3-6810-422c-963d-9cc56de87e36"
      }
     }
    },
    "8e422e8d-345b-4604-b274-f85902269504": {
     "id": "8e422e8d-345b-4604-b274-f85902269504",
     "prev": "9d158125-6b66-4d10-ad14-ceb445665f8f",
     "regions": {
      "4b02edb8-c3eb-4be9-8385-f62710353633": {
       "attrs": {
        "height": 0.8,
        "width": 0.8,
        "x": 0.1,
        "y": 0.1
       },
       "content": {
        "cell": "bc69fa22-950a-4333-8d9a-e0860953138e",
        "part": "whole"
       },
       "id": "4b02edb8-c3eb-4be9-8385-f62710353633"
      }
     }
    },
    "8f99e2cf-81aa-4c48-9532-b45f861c0557": {
     "id": "8f99e2cf-81aa-4c48-9532-b45f861c0557",
     "prev": "8a356c6f-f38a-4c16-a2ee-264336f2df18",
     "regions": {
      "13442498-c2a7-4753-9eda-0034d7fd112e": {
       "attrs": {
        "height": 0.8,
        "width": 0.8,
        "x": 0.1,
        "y": 0.1
       },
       "content": {
        "cell": "550f8562-90e7-4255-aaa0-99e4125c92a5",
        "part": "whole"
       },
       "id": "13442498-c2a7-4753-9eda-0034d7fd112e"
      }
     }
    },
    "91f3e3bb-a8fd-4637-9955-bf9f2888e440": {
     "id": "91f3e3bb-a8fd-4637-9955-bf9f2888e440",
     "prev": "1fda4606-3f0b-46ec-80bd-56ade161ae2b",
     "regions": {
      "786b2dca-bec9-462e-b78e-38c9c9125655": {
       "attrs": {
        "height": 0.8,
        "width": 0.8,
        "x": 0.1,
        "y": 0.1
       },
       "content": {
        "cell": "54a033f6-aa02-45f7-98e1-5bbfecd759d4",
        "part": "whole"
       },
       "id": "786b2dca-bec9-462e-b78e-38c9c9125655"
      }
     }
    },
    "9965c216-2131-4056-9b6a-d925b2172909": {
     "id": "9965c216-2131-4056-9b6a-d925b2172909",
     "prev": "ec238400-9764-4255-ba3e-481ef623d2c8",
     "regions": {
      "7ece9b91-6a11-4e21-93f9-98726e82530b": {
       "attrs": {
        "height": 0.8,
        "width": 0.8,
        "x": 0.1,
        "y": 0.1
       },
       "content": {
        "cell": "32101dbc-24c7-444d-ae4c-57d67e53124c",
        "part": "whole"
       },
       "id": "7ece9b91-6a11-4e21-93f9-98726e82530b"
      }
     }
    },
    "9d158125-6b66-4d10-ad14-ceb445665f8f": {
     "id": "9d158125-6b66-4d10-ad14-ceb445665f8f",
     "prev": "76b2c0ba-158b-4748-816b-dca00f0deee3",
     "regions": {
      "47b476cb-76c7-41a7-a7b1-73e85b6834b6": {
       "attrs": {
        "height": 0.8,
        "width": 0.8,
        "x": 0.1,
        "y": 0.1
       },
       "content": {
        "cell": "17bb106d-9424-4c0d-9a2a-863efbfbdc67",
        "part": "whole"
       },
       "id": "47b476cb-76c7-41a7-a7b1-73e85b6834b6"
      }
     }
    },
    "9eec474d-b07d-4f10-8529-9b9dd6e5926a": {
     "id": "9eec474d-b07d-4f10-8529-9b9dd6e5926a",
     "prev": "da2c55c0-5c73-40f1-841f-87da14e04ad4",
     "regions": {
      "05137ee6-d98f-4fd7-b49e-87321efdd110": {
       "attrs": {
        "height": 0.8,
        "width": 0.8,
        "x": 0.1,
        "y": 0.1
       },
       "content": {
        "cell": "48e859d4-ce55-4b87-9d2a-2c8250546959",
        "part": "whole"
       },
       "id": "05137ee6-d98f-4fd7-b49e-87321efdd110"
      }
     }
    },
    "a1c47ccc-fa20-4d5e-820c-56a649a387d3": {
     "id": "a1c47ccc-fa20-4d5e-820c-56a649a387d3",
     "prev": "853c4a6a-4ee0-442b-833e-b2f234f33a71",
     "regions": {
      "eeb882bc-9f0d-4ad0-b23c-ca0d3dd36503": {
       "attrs": {
        "height": 0.8,
        "width": 0.8,
        "x": 0.1,
        "y": 0.1
       },
       "content": {
        "cell": "aa89e4e0-344f-4e05-ac87-558d99b90bd2",
        "part": "whole"
       },
       "id": "eeb882bc-9f0d-4ad0-b23c-ca0d3dd36503"
      }
     }
    },
    "af2c6b39-f625-498e-a404-6a89181196df": {
     "id": "af2c6b39-f625-498e-a404-6a89181196df",
     "prev": "dd12bb3c-34cd-40c3-a9bd-2a0f35912e6c",
     "regions": {
      "a1ee3020-f284-426f-b04a-1f47eee33487": {
       "attrs": {
        "height": 0.8,
        "width": 0.8,
        "x": 0.1,
        "y": 0.1
       },
       "content": {
        "cell": "94d01297-cf66-4161-b21c-b11d83bbcd1b",
        "part": "whole"
       },
       "id": "a1ee3020-f284-426f-b04a-1f47eee33487"
      }
     }
    },
    "af473693-0fc4-40d8-a3bd-ece13919cd35": {
     "id": "af473693-0fc4-40d8-a3bd-ece13919cd35",
     "prev": "5fd918fe-05d4-448d-89f4-940a59c36987",
     "regions": {
      "12589cca-a4ae-427e-96d2-58086d5b6be9": {
       "attrs": {
        "height": 0.44610779736518924,
        "width": 0.8,
        "x": 0.06766467184047416,
        "y": 0.38383232495583813
       },
       "id": "12589cca-a4ae-427e-96d2-58086d5b6be9"
      },
      "165fe3fe-59e9-48e6-a4f4-67721ffccf59": {
       "attrs": {
        "height": 0.2269461287284028,
        "width": 0.9455089767178665,
        "x": 0.02623503263608163,
        "y": 0.03353293656097462
       },
       "content": {
        "cell": "dcfaf403-c5f8-4afd-99e0-e146e133a8e8",
        "part": "whole"
       },
       "id": "165fe3fe-59e9-48e6-a4f4-67721ffccf59"
      },
      "57a6150c-3e2c-4588-afa4-cf251ffca73a": {
       "attrs": {
        "height": 0.6185628808826605,
        "width": 0.8,
        "x": 0.07979041990029635,
        "y": 0.2994011903170762
       },
       "id": "57a6150c-3e2c-4588-afa4-cf251ffca73a"
      }
     }
    },
    "b33d959d-c49a-46a5-b0c4-2d484b2f90b2": {
     "id": "b33d959d-c49a-46a5-b0c4-2d484b2f90b2",
     "prev": "22194a53-3e27-4b92-a9ae-944414992132",
     "regions": {
      "ac8805e3-f140-4110-9ce7-e68e5514bc73": {
       "attrs": {
        "height": 0.8,
        "width": 0.8,
        "x": 0.1,
        "y": 0.1
       },
       "content": {
        "cell": "ab545b0e-748a-46f3-9f85-086d979aad0b",
        "part": "whole"
       },
       "id": "ac8805e3-f140-4110-9ce7-e68e5514bc73"
      }
     }
    },
    "b39d1355-61d9-4d11-ae64-8c409db30dfb": {
     "id": "b39d1355-61d9-4d11-ae64-8c409db30dfb",
     "prev": "6999b87b-d878-4efc-954b-27643ff6d737",
     "regions": {
      "217d378b-321e-4cc8-ba04-a11bc006af0c": {
       "attrs": {
        "height": 0.8,
        "width": 0.8,
        "x": 0.1,
        "y": 0.1
       },
       "content": {
        "cell": "33b3ba04-f013-48f9-9b50-23fe51c3dba8",
        "part": "whole"
       },
       "id": "217d378b-321e-4cc8-ba04-a11bc006af0c"
      }
     }
    },
    "b5c3ab6e-196b-4934-ae3f-4fa1bde1718a": {
     "id": "b5c3ab6e-196b-4934-ae3f-4fa1bde1718a",
     "prev": "8e422e8d-345b-4604-b274-f85902269504",
     "regions": {
      "3c28865a-23b6-4dc8-b44f-40f1c3ad8983": {
       "attrs": {
        "height": 0.8,
        "width": 0.8,
        "x": 0.1,
        "y": 0.1
       },
       "content": {
        "cell": "05a0a7ca-1237-4f7e-96c9-7cb0937d6589",
        "part": "whole"
       },
       "id": "3c28865a-23b6-4dc8-b44f-40f1c3ad8983"
      }
     }
    },
    "c72dacf0-005c-4f4e-a852-b4b6251ab6d0": {
     "id": "c72dacf0-005c-4f4e-a852-b4b6251ab6d0",
     "prev": "0b4d2b95-1698-4533-843a-7e26aaaa0772",
     "regions": {
      "87677ed9-4726-4371-896b-b7eb93c15249": {
       "attrs": {
        "height": 0.8,
        "width": 0.8,
        "x": 0.1,
        "y": 0.1
       },
       "content": {
        "cell": "c07f72c0-7bfe-4d3f-836d-5fd098722150",
        "part": "whole"
       },
       "id": "87677ed9-4726-4371-896b-b7eb93c15249"
      }
     }
    },
    "c7da3371-988e-4736-9430-6694d083a38e": {
     "id": "c7da3371-988e-4736-9430-6694d083a38e",
     "prev": "9965c216-2131-4056-9b6a-d925b2172909",
     "regions": {
      "4f516f7d-4f2f-4087-8214-cce6114f49ec": {
       "attrs": {
        "height": 0.8,
        "width": 0.8,
        "x": 0.1,
        "y": 0.1
       },
       "content": {
        "cell": "5d321840-97bb-4b83-a79f-1e01244195f3",
        "part": "whole"
       },
       "id": "4f516f7d-4f2f-4087-8214-cce6114f49ec"
      }
     }
    },
    "cc51be5c-366c-49b5-805b-9f4e73b24bf5": {
     "id": "cc51be5c-366c-49b5-805b-9f4e73b24bf5",
     "prev": "d4fbe71a-85dc-48e5-8c6f-c2d101f9b7cc",
     "regions": {
      "421dd5ca-837f-4450-a632-9ce93c49885e": {
       "attrs": {
        "height": 0.8,
        "width": 0.8,
        "x": 0.1,
        "y": 0.1
       },
       "content": {
        "cell": "797fa5be-978d-4d86-8f43-eef8e82faa25",
        "part": "whole"
       },
       "id": "421dd5ca-837f-4450-a632-9ce93c49885e"
      }
     }
    },
    "cca8309f-8789-427f-9b64-74d1e8a7e5c2": {
     "id": "cca8309f-8789-427f-9b64-74d1e8a7e5c2",
     "prev": "2d1c7956-709e-4541-8659-d780637a6723",
     "regions": {
      "dabfc22d-e5b4-4f2a-8343-1753c444fcf0": {
       "attrs": {
        "height": 0.8,
        "width": 0.8,
        "x": 0.1,
        "y": 0.1
       },
       "content": {
        "cell": "ec158598-6dca-44f8-ab97-2c06f97eed27",
        "part": "whole"
       },
       "id": "dabfc22d-e5b4-4f2a-8343-1753c444fcf0"
      }
     }
    },
    "d4c7d4ad-62ff-4549-be01-e6c5ea46fbff": {
     "id": "d4c7d4ad-62ff-4549-be01-e6c5ea46fbff",
     "prev": "354f407d-df5c-4902-bfc0-2cd96199ef00",
     "regions": {
      "83ada505-3629-496a-bd40-244fc4bfc655": {
       "attrs": {
        "height": 0.8,
        "width": 0.8,
        "x": 0.1,
        "y": 0.1
       },
       "content": {
        "cell": "8aa217e0-d789-49b7-a741-1d39b81a4d30",
        "part": "whole"
       },
       "id": "83ada505-3629-496a-bd40-244fc4bfc655"
      }
     }
    },
    "d4fbe71a-85dc-48e5-8c6f-c2d101f9b7cc": {
     "id": "d4fbe71a-85dc-48e5-8c6f-c2d101f9b7cc",
     "prev": "4b8187a1-196a-409a-b630-ffb6b2439e8c",
     "regions": {
      "7a179acf-a134-4658-910f-b2deab1c47e7": {
       "attrs": {
        "height": 0.8,
        "width": 0.8,
        "x": 0.1,
        "y": 0.1
       },
       "content": {
        "cell": "306676bb-04d2-4ac7-ba31-d4780cbf9266",
        "part": "whole"
       },
       "id": "7a179acf-a134-4658-910f-b2deab1c47e7"
      }
     }
    },
    "d7623bd8-7b7d-4bae-9be9-bc36740d239f": {
     "id": "d7623bd8-7b7d-4bae-9be9-bc36740d239f",
     "prev": "06485c82-3b2d-4ef6-af0a-ddb2313fbc69",
     "regions": {
      "f0786848-d319-4cc4-842a-b75e30c16f8b": {
       "attrs": {
        "height": 0.8,
        "width": 0.8,
        "x": 0.1,
        "y": 0.1
       },
       "content": {
        "cell": "9071e36a-19eb-4cd8-82e0-a6336ef6f3cd",
        "part": "whole"
       },
       "id": "f0786848-d319-4cc4-842a-b75e30c16f8b"
      }
     }
    },
    "da2c55c0-5c73-40f1-841f-87da14e04ad4": {
     "id": "da2c55c0-5c73-40f1-841f-87da14e04ad4",
     "prev": "cca8309f-8789-427f-9b64-74d1e8a7e5c2",
     "regions": {
      "10aadf8a-1aa0-4a5b-b561-e9c18b2c4e4b": {
       "attrs": {
        "height": 0.8,
        "width": 0.8,
        "x": 0.1,
        "y": 0.1
       },
       "content": {
        "cell": "30adafcf-b90e-491a-a3dd-973aa634014e",
        "part": "whole"
       },
       "id": "10aadf8a-1aa0-4a5b-b561-e9c18b2c4e4b"
      }
     }
    },
    "dd12bb3c-34cd-40c3-a9bd-2a0f35912e6c": {
     "id": "dd12bb3c-34cd-40c3-a9bd-2a0f35912e6c",
     "prev": "a1c47ccc-fa20-4d5e-820c-56a649a387d3",
     "regions": {
      "ecaeb147-1db5-4b46-a842-79db10309a6e": {
       "attrs": {
        "height": 0.8,
        "width": 0.8,
        "x": 0.1,
        "y": 0.1
       },
       "content": {
        "cell": "645c22ba-4d35-4a33-a941-4fcc1430ba18",
        "part": "whole"
       },
       "id": "ecaeb147-1db5-4b46-a842-79db10309a6e"
      }
     }
    },
    "e76ccbd1-f767-498e-aaba-c5794c95a84d": {
     "id": "e76ccbd1-f767-498e-aaba-c5794c95a84d",
     "prev": "b5c3ab6e-196b-4934-ae3f-4fa1bde1718a",
     "regions": {
      "0e890689-1a91-4caa-9174-e0e8eadd127b": {
       "attrs": {
        "height": 0.8,
        "width": 0.8,
        "x": 0.1,
        "y": 0.1
       },
       "content": {
        "cell": "05490f4c-ae22-4d0c-95d3-c585bcdacbec",
        "part": "whole"
       },
       "id": "0e890689-1a91-4caa-9174-e0e8eadd127b"
      }
     }
    },
    "ea904ecc-e604-4319-ac46-b3fe6a997380": {
     "id": "ea904ecc-e604-4319-ac46-b3fe6a997380",
     "prev": "fcd54aa5-fe84-4904-8042-3e1f66be3292",
     "regions": {
      "59a8c3ed-4da2-4a2d-bf19-fafe75be93d1": {
       "attrs": {
        "height": 0.8,
        "width": 0.8,
        "x": 0.1,
        "y": 0.1
       },
       "content": {
        "cell": "60332675-42c7-43ed-be84-c6bbf5405dd1",
        "part": "whole"
       },
       "id": "59a8c3ed-4da2-4a2d-bf19-fafe75be93d1"
      }
     }
    },
    "ec238400-9764-4255-ba3e-481ef623d2c8": {
     "id": "ec238400-9764-4255-ba3e-481ef623d2c8",
     "prev": "d4c7d4ad-62ff-4549-be01-e6c5ea46fbff",
     "regions": {
      "74c23331-19e8-4122-b07a-f7c367e07f6d": {
       "attrs": {
        "height": 0.8,
        "width": 0.8,
        "x": 0.1,
        "y": 0.1
       },
       "content": {
        "cell": "b8f24171-4449-4a41-86d7-665149316081",
        "part": "whole"
       },
       "id": "74c23331-19e8-4122-b07a-f7c367e07f6d"
      }
     }
    },
    "ed94d10f-9608-4a2d-8836-774c8faf548e": {
     "id": "ed94d10f-9608-4a2d-8836-774c8faf548e",
     "layout": "manual",
     "prev": null,
     "regions": {
      "a8a01519-7563-4750-bf8a-ea1068570ef8": {
       "attrs": {
        "height": 0.8,
        "width": 0.8,
        "x": 0.11616766407976295,
        "y": 0.10359281423994735
       },
       "content": {
        "cell": "52ee1c03-b1f0-4a3a-84a6-2682e757025d",
        "part": "whole"
       },
       "id": "a8a01519-7563-4750-bf8a-ea1068570ef8"
      }
     }
    },
    "fac0959b-ee1b-4c1f-b3ca-30865329b817": {
     "id": "fac0959b-ee1b-4c1f-b3ca-30865329b817",
     "prev": "59679e19-821c-44ee-9f36-a9517bf706f7",
     "regions": {
      "d454bde2-9c73-4058-ae42-982802957b49": {
       "attrs": {
        "height": 0.8,
        "width": 0.8,
        "x": 0.1,
        "y": 0.1
       },
       "content": {
        "cell": "7e8d346e-a018-4692-a5c5-1b183a8bd9b0",
        "part": "whole"
       },
       "id": "d454bde2-9c73-4058-ae42-982802957b49"
      }
     }
    },
    "fcd54aa5-fe84-4904-8042-3e1f66be3292": {
     "id": "fcd54aa5-fe84-4904-8042-3e1f66be3292",
     "prev": "ed94d10f-9608-4a2d-8836-774c8faf548e",
     "regions": {
      "b13023a9-b965-4eab-9958-c78aea18ce33": {
       "attrs": {
        "height": 0.8,
        "width": 0.8,
        "x": 0.1,
        "y": 0.1
       },
       "content": {
        "cell": "82ba3b56-6b9b-4a3c-9bac-ecd4a3037e17",
        "part": "whole"
       },
       "id": "b13023a9-b965-4eab-9958-c78aea18ce33"
      }
     }
    }
   },
   "themes": {}
  }
 },
 "nbformat": 4,
 "nbformat_minor": 1
}
