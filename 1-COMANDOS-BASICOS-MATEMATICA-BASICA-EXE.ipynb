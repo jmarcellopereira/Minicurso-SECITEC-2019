{
 "cells": [
  {
   "cell_type": "markdown",
   "metadata": {
    "nbpresent": {
     "id": "da174cc3-6acc-4402-960c-34169dc34f86"
    },
    "slideshow": {
     "slide_type": "slide"
    }
   },
   "source": [
    "# COMANDOS BÁSICOS E MATEMÁTICA BÁSICA \n",
    "## Como usar o os comandos da linguagem Julia\n",
    "\n",
    "Os comandos da linguagem Julia são muito parecidos com os comandos do MatLab, porém, não há a necessidade de terminar um comando com o \" ; \". Vejamos alguns pontos interessantes:\n",
    "\n",
    "- Ponto e virgula ao final do comando oculta o resultado;\n",
    "- Não há a necessidade de vetorizar uma variável do tipo vetor ou matriz*\n",
    "- Comentários são na forma de `#`\n",
    "- Todos os pacotes são escritos usando a primeira letra maiúscula entre aspas duplas;\n",
    "- Julia é \"Case-Sensitive\" F e f são diferentes;\n",
    "- Funções e comandos de controle de fluxo (`if, for, while...`) necessita de `end` para terminar o comando;\n",
    "- Macros são iniciados por `@nome_macro`"
   ]
  },
  {
   "cell_type": "markdown",
   "metadata": {
    "nbpresent": {
     "id": "5b87c55c-d01e-4be7-86ea-4e3a84d23465"
    },
    "slideshow": {
     "slide_type": "slide"
    }
   },
   "source": [
    "## Comandos preliminares"
   ]
  },
  {
   "cell_type": "code",
   "execution_count": 5,
   "metadata": {
    "nbpresent": {
     "id": "eda27b0c-417f-4d37-b55d-c96bba947b1a"
    },
    "scrolled": true
   },
   "outputs": [],
   "source": [
    "#Informações sobre o computador e linguagem\n"
   ]
  },
  {
   "cell_type": "code",
   "execution_count": 9,
   "metadata": {
    "nbpresent": {
     "id": "b0d0e2ea-2e77-4166-8a97-28307dd6a7d5"
    },
    "scrolled": false
   },
   "outputs": [],
   "source": [
    "# Ajuda "
   ]
  },
  {
   "cell_type": "code",
   "execution_count": 7,
   "metadata": {
    "nbpresent": {
     "id": "4f5c3116-8dc2-4877-bf36-89fe30f84e3a"
    }
   },
   "outputs": [],
   "source": [
    "# Número de cores do processador \n"
   ]
  },
  {
   "cell_type": "code",
   "execution_count": 19,
   "metadata": {},
   "outputs": [],
   "source": [
    "# resumo dos cores\n"
   ]
  },
  {
   "cell_type": "markdown",
   "metadata": {
    "nbpresent": {
     "id": "1dbe814c-1e35-45f6-a9e7-8c2842c56258"
    }
   },
   "source": [
    "## Matemática Básica"
   ]
  },
  {
   "cell_type": "markdown",
   "metadata": {
    "nbpresent": {
     "id": "144402f7-b43c-41cd-8cb7-6035fb8bd917"
    }
   },
   "source": [
    "**Cálculos Simples**"
   ]
  },
  {
   "cell_type": "code",
   "execution_count": 4,
   "metadata": {
    "nbpresent": {
     "id": "1fe3fb9f-982c-4fce-890b-dee9f2b4ed46"
    },
    "scrolled": true
   },
   "outputs": [],
   "source": [
    "# matematica simples (adicao, muliplicacao, divisao , potenciacao, radiciação)*\n"
   ]
  },
  {
   "cell_type": "code",
   "execution_count": 50,
   "metadata": {
    "nbpresent": {
     "id": "70c17fdf-32ed-4a8e-ab01-e926118f8355"
    },
    "slideshow": {
     "slide_type": "slide"
    }
   },
   "outputs": [],
   "source": [
    "# potencia de 10 1e-2\n",
    "                    "
   ]
  },
  {
   "cell_type": "code",
   "execution_count": 28,
   "metadata": {
    "nbpresent": {
     "id": "e120458b-a85c-43c7-b9db-65fc0aa7ea95"
    }
   },
   "outputs": [],
   "source": [
    "# exponencial e^3\n"
   ]
  },
  {
   "cell_type": "code",
   "execution_count": 7,
   "metadata": {
    "nbpresent": {
     "id": "d9c8acae-f772-4e99-a3e9-4976de8f6c3f"
    }
   },
   "outputs": [],
   "source": [
    "# expressoes numericas \n"
   ]
  },
  {
   "cell_type": "code",
   "execution_count": 49,
   "metadata": {
    "nbpresent": {
     "id": "a85d5052-c3a7-4e5c-94ae-d494216c4845"
    }
   },
   "outputs": [],
   "source": [
    "# MDC lcm\n"
   ]
  },
  {
   "cell_type": "code",
   "execution_count": 33,
   "metadata": {
    "nbpresent": {
     "id": "0e906205-ea57-4549-9a9a-e6f835147244"
    }
   },
   "outputs": [],
   "source": [
    "# MMC gcm\n"
   ]
  },
  {
   "cell_type": "code",
   "execution_count": 11,
   "metadata": {
    "nbpresent": {
     "id": "4e53a0be-afd6-43f8-8ef2-9865593320bd"
    }
   },
   "outputs": [],
   "source": [
    "# se usado o ponto e virgula, só será impresso a ultimo cálculo\n"
   ]
  },
  {
   "cell_type": "markdown",
   "metadata": {
    "nbpresent": {
     "id": "51687f2f-ad93-45c4-b7da-5f55ed11b51c"
    }
   },
   "source": [
    "**Cálculo trigonometrico/Hiperbólico**\n",
    "\n",
    "sin(x)    cos(x)    tan(x)    cot(x)    sec(x)    csc(x)  sinh(x)   cosh(x)   tanh(x)   coth(x)   sech(x)   csch(x)\n",
    "\n",
    "\n",
    "asin(x)   acos(x)   atan(x)   acot(x)   asec(x)   acsc(x)  acoth(x)  asech(x)  acsch(x)  sinc(x)   cosc(x)   atan2(x)"
   ]
  },
  {
   "cell_type": "code",
   "execution_count": 12,
   "metadata": {
    "nbpresent": {
     "id": "303976cc-0202-4d1a-bc2a-0032d177ca29"
    },
    "scrolled": true
   },
   "outputs": [],
   "source": [
    "# radiandos\n"
   ]
  },
  {
   "cell_type": "code",
   "execution_count": 51,
   "metadata": {
    "nbpresent": {
     "id": "e60ee2cd-d7aa-4c43-88d8-cb522b33c9fc"
    },
    "scrolled": true
   },
   "outputs": [],
   "source": [
    "# Para o angulo em grau (º), acrescenta-se o \"d\"\n"
   ]
  },
  {
   "cell_type": "markdown",
   "metadata": {
    "nbpresent": {
     "id": "d680f466-a2d9-4c75-9943-e28bbe8c7ca6"
    }
   },
   "source": [
    "**Cálculo Angular**"
   ]
  },
  {
   "cell_type": "code",
   "execution_count": 37,
   "metadata": {
    "nbpresent": {
     "id": "bab12e58-6388-476b-a094-496933c65ee1"
    }
   },
   "outputs": [],
   "source": [
    "# Converte x de graus to radianos deg2rad(angulo)\n"
   ]
  },
  {
   "cell_type": "code",
   "execution_count": 15,
   "metadata": {
    "nbpresent": {
     "id": "d7296799-c578-43ea-9649-db72a5e65a62"
    }
   },
   "outputs": [],
   "source": [
    "# Converte x de radianos para graus rad2deg(radianos)\n"
   ]
  },
  {
   "cell_type": "markdown",
   "metadata": {
    "nbpresent": {
     "id": "97232a45-f4db-4548-acfa-ee8b6e122ccb"
    }
   },
   "source": [
    "**Cálculo Exponencial/Logaritmo**"
   ]
  },
  {
   "cell_type": "code",
   "execution_count": 40,
   "metadata": {
    "nbpresent": {
     "id": "88ea95a2-28db-4427-8a49-b136b519891f"
    }
   },
   "outputs": [],
   "source": [
    "# Função exponencial natural em x: exp(numero)\n"
   ]
  },
  {
   "cell_type": "code",
   "execution_count": 17,
   "metadata": {
    "nbpresent": {
     "id": "f745faa3-da2a-4f43-b065-a32d96c0841b"
    }
   },
   "outputs": [],
   "source": [
    "# base b logaritmo de x  log(base,numero)\n"
   ]
  },
  {
   "cell_type": "code",
   "execution_count": 18,
   "metadata": {
    "nbpresent": {
     "id": "727e9375-ed08-464a-b1a1-709871c41793"
    }
   },
   "outputs": [],
   "source": [
    "# logaritmo de base 2  log2(numero)\n"
   ]
  },
  {
   "cell_type": "code",
   "execution_count": 19,
   "metadata": {
    "nbpresent": {
     "id": "7b280659-f632-4e31-8ee3-30325acd7a20"
    }
   },
   "outputs": [],
   "source": [
    "# logaritmo de base 10 log10(numero)\n"
   ]
  },
  {
   "cell_type": "markdown",
   "metadata": {
    "nbpresent": {
     "id": "0200c5fc-bfca-439e-817f-fc6879931c3a"
    }
   },
   "source": [
    "**Binario/Octal/Hexadecimal**"
   ]
  },
  {
   "cell_type": "code",
   "execution_count": null,
   "metadata": {
    "nbpresent": {
     "id": "f7be28f1-b47a-47e1-b7aa-4fd8034f89d6"
    }
   },
   "outputs": [],
   "source": []
  },
  {
   "cell_type": "markdown",
   "metadata": {
    "nbpresent": {
     "id": "f4267be9-ce03-418a-a4ab-75960b414658"
    }
   },
   "source": [
    "### Resumo Principais Comandos de matemática"
   ]
  },
  {
   "cell_type": "markdown",
   "metadata": {
    "nbpresent": {
     "id": "173e2b5e-365a-4a85-9378-40b66376d2ce"
    }
   },
   "source": [
    "<table align=\"left\">\n",
    "<tbody>\n",
    "<tr class=\"odd\">\n",
    "<td style=\"text-align: left;\">round (x) - arredonda para o número inteiro mais próximo.</td>\n",
    "</tr>\n",
    "<tr class=\"even\">\n",
    "<td style=\"text-align: left;\">iround (x) - arredonda para o número inteiro mais próximo, dando um resultado inteiro.</td>\n",
    "</tr>\n",
    "<tr class=\"odd\">\n",
    "<td style=\"text-align: left;\">floor (x) - arredonda direção -Inf.</td>\n",
    "</tr>\n",
    "<tr class=\"even\">\n",
    "<td style=\"text-align: left;\">ifloor (x) - arredonda direção -Inf, dando um resultado inteiro.</td>\n",
    "</tr>\n",
    "<tr class=\"odd\">\n",
    "<td style=\"text-align: left;\">ceil (x) - arredonda direção + Inf.</td>\n",
    "</tr>\n",
    "<tr class=\"even\">\n",
    "<td style=\"text-align: left;\">iceil (x) - arredonda direção + Inf, dando um resultado inteiro.</td>\n",
    "</tr>\n",
    "<tr class=\"odd\">\n",
    "<td style=\"text-align: left;\">trunc (x) - arredonda para zero.</td>\n",
    "</tr>\n",
    "<tr class=\"even\">\n",
    "<td style=\"text-align: left;\">itrunc (x) - arredonda para zero, dando um resultado inteiro.</td>\n",
    "</tr>\n",
    "<tr class=\"odd\">\n",
    "<td style=\"text-align: left;\">div (x, y) - truncado divisão; quociente truncado.</td>\n",
    "</tr>\n",
    "<tr class=\"even\">\n",
    "<td style=\"text-align: left;\">fld (x, y) - divisão de base; quociente arredondado em direção -Inf.</td>\n",
    "</tr>\n",
    "<tr class=\"odd\">\n",
    "<td style=\"text-align: left;\">rem (x, y) - resto; satisfaz x == div (x, y) + y rem (x, y), o que implica que corresponde ao sinal de x.</td>\n",
    "</tr>\n",
    "<tr class=\"even\">\n",
    "<td style=\"text-align: left;\">mod (x, y) - módulo; satisfaz x == fld (x, y) + y mod (x, y), o que implica que o sinal corresponde y.</td>\n",
    "</tr>\n",
    "<tr class=\"odd\">\n",
    "<td style=\"text-align: left;\">gcd (x, y ...) - máximo divisor comum de x, y ... com correspondência sinal x.</td>\n",
    "</tr>\n",
    "<tr class=\"even\">\n",
    "<td style=\"text-align: left;\">lcm (x, y ...) - mínimo múltiplo comum de x, y ... com correspondência sinal x.</td>\n",
    "</tr>\n",
    "<tr class=\"odd\">\n",
    "<td style=\"text-align: left;\">ABS (X) - um valor positivo com a magnitude de x.</td>\n",
    "</tr>\n",
    "<tr class=\"even\">\n",
    "<td style=\"text-align: left;\">Abs2 (X) - a magnitude quadrada de x.</td>\n",
    "</tr>\n",
    "<tr class=\"odd\">\n",
    "<td style=\"text-align: left;\">sinal (X) - indica o sinal de x, retornando -1, 0, ou 1.</td>\n",
    "</tr>\n",
    "<tr class=\"even\">\n",
    "<td style=\"text-align: left;\">signbit (x) - indica se o bit de sinal está ligado (1) ou desligado (0).</td>\n",
    "</tr>\n",
    "</tbody>\n",
    "</table>\n",
    "\n",
    "<table align=\"left\">\n",
    "<tbody>\n",
    "<tr class=\"odd\">\n",
    "<td style=\"text-align: left;\">copysign (x, y) - um valor com a magnitude de x e o sinal do y.</td>\n",
    "</tr>\n",
    "<tr class=\"even\">\n",
    "<td style=\"text-align: left;\">flipsign (x, y) - um valor com a magnitude de X e o sinal de x*y.</td>\n",
    "</tr>\n",
    "<tr class=\"odd\">\n",
    "<td style=\"text-align: left;\">sqrt (X) - a raiz quadrada de x.</td>\n",
    "</tr>\n",
    "<tr class=\"even\">\n",
    "<td style=\"text-align: left;\">cbrt (x) - a raiz cúbica de x.</td>\n",
    "</tr>\n",
    "<tr class=\"odd\">\n",
    "<td style=\"text-align: left;\">hypot (x, y) - sqrt (x + y ^ 2 ^ 2) para todos os valores de x e y.</td>\n",
    "</tr>\n",
    "<tr class=\"even\">\n",
    "<td style=\"text-align: left;\">exp (x) - a função exponencial natural em x.</td>\n",
    "</tr>\n",
    "<tr class=\"odd\">\n",
    "<td style=\"text-align: left;\">expm1 (X) - exp (x) -1 x para proximo zero.</td>\n",
    "</tr>\n",
    "<tr class=\"even\">\n",
    "<td style=\"text-align: left;\">ldexp (x, n) - x * 2 ^ n calculado de forma eficiente para valores inteiros de n.</td>\n",
    "</tr>\n",
    "<tr class=\"odd\">\n",
    "<td style=\"text-align: left;\">log (x) - o logaritmo natural de x.</td>\n",
    "</tr>\n",
    "<tr class=\"even\">\n",
    "<td style=\"text-align: left;\">log (b, x) - a base b logaritmo de x.</td>\n",
    "</tr>\n",
    "<tr class=\"odd\">\n",
    "<td style=\"text-align: left;\">log2 (x) - o logaritmo de base 2 x.</td>\n",
    "</tr>\n",
    "<tr class=\"even\">\n",
    "<td style=\"text-align: left;\">log10 (x) - o logaritmo de base 10 de x.</td>\n",
    "</tr>\n",
    "<tr class=\"odd\">\n",
    "<td style=\"text-align: left;\">log1p (X) - registo preciso (1 + x) x para proximo de zero.</td>\n",
    "</tr>\n",
    "<tr class=\"even\">\n",
    "<td style=\"text-align: left;\">logb (x) - retorna o expoente binário de x.</td>\n",
    "</tr>\n",
    "<tr class=\"odd\">\n",
    "<td style=\"text-align: left;\">erf (x) - a função de erro em x.</td>\n",
    "</tr>\n",
    "<tr class=\"even\">\n",
    "<td style=\"text-align: left;\">ERFC (x) - 1-erf (x) para x.</td>\n",
    "</tr>\n",
    "<tr class=\"odd\">\n",
    "<td style=\"text-align: left;\">gama (X) - a função gama em x.</td>\n",
    "</tr>\n",
    "<tr class=\"even\">\n",
    "<td style=\"text-align: left;\">lgamma (X) - log (gama (x)), de maior x.</td>\n",
    "</tr>\n",
    "</tbody>\n",
    "</table>\n",
    "\n"
   ]
  },
  {
   "cell_type": "markdown",
   "metadata": {
    "nbpresent": {
     "id": "001a70ba-d091-449a-8e42-34efa43c5f22"
    }
   },
   "source": [
    "## Memória Células"
   ]
  },
  {
   "cell_type": "code",
   "execution_count": 64,
   "metadata": {
    "nbpresent": {
     "id": "dfea0653-1a2c-4024-bc31-72ddd42872c9"
    },
    "scrolled": true
   },
   "outputs": [],
   "source": [
    "# expressão\n"
   ]
  },
  {
   "cell_type": "code",
   "execution_count": 52,
   "metadata": {
    "nbpresent": {
     "id": "f7172759-5ea9-4217-86fb-0579c3e720fc"
    }
   },
   "outputs": [],
   "source": [
    "# calculo anterior ans\n"
   ]
  },
  {
   "cell_type": "code",
   "execution_count": 66,
   "metadata": {
    "nbpresent": {
     "id": "aedaf9cf-db1a-438c-8e09-e5a824c3c6e3"
    },
    "scrolled": true
   },
   "outputs": [],
   "source": [
    "# Out[numero da celula que deseja recuperar a saída]\n"
   ]
  },
  {
   "cell_type": "code",
   "execution_count": 68,
   "metadata": {
    "nbpresent": {
     "id": "7f7703fb-ae56-443f-9d5c-d68730c2dd38"
    }
   },
   "outputs": [],
   "source": [
    "# In[numero da celula que deseja recuperar a entrada]\n"
   ]
  },
  {
   "cell_type": "markdown",
   "metadata": {
    "nbpresent": {
     "id": "d131b267-f4e2-423a-80a1-57a26cfd82e7"
    }
   },
   "source": [
    "**Historico dos Comandos**"
   ]
  },
  {
   "cell_type": "code",
   "execution_count": 85,
   "metadata": {
    "nbpresent": {
     "id": "32426dd6-70d0-4af1-952b-3f2bcfa4f40b"
    },
    "scrolled": false
   },
   "outputs": [],
   "source": [
    "# mostra todos os comandos de entrada In\n"
   ]
  },
  {
   "cell_type": "code",
   "execution_count": 25,
   "metadata": {
    "nbpresent": {
     "id": "77c70a33-8906-4788-b6e9-74f6636ebe10"
    }
   },
   "outputs": [],
   "source": [
    "# mostra todos os comandos de saída Out\n"
   ]
  },
  {
   "cell_type": "markdown",
   "metadata": {
    "nbpresent": {
     "id": "6d41a7a9-e5de-43ed-b85b-bd455fcad975"
    }
   },
   "source": [
    "## Calcular o tempo de processamento"
   ]
  },
  {
   "cell_type": "markdown",
   "metadata": {
    "nbpresent": {
     "id": "28aefe72-39ba-41e5-980c-7807f12a1142"
    }
   },
   "source": [
    "**Comando @time**\n",
    "\n",
    "Uma macro para executar uma expressão, imprimindo o tempo que levou para executar, o número de alocações, e o número total de bytes de sua execução."
   ]
  },
  {
   "cell_type": "code",
   "execution_count": 87,
   "metadata": {
    "nbpresent": {
     "id": "48b09064-a186-46aa-bde8-a2f32e09e1e1"
    },
    "scrolled": false
   },
   "outputs": [],
   "source": [
    "# Tempo calculo expressao\n"
   ]
  },
  {
   "cell_type": "markdown",
   "metadata": {
    "nbpresent": {
     "id": "6c6a178f-367b-4766-af71-de01fbd8edad"
    }
   },
   "source": [
    "**Comando @elapsed **\n",
    "\n",
    "Somente o tempo de processamento"
   ]
  },
  {
   "cell_type": "code",
   "execution_count": 91,
   "metadata": {
    "nbpresent": {
     "id": "6fdfb003-14e0-40ee-8e77-5ce3584367d0"
    },
    "scrolled": false
   },
   "outputs": [],
   "source": [
    "# Tempo calculo expressao\n"
   ]
  },
  {
   "cell_type": "markdown",
   "metadata": {
    "nbpresent": {
     "id": "6b96ffe7-059b-4786-8d1c-76c61c9e1ae4"
    }
   },
   "source": [
    "## Precisão de numeros significativos"
   ]
  },
  {
   "cell_type": "code",
   "execution_count": 97,
   "metadata": {
    "nbpresent": {
     "id": "06570997-e8b5-412e-b616-85a2b48022c6"
    },
    "scrolled": true
   },
   "outputs": [],
   "source": [
    "# numero PI com oito numeros após a virgura round(expressao, quantidade_numeros) arredondado\n"
   ]
  },
  {
   "cell_type": "code",
   "execution_count": 101,
   "metadata": {
    "nbpresent": {
     "id": "4b9e8991-da80-4f13-8b55-6a5fc2e45479"
    },
    "scrolled": true
   },
   "outputs": [],
   "source": [
    "# truncamento sem arredondamento trunc(numero, quantidade_numeros)\n"
   ]
  },
  {
   "cell_type": "markdown",
   "metadata": {
    "nbpresent": {
     "id": "9dbbb547-4ab8-40cb-b9b3-8cf0da3ea8ac"
    }
   },
   "source": [
    "## Comandos de impressão"
   ]
  },
  {
   "cell_type": "markdown",
   "metadata": {
    "nbpresent": {
     "id": "faf02136-bcef-4604-9a02-e9a171bc1e37"
    }
   },
   "source": [
    "**Comando print**\n",
    "\n",
    "Escreve na tela uma representação textual ou um valor se houver. A representação usada pelo comando inclui formatação mínima."
   ]
  },
  {
   "cell_type": "code",
   "execution_count": 103,
   "metadata": {
    "nbpresent": {
     "id": "9e24748c-6313-4b17-b53a-5be355512b66"
    }
   },
   "outputs": [],
   "source": [
    "# expressao\n"
   ]
  },
  {
   "cell_type": "markdown",
   "metadata": {
    "nbpresent": {
     "id": "29c1c0d5-a644-4ab7-b7f4-0cec660049c8"
    }
   },
   "source": [
    "**Comando display**\n",
    "\n",
    "Usa o nível superior de exibição aplicável na pilha de exibição, geralmente usando a mais rica produção multimedia com suporte para x"
   ]
  },
  {
   "cell_type": "code",
   "execution_count": 31,
   "metadata": {
    "nbpresent": {
     "id": "6a3d49e5-f330-465c-a592-a38912503b79"
    }
   },
   "outputs": [],
   "source": [
    "# expressao\n"
   ]
  },
  {
   "cell_type": "markdown",
   "metadata": {
    "nbpresent": {
     "id": "a63b577f-2828-4dae-a8be-55ab5340f26a"
    }
   },
   "source": [
    "**Comando @show**\n",
    "\n",
    "Mostra a expressão e o resultado"
   ]
  },
  {
   "cell_type": "code",
   "execution_count": 105,
   "metadata": {
    "nbpresent": {
     "id": "3738885c-38c8-49b0-af34-76e9376f7ac0"
    },
    "scrolled": true
   },
   "outputs": [],
   "source": [
    "# expressao\n"
   ]
  }
 ],
 "metadata": {
  "anaconda-cloud": {},
  "kernelspec": {
   "display_name": "Julia 0.6.4",
   "language": "julia",
   "name": "julia-0.6"
  },
  "language_info": {
   "file_extension": ".jl",
   "mimetype": "application/julia",
   "name": "julia",
   "version": "0.6.4"
  },
  "nbpresent": {
   "slides": {
    "01c0c3c8-aaa1-4de9-950b-aa8ec1742461": {
     "id": "01c0c3c8-aaa1-4de9-950b-aa8ec1742461",
     "prev": "39a79b9b-5f4a-4ea2-b6e1-7edacb1de182",
     "regions": {
      "af354d0d-aca9-4b9e-8c85-29bddf66d2ce": {
       "attrs": {
        "height": 0.8,
        "width": 0.8,
        "x": 0.1,
        "y": 0.1
       },
       "content": {
        "cell": "303976cc-0202-4d1a-bc2a-0032d177ca29",
        "part": "whole"
       },
       "id": "af354d0d-aca9-4b9e-8c85-29bddf66d2ce"
      }
     }
    },
    "02b2b33b-ced1-4f19-9789-8e4da5e117c1": {
     "id": "02b2b33b-ced1-4f19-9789-8e4da5e117c1",
     "prev": "b2052252-f3e9-45dc-b1fe-015e641f858b",
     "regions": {
      "3ee32d95-6ed6-4321-a07d-865c78c5dec0": {
       "attrs": {
        "height": 0.8,
        "width": 0.8,
        "x": 0.1,
        "y": 0.1
       },
       "content": {
        "cell": "3738885c-38c8-49b0-af34-76e9376f7ac0",
        "part": "whole"
       },
       "id": "3ee32d95-6ed6-4321-a07d-865c78c5dec0"
      }
     }
    },
    "0ab8ab8a-9cde-4de3-b064-811a7b9c2381": {
     "id": "0ab8ab8a-9cde-4de3-b064-811a7b9c2381",
     "prev": "ab606eb5-0db6-4df4-a105-7cb028f88b45",
     "regions": {
      "7d88aa4d-3849-40d8-8660-37ab0ca32690": {
       "attrs": {
        "height": 0.8,
        "width": 0.8,
        "x": 0.1,
        "y": 0.1
       },
       "content": {
        "cell": "6c6a178f-367b-4766-af71-de01fbd8edad",
        "part": "whole"
       },
       "id": "7d88aa4d-3849-40d8-8660-37ab0ca32690"
      }
     }
    },
    "0d7d880e-04d1-4f7f-87a4-4afbbd76ea0d": {
     "id": "0d7d880e-04d1-4f7f-87a4-4afbbd76ea0d",
     "prev": "ea6ac810-00d3-4318-81cf-f94b7c90d1a6",
     "regions": {
      "564a5110-4c7d-4f91-ab1d-5ed75018d03e": {
       "attrs": {
        "height": 0.8,
        "width": 0.8,
        "x": 0.1,
        "y": 0.1
       },
       "content": {
        "cell": "4b9e8991-da80-4f13-8b55-6a5fc2e45479",
        "part": "whole"
       },
       "id": "564a5110-4c7d-4f91-ab1d-5ed75018d03e"
      }
     }
    },
    "108f69c5-4a71-4a76-a899-14194d5525db": {
     "id": "108f69c5-4a71-4a76-a899-14194d5525db",
     "prev": "da7f1fa8-90a6-41f3-a9f9-406abab00c37",
     "regions": {
      "e3921165-d57d-4d4a-9d6f-405d37e66c76": {
       "attrs": {
        "height": 0.8,
        "width": 0.8,
        "x": 0.1,
        "y": 0.1
       },
       "content": {
        "cell": "1dbe814c-1e35-45f6-a9e7-8c2842c56258",
        "part": "whole"
       },
       "id": "e3921165-d57d-4d4a-9d6f-405d37e66c76"
      }
     }
    },
    "1604f7ed-2801-4f34-a1cf-df5381942341": {
     "id": "1604f7ed-2801-4f34-a1cf-df5381942341",
     "prev": "b29b9371-9de7-4700-b6f4-fb8f1434fa5e",
     "regions": {
      "e1b76a5a-e535-446f-ae1a-4d7d6b496c7d": {
       "attrs": {
        "height": 0.8,
        "width": 0.8,
        "x": 0.1,
        "y": 0.1
       },
       "content": {
        "cell": "cbb370cf-8822-45bd-9df4-63f65b2862e1",
        "part": "whole"
       },
       "id": "e1b76a5a-e535-446f-ae1a-4d7d6b496c7d"
      }
     }
    },
    "17f7ccef-d503-4fd3-99eb-356bc97055e2": {
     "id": "17f7ccef-d503-4fd3-99eb-356bc97055e2",
     "prev": "a44b8359-fde0-4e5e-afa1-a2b93a31da08",
     "regions": {
      "d17981d6-50f9-4b0d-a862-272df90e1edb": {
       "attrs": {
        "height": 0.8,
        "width": 0.8,
        "x": 0.1,
        "y": 0.1
       },
       "content": {
        "cell": "f7172759-5ea9-4217-86fb-0579c3e720fc",
        "part": "whole"
       },
       "id": "d17981d6-50f9-4b0d-a862-272df90e1edb"
      }
     }
    },
    "18cc370a-d7ef-496a-942d-0f0eb50bbf41": {
     "id": "18cc370a-d7ef-496a-942d-0f0eb50bbf41",
     "prev": "b63dd4fd-9b60-4a37-8577-8bab7ac6452f",
     "regions": {
      "f657f6d9-5dd0-4fab-bf7a-e84359b7cabb": {
       "attrs": {
        "height": 0.8,
        "width": 0.8,
        "x": 0.1,
        "y": 0.1
       },
       "content": {
        "cell": "f21a8d7b-c0c2-4426-8ba9-b0bd514c5339",
        "part": "whole"
       },
       "id": "f657f6d9-5dd0-4fab-bf7a-e84359b7cabb"
      }
     }
    },
    "21d0ab9a-7760-44de-98f3-8c9a74bad40e": {
     "id": "21d0ab9a-7760-44de-98f3-8c9a74bad40e",
     "prev": "1604f7ed-2801-4f34-a1cf-df5381942341",
     "regions": {
      "305b4a02-3185-4c6b-8315-b68898b53506": {
       "attrs": {
        "height": 0.8,
        "width": 0.8,
        "x": 0.1,
        "y": 0.1
       },
       "content": {
        "cell": "a85d5052-c3a7-4e5c-94ae-d494216c4845",
        "part": "whole"
       },
       "id": "305b4a02-3185-4c6b-8315-b68898b53506"
      }
     }
    },
    "25ace3c6-e43a-4577-8fa8-ef8336914e7e": {
     "id": "25ace3c6-e43a-4577-8fa8-ef8336914e7e",
     "prev": "403e5351-f0eb-4546-8715-33b7f12b6090",
     "regions": {
      "1eac2907-f657-4d56-908c-4d82e01b410d": {
       "attrs": {
        "height": 0.8,
        "width": 0.8,
        "x": 0.1,
        "y": 0.1
       },
       "content": {
        "cell": "29c1c0d5-a644-4ab7-b7f4-0cec660049c8",
        "part": "whole"
       },
       "id": "1eac2907-f657-4d56-908c-4d82e01b410d"
      }
     }
    },
    "288df20d-b05f-4a4f-b0d5-0af6360b90c9": {
     "id": "288df20d-b05f-4a4f-b0d5-0af6360b90c9",
     "prev": "9e162870-0a0d-4c43-906d-ac9ffc7d63ac",
     "regions": {
      "811b9338-e89f-40a4-8a37-2eac3fc3e3d9": {
       "attrs": {
        "height": 0.8,
        "width": 0.8,
        "x": 0.1,
        "y": 0.1
       },
       "content": {
        "cell": "97232a45-f4db-4548-acfa-ee8b6e122ccb",
        "part": "whole"
       },
       "id": "811b9338-e89f-40a4-8a37-2eac3fc3e3d9"
      }
     }
    },
    "2cfe02cf-2151-470a-ae48-8fafbcb1ee4d": {
     "id": "2cfe02cf-2151-470a-ae48-8fafbcb1ee4d",
     "prev": "dc6e22a6-678b-4877-8eee-6c58e57c4fa5",
     "regions": {
      "efa75c24-8e4f-4a95-a289-35ca7413d925": {
       "attrs": {
        "height": 0.8,
        "width": 0.8,
        "x": 0.1,
        "y": 0.1
       },
       "content": {
        "cell": "faf02136-bcef-4604-9a02-e9a171bc1e37",
        "part": "whole"
       },
       "id": "efa75c24-8e4f-4a95-a289-35ca7413d925"
      }
     }
    },
    "2d1df88f-4f5f-40c9-b6f1-b27fa376ccb7": {
     "id": "2d1df88f-4f5f-40c9-b6f1-b27fa376ccb7",
     "prev": "595a4fea-2825-42fc-8f5e-a828bceaf427",
     "regions": {
      "dd361d6b-ec06-470e-98b4-2cfb99904b94": {
       "attrs": {
        "height": 0.8,
        "width": 0.8,
        "x": 0.1,
        "y": 0.1
       },
       "content": {
        "cell": "32426dd6-70d0-4af1-952b-3f2bcfa4f40b",
        "part": "whole"
       },
       "id": "dd361d6b-ec06-470e-98b4-2cfb99904b94"
      }
     }
    },
    "369534e4-1db4-4877-a758-dcf0cb1eb9be": {
     "id": "369534e4-1db4-4877-a758-dcf0cb1eb9be",
     "prev": "17f7ccef-d503-4fd3-99eb-356bc97055e2",
     "regions": {
      "0873811c-da2d-4084-bab7-c415d40e2342": {
       "attrs": {
        "height": 0.8,
        "width": 0.8,
        "x": 0.1,
        "y": 0.1
       },
       "content": {
        "cell": "aedaf9cf-db1a-438c-8e09-e5a824c3c6e3",
        "part": "whole"
       },
       "id": "0873811c-da2d-4084-bab7-c415d40e2342"
      }
     }
    },
    "383b0548-1cc9-48d1-80fb-42ddd40f3b09": {
     "id": "383b0548-1cc9-48d1-80fb-42ddd40f3b09",
     "prev": "6ca4c042-75ea-470d-ae6d-fa116af0be05",
     "regions": {
      "f68bad7b-8722-4999-9271-715c7278abd0": {
       "attrs": {
        "height": 0.8,
        "width": 0.8,
        "x": 0.1,
        "y": 0.1
       },
       "content": {
        "cell": "03a11c96-445f-411e-999c-40256457ec49",
        "part": "whole"
       },
       "id": "f68bad7b-8722-4999-9271-715c7278abd0"
      }
     }
    },
    "387e2c99-325b-4dbf-a2dc-f26249bd2b22": {
     "id": "387e2c99-325b-4dbf-a2dc-f26249bd2b22",
     "prev": "5c531cd6-1eca-4364-a95c-62cf6d45d0fe",
     "regions": {
      "9dcb2ebd-50c7-46c8-89db-aa317864d771": {
       "attrs": {
        "height": 0.8,
        "width": 0.8,
        "x": 0.1,
        "y": 0.1
       },
       "content": {
        "cell": "f4267be9-ce03-418a-a4ab-75960b414658",
        "part": "whole"
       },
       "id": "9dcb2ebd-50c7-46c8-89db-aa317864d771"
      }
     }
    },
    "39a79b9b-5f4a-4ea2-b6e1-7edacb1de182": {
     "id": "39a79b9b-5f4a-4ea2-b6e1-7edacb1de182",
     "prev": "6c23ccb1-11c4-4bfc-811a-f762ec6b76a7",
     "regions": {
      "53b83acc-f50a-404b-b6d5-abc9801d4162": {
       "attrs": {
        "height": 0.8,
        "width": 0.8,
        "x": 0.1,
        "y": 0.1
       },
       "content": {
        "cell": "51687f2f-ad93-45c4-b7da-5f55ed11b51c",
        "part": "whole"
       },
       "id": "53b83acc-f50a-404b-b6d5-abc9801d4162"
      }
     }
    },
    "3d361221-5d93-434c-bccb-a1a914b99127": {
     "id": "3d361221-5d93-434c-bccb-a1a914b99127",
     "prev": "f0a9b3ac-cd58-4cba-843c-9bca82d37362",
     "regions": {
      "aa0977e7-81f5-4fbc-b9fa-1ac62a345b3d": {
       "attrs": {
        "height": 0.8,
        "width": 0.8,
        "x": 0.1,
        "y": 0.1
       },
       "content": {
        "cell": "1fe3fb9f-982c-4fce-890b-dee9f2b4ed46",
        "part": "whole"
       },
       "id": "aa0977e7-81f5-4fbc-b9fa-1ac62a345b3d"
      }
     }
    },
    "403e5351-f0eb-4546-8715-33b7f12b6090": {
     "id": "403e5351-f0eb-4546-8715-33b7f12b6090",
     "prev": "2cfe02cf-2151-470a-ae48-8fafbcb1ee4d",
     "regions": {
      "a1e4f774-cbc1-4253-9749-e0cdb6d8c95a": {
       "attrs": {
        "height": 0.8,
        "width": 0.8,
        "x": 0.1,
        "y": 0.1
       },
       "content": {
        "cell": "9e24748c-6313-4b17-b53a-5be355512b66",
        "part": "whole"
       },
       "id": "a1e4f774-cbc1-4253-9749-e0cdb6d8c95a"
      }
     }
    },
    "42fe4306-24af-419e-ab37-e855daf7fa2c": {
     "id": "42fe4306-24af-419e-ab37-e855daf7fa2c",
     "prev": "387e2c99-325b-4dbf-a2dc-f26249bd2b22",
     "regions": {
      "dfa89781-a964-4d2e-a4fd-eaf71125ebf6": {
       "attrs": {
        "height": 0.8,
        "width": 0.8,
        "x": 0.1,
        "y": 0.1
       },
       "content": {
        "cell": "173e2b5e-365a-4a85-9378-40b66376d2ce",
        "part": "whole"
       },
       "id": "dfa89781-a964-4d2e-a4fd-eaf71125ebf6"
      }
     }
    },
    "49c647bb-8c97-4af4-a6f8-9acdd2719d20": {
     "id": "49c647bb-8c97-4af4-a6f8-9acdd2719d20",
     "prev": "93525006-1de4-42d4-af4c-f4d8d3f4460e",
     "regions": {
      "40ea3ede-dd16-4eeb-b70a-7bf1fa11b082": {
       "attrs": {
        "height": 0.8,
        "width": 0.8,
        "x": 0.1,
        "y": 0.1
       },
       "content": {
        "cell": "5b87c55c-d01e-4be7-86ea-4e3a84d23465",
        "part": "whole"
       },
       "id": "40ea3ede-dd16-4eeb-b70a-7bf1fa11b082"
      }
     }
    },
    "4cec5a51-b23b-457c-b3e6-74650bdb89fa": {
     "id": "4cec5a51-b23b-457c-b3e6-74650bdb89fa",
     "prev": "c001d652-584b-4c27-895a-c45ea2372878",
     "regions": {
      "006fce92-4948-4458-a7a9-92b60dd45d6d": {
       "attrs": {
        "height": 0.8,
        "width": 0.8,
        "x": 0.1,
        "y": 0.1
       },
       "content": {
        "cell": "06570997-e8b5-412e-b616-85a2b48022c6",
        "part": "whole"
       },
       "id": "006fce92-4948-4458-a7a9-92b60dd45d6d"
      }
     }
    },
    "535951e1-44d7-4144-8c59-d9389989de12": {
     "id": "535951e1-44d7-4144-8c59-d9389989de12",
     "prev": "84130f79-11fc-44b8-a10d-a06e2c2b28e6",
     "regions": {
      "21d91db3-f5be-4ae9-9535-d5b450ee2da7": {
       "attrs": {
        "height": 0.8,
        "width": 0.8,
        "x": 0.1,
        "y": 0.1
       },
       "content": {
        "cell": "6d41a7a9-e5de-43ed-b85b-bd455fcad975",
        "part": "whole"
       },
       "id": "21d91db3-f5be-4ae9-9535-d5b450ee2da7"
      }
     }
    },
    "5839e45c-5725-408a-a4c0-ad2e7c4e64ad": {
     "id": "5839e45c-5725-408a-a4c0-ad2e7c4e64ad",
     "prev": "e99a8389-d23f-4d68-a37c-66d8050fa1af",
     "regions": {
      "55cd1c89-428f-4792-a81d-f0079d4a2c4e": {
       "attrs": {
        "height": 0.8,
        "width": 0.8,
        "x": 0.1,
        "y": 0.1
       },
       "content": {
        "cell": "d680f466-a2d9-4c75-9943-e28bbe8c7ca6",
        "part": "whole"
       },
       "id": "55cd1c89-428f-4792-a81d-f0079d4a2c4e"
      }
     }
    },
    "595a4fea-2825-42fc-8f5e-a828bceaf427": {
     "id": "595a4fea-2825-42fc-8f5e-a828bceaf427",
     "prev": "bbde44cb-1299-4088-81d3-03a6ed66b114",
     "regions": {
      "6984fe68-1e64-469b-a7f4-7e2ec5978336": {
       "attrs": {
        "height": 0.8,
        "width": 0.8,
        "x": 0.1,
        "y": 0.1
       },
       "content": {
        "cell": "d131b267-f4e2-423a-80a1-57a26cfd82e7",
        "part": "whole"
       },
       "id": "6984fe68-1e64-469b-a7f4-7e2ec5978336"
      }
     }
    },
    "5c531cd6-1eca-4364-a95c-62cf6d45d0fe": {
     "id": "5c531cd6-1eca-4364-a95c-62cf6d45d0fe",
     "prev": "cc9bcf6f-cbad-454b-b927-2e3103ba2546",
     "regions": {
      "7f4ddd86-7c5d-4312-a43c-96964305264e": {
       "attrs": {
        "height": 0.8,
        "width": 0.8,
        "x": 0.1,
        "y": 0.1
       },
       "content": {
        "cell": "f7be28f1-b47a-47e1-b7aa-4fd8034f89d6",
        "part": "whole"
       },
       "id": "7f4ddd86-7c5d-4312-a43c-96964305264e"
      }
     }
    },
    "5e4d2d36-f90e-453f-a615-f046bf2ec32a": {
     "id": "5e4d2d36-f90e-453f-a615-f046bf2ec32a",
     "prev": "5839e45c-5725-408a-a4c0-ad2e7c4e64ad",
     "regions": {
      "2a49b7a5-a102-4855-9775-e87260a76be6": {
       "attrs": {
        "height": 0.8,
        "width": 0.8,
        "x": 0.1,
        "y": 0.1
       },
       "content": {
        "cell": "bab12e58-6388-476b-a094-496933c65ee1",
        "part": "whole"
       },
       "id": "2a49b7a5-a102-4855-9775-e87260a76be6"
      }
     }
    },
    "603b2c6e-6341-49cf-81a7-ee9f08f0800f": {
     "id": "603b2c6e-6341-49cf-81a7-ee9f08f0800f",
     "prev": "a9653062-8d7b-45ba-971d-eeb153454cde",
     "regions": {
      "6a9b2547-a039-499a-bf8e-aa77bc32cdde": {
       "attrs": {
        "height": 0.8,
        "width": 0.8,
        "x": 0.1,
        "y": 0.1
       },
       "content": {
        "cell": "7406c07e-2064-4bca-b968-1643fc7ae2d1",
        "part": "whole"
       },
       "id": "6a9b2547-a039-499a-bf8e-aa77bc32cdde"
      }
     }
    },
    "6c23ccb1-11c4-4bfc-811a-f762ec6b76a7": {
     "id": "6c23ccb1-11c4-4bfc-811a-f762ec6b76a7",
     "prev": "940e669b-fce7-49dc-8b52-115be7cd6751",
     "regions": {
      "852d24f0-a0ec-4d33-be81-a81dbb6c44d6": {
       "attrs": {
        "height": 0.8,
        "width": 0.8,
        "x": 0.1,
        "y": 0.1
       },
       "content": {
        "cell": "4e53a0be-afd6-43f8-8ef2-9865593320bd",
        "part": "whole"
       },
       "id": "852d24f0-a0ec-4d33-be81-a81dbb6c44d6"
      }
     }
    },
    "6c80613a-4717-4dc7-8a53-2bd2e0dd96ff": {
     "id": "6c80613a-4717-4dc7-8a53-2bd2e0dd96ff",
     "prev": "4cec5a51-b23b-457c-b3e6-74650bdb89fa",
     "regions": {
      "8e6486d4-7ee9-4c10-a500-a88fd9ab8cfd": {
       "attrs": {
        "height": 0.8,
        "width": 0.8,
        "x": 0.1,
        "y": 0.1
       },
       "content": {
        "cell": "730ba777-80fb-4a6c-aa58-085c10a32bc1",
        "part": "whole"
       },
       "id": "8e6486d4-7ee9-4c10-a500-a88fd9ab8cfd"
      }
     }
    },
    "6ca4c042-75ea-470d-ae6d-fa116af0be05": {
     "id": "6ca4c042-75ea-470d-ae6d-fa116af0be05",
     "prev": "efc70b24-d73c-434d-a3ef-69b94c4f7d6d",
     "regions": {
      "cc26ae2c-e6a0-4803-895f-73c957ffb0be": {
       "attrs": {
        "height": 0.8,
        "width": 0.8,
        "x": 0.1,
        "y": 0.1
       },
       "content": {
        "cell": "d9c8acae-f772-4e99-a3e9-4976de8f6c3f",
        "part": "whole"
       },
       "id": "cc26ae2c-e6a0-4803-895f-73c957ffb0be"
      }
     }
    },
    "724c64d3-1aed-46cc-9099-85f04c31e645": {
     "id": "724c64d3-1aed-46cc-9099-85f04c31e645",
     "prev": "01c0c3c8-aaa1-4de9-950b-aa8ec1742461",
     "regions": {
      "5000d78f-905e-4655-80bb-c1bbe330833a": {
       "attrs": {
        "height": 0.8,
        "width": 0.8,
        "x": 0.1,
        "y": 0.1
       },
       "content": {
        "cell": "d34bc304-7ca3-4092-8366-0a7bc062ed1a",
        "part": "whole"
       },
       "id": "5000d78f-905e-4655-80bb-c1bbe330833a"
      }
     }
    },
    "7c775098-5bff-4a74-adfd-64907c863d3c": {
     "id": "7c775098-5bff-4a74-adfd-64907c863d3c",
     "prev": "ea90a2b4-1ca0-499d-83c9-367b72cabe73",
     "regions": {
      "1e3a0fea-f45e-4ba1-8ac1-41e8ff09e27a": {
       "attrs": {
        "height": 0.8,
        "width": 0.8,
        "x": 0.1,
        "y": 0.1
       },
       "content": {
        "cell": "7b280659-f632-4e31-8ee3-30325acd7a20",
        "part": "whole"
       },
       "id": "1e3a0fea-f45e-4ba1-8ac1-41e8ff09e27a"
      }
     }
    },
    "84130f79-11fc-44b8-a10d-a06e2c2b28e6": {
     "id": "84130f79-11fc-44b8-a10d-a06e2c2b28e6",
     "prev": "2d1df88f-4f5f-40c9-b6f1-b27fa376ccb7",
     "regions": {
      "2f27a716-2e64-4908-9996-50b22491b13a": {
       "attrs": {
        "height": 0.8,
        "width": 0.8,
        "x": 0.1,
        "y": 0.1
       },
       "content": {
        "cell": "77c70a33-8906-4788-b6e9-74f6636ebe10",
        "part": "whole"
       },
       "id": "2f27a716-2e64-4908-9996-50b22491b13a"
      }
     }
    },
    "84d0a0f6-166d-477a-b94c-01fe5d3f85d8": {
     "id": "84d0a0f6-166d-477a-b94c-01fe5d3f85d8",
     "prev": "8651c9fd-8a8b-4c7f-b993-908867c7c9f7",
     "regions": {
      "0774586d-fbd7-4972-b890-235f3e8ccee4": {
       "attrs": {
        "height": 0.8,
        "width": 0.8,
        "x": 0.1,
        "y": 0.1
       },
       "content": {
        "cell": "09037924-ce2f-406d-8d96-cb5682502d25",
        "part": "whole"
       },
       "id": "0774586d-fbd7-4972-b890-235f3e8ccee4"
      }
     }
    },
    "8651c9fd-8a8b-4c7f-b993-908867c7c9f7": {
     "id": "8651c9fd-8a8b-4c7f-b993-908867c7c9f7",
     "prev": "288df20d-b05f-4a4f-b0d5-0af6360b90c9",
     "regions": {
      "a74e4bb8-85e0-4e37-8121-58f5e0837641": {
       "attrs": {
        "height": 0.8,
        "width": 0.8,
        "x": 0.1,
        "y": 0.1
       },
       "content": {
        "cell": "88ea95a2-28db-4427-8a49-b136b519891f",
        "part": "whole"
       },
       "id": "a74e4bb8-85e0-4e37-8121-58f5e0837641"
      }
     }
    },
    "8d01e1a2-4e8e-47c3-a1f8-3385cd379791": {
     "id": "8d01e1a2-4e8e-47c3-a1f8-3385cd379791",
     "prev": "535951e1-44d7-4144-8c59-d9389989de12",
     "regions": {
      "d1e2a893-0115-4ec6-a2b9-16a26c8d58ba": {
       "attrs": {
        "height": 0.8,
        "width": 0.8,
        "x": 0.1,
        "y": 0.1
       },
       "content": {
        "cell": "28aefe72-39ba-41e5-980c-7807f12a1142",
        "part": "whole"
       },
       "id": "d1e2a893-0115-4ec6-a2b9-16a26c8d58ba"
      }
     }
    },
    "8e97d5fe-b92b-4aff-98eb-14721d81a24b": {
     "id": "8e97d5fe-b92b-4aff-98eb-14721d81a24b",
     "prev": "42fe4306-24af-419e-ab37-e855daf7fa2c",
     "regions": {
      "57f0db02-12aa-4f6e-b42c-b53543784db1": {
       "attrs": {
        "height": 0.8,
        "width": 0.8,
        "x": 0.1,
        "y": 0.1
       },
       "content": {
        "cell": "001a70ba-d091-449a-8e42-34efa43c5f22",
        "part": "whole"
       },
       "id": "57f0db02-12aa-4f6e-b42c-b53543784db1"
      }
     }
    },
    "93525006-1de4-42d4-af4c-f4d8d3f4460e": {
     "id": "93525006-1de4-42d4-af4c-f4d8d3f4460e",
     "prev": null,
     "regions": {
      "7ee33830-8c16-40c1-8d91-e3597fcb82e8": {
       "attrs": {
        "height": 0.8,
        "width": 0.8,
        "x": 0.1,
        "y": 0.1
       },
       "content": {
        "cell": "da174cc3-6acc-4402-960c-34169dc34f86",
        "part": "whole"
       },
       "id": "7ee33830-8c16-40c1-8d91-e3597fcb82e8"
      }
     }
    },
    "940e669b-fce7-49dc-8b52-115be7cd6751": {
     "id": "940e669b-fce7-49dc-8b52-115be7cd6751",
     "prev": "18cc370a-d7ef-496a-942d-0f0eb50bbf41",
     "regions": {
      "07074367-03fd-4c70-a33a-4e2e995b999b": {
       "attrs": {
        "height": 0.8,
        "width": 0.8,
        "x": 0.1,
        "y": 0.1
       },
       "content": {
        "cell": "85cad54a-86c8-470a-bd2d-1018f2dcbc3c",
        "part": "whole"
       },
       "id": "07074367-03fd-4c70-a33a-4e2e995b999b"
      }
     }
    },
    "9dbc4420-b371-4ab7-8da7-ec7d87bd326e": {
     "id": "9dbc4420-b371-4ab7-8da7-ec7d87bd326e",
     "prev": "3d361221-5d93-434c-bccb-a1a914b99127",
     "regions": {
      "253c18ed-86c3-4b0f-b614-3e3c77c41c7b": {
       "attrs": {
        "height": 0.8,
        "width": 0.8,
        "x": 0.1,
        "y": 0.1
       },
       "content": {
        "cell": "70c17fdf-32ed-4a8e-ab01-e926118f8355",
        "part": "whole"
       },
       "id": "253c18ed-86c3-4b0f-b614-3e3c77c41c7b"
      }
     }
    },
    "9e162870-0a0d-4c43-906d-ac9ffc7d63ac": {
     "id": "9e162870-0a0d-4c43-906d-ac9ffc7d63ac",
     "prev": "5e4d2d36-f90e-453f-a615-f046bf2ec32a",
     "regions": {
      "29019bf8-8c42-446f-a92e-38799db33c5b": {
       "attrs": {
        "height": 0.8,
        "width": 0.8,
        "x": 0.1,
        "y": 0.1
       },
       "content": {
        "cell": "d7296799-c578-43ea-9649-db72a5e65a62",
        "part": "whole"
       },
       "id": "29019bf8-8c42-446f-a92e-38799db33c5b"
      }
     }
    },
    "9fe02957-a753-4668-a121-38a3371ec7fb": {
     "id": "9fe02957-a753-4668-a121-38a3371ec7fb",
     "prev": "0ab8ab8a-9cde-4de3-b064-811a7b9c2381",
     "regions": {
      "f945f791-1d82-425b-b0d9-244e1c8137f3": {
       "attrs": {
        "height": 0.8,
        "width": 0.8,
        "x": 0.1,
        "y": 0.1
       },
       "content": {
        "cell": "6fdfb003-14e0-40ee-8e77-5ce3584367d0",
        "part": "whole"
       },
       "id": "f945f791-1d82-425b-b0d9-244e1c8137f3"
      }
     }
    },
    "a44b8359-fde0-4e5e-afa1-a2b93a31da08": {
     "id": "a44b8359-fde0-4e5e-afa1-a2b93a31da08",
     "prev": "8e97d5fe-b92b-4aff-98eb-14721d81a24b",
     "regions": {
      "a4069f50-49ff-44d7-bbe5-55cb721a2433": {
       "attrs": {
        "height": 0.8,
        "width": 0.8,
        "x": 0.1,
        "y": 0.1
       },
       "content": {
        "cell": "dfea0653-1a2c-4024-bc31-72ddd42872c9",
        "part": "whole"
       },
       "id": "a4069f50-49ff-44d7-bbe5-55cb721a2433"
      }
     }
    },
    "a9653062-8d7b-45ba-971d-eeb153454cde": {
     "id": "a9653062-8d7b-45ba-971d-eeb153454cde",
     "prev": "9fe02957-a753-4668-a121-38a3371ec7fb",
     "regions": {
      "a6290185-f861-4ebd-89c6-eb99fb107d44": {
       "attrs": {
        "height": 0.8,
        "width": 0.8,
        "x": 0.1,
        "y": 0.1
       },
       "content": {
        "cell": "d5bea80c-1610-49c0-a999-cf4af85aca50",
        "part": "whole"
       },
       "id": "a6290185-f861-4ebd-89c6-eb99fb107d44"
      }
     }
    },
    "a9cb24ce-6566-4402-a2c9-ad975e40a96a": {
     "id": "a9cb24ce-6566-4402-a2c9-ad975e40a96a",
     "prev": "ea6bbff8-7c2d-444d-a94b-681157a1843e",
     "regions": {
      "c3aaa3cf-d64f-4848-ad35-6a585cfd0ec8": {
       "attrs": {
        "height": 0.8,
        "width": 0.8,
        "x": 0.1,
        "y": 0.1
       },
       "content": {
        "cell": "b0d0e2ea-2e77-4166-8a97-28307dd6a7d5",
        "part": "whole"
       },
       "id": "c3aaa3cf-d64f-4848-ad35-6a585cfd0ec8"
      }
     }
    },
    "ab606eb5-0db6-4df4-a105-7cb028f88b45": {
     "id": "ab606eb5-0db6-4df4-a105-7cb028f88b45",
     "prev": "8d01e1a2-4e8e-47c3-a1f8-3385cd379791",
     "regions": {
      "11fd702e-36e3-4b0a-bef9-cae2a57bc577": {
       "attrs": {
        "height": 0.8,
        "width": 0.8,
        "x": 0.1,
        "y": 0.1
       },
       "content": {
        "cell": "48b09064-a186-46aa-bde8-a2f32e09e1e1",
        "part": "whole"
       },
       "id": "11fd702e-36e3-4b0a-bef9-cae2a57bc577"
      }
     }
    },
    "b2052252-f3e9-45dc-b1fe-015e641f858b": {
     "id": "b2052252-f3e9-45dc-b1fe-015e641f858b",
     "prev": "f6b31f25-e360-4f6e-b1dc-84a93f752847",
     "regions": {
      "d3c9498c-045a-4db6-b5d8-fef94290ffbb": {
       "attrs": {
        "height": 0.8,
        "width": 0.8,
        "x": 0.1,
        "y": 0.1
       },
       "content": {
        "cell": "a63b577f-2828-4dae-a8be-55ab5340f26a",
        "part": "whole"
       },
       "id": "d3c9498c-045a-4db6-b5d8-fef94290ffbb"
      }
     }
    },
    "b29b9371-9de7-4700-b6f4-fb8f1434fa5e": {
     "id": "b29b9371-9de7-4700-b6f4-fb8f1434fa5e",
     "prev": "ce3cd7e9-5ddf-4ff7-af51-a1f6533c665f",
     "regions": {
      "8827d7b4-c546-4667-a93b-bd72d906e84f": {
       "attrs": {
        "height": 0.8,
        "width": 0.8,
        "x": 0.1,
        "y": 0.1
       },
       "content": {
        "cell": "73b22b89-42d0-4031-8047-157fe8e115db",
        "part": "whole"
       },
       "id": "8827d7b4-c546-4667-a93b-bd72d906e84f"
      }
     }
    },
    "b63dd4fd-9b60-4a37-8577-8bab7ac6452f": {
     "id": "b63dd4fd-9b60-4a37-8577-8bab7ac6452f",
     "prev": "21d0ab9a-7760-44de-98f3-8c9a74bad40e",
     "regions": {
      "7a271238-64e7-4b15-898b-4577f021c29d": {
       "attrs": {
        "height": 0.8,
        "width": 0.8,
        "x": 0.1,
        "y": 0.1
       },
       "content": {
        "cell": "0e906205-ea57-4549-9a9a-e6f835147244",
        "part": "whole"
       },
       "id": "7a271238-64e7-4b15-898b-4577f021c29d"
      }
     }
    },
    "bbde44cb-1299-4088-81d3-03a6ed66b114": {
     "id": "bbde44cb-1299-4088-81d3-03a6ed66b114",
     "prev": "369534e4-1db4-4877-a758-dcf0cb1eb9be",
     "regions": {
      "dbeac52b-5266-4bf1-ac20-164d1ee222d3": {
       "attrs": {
        "height": 0.8,
        "width": 0.8,
        "x": 0.1,
        "y": 0.1
       },
       "content": {
        "cell": "7f7703fb-ae56-443f-9d5c-d68730c2dd38",
        "part": "whole"
       },
       "id": "dbeac52b-5266-4bf1-ac20-164d1ee222d3"
      }
     }
    },
    "c001d652-584b-4c27-895a-c45ea2372878": {
     "id": "c001d652-584b-4c27-895a-c45ea2372878",
     "prev": "603b2c6e-6341-49cf-81a7-ee9f08f0800f",
     "regions": {
      "750b226c-3905-4517-9304-700f12c4fe0f": {
       "attrs": {
        "height": 0.8,
        "width": 0.8,
        "x": 0.1,
        "y": 0.1
       },
       "content": {
        "cell": "6b96ffe7-059b-4786-8d1c-76c61c9e1ae4",
        "part": "whole"
       },
       "id": "750b226c-3905-4517-9304-700f12c4fe0f"
      }
     }
    },
    "cc9bcf6f-cbad-454b-b927-2e3103ba2546": {
     "id": "cc9bcf6f-cbad-454b-b927-2e3103ba2546",
     "prev": "7c775098-5bff-4a74-adfd-64907c863d3c",
     "regions": {
      "84a89c3d-971e-4cf4-89c1-308ccca8ebbc": {
       "attrs": {
        "height": 0.8,
        "width": 0.8,
        "x": 0.1,
        "y": 0.1
       },
       "content": {
        "cell": "0200c5fc-bfca-439e-817f-fc6879931c3a",
        "part": "whole"
       },
       "id": "84a89c3d-971e-4cf4-89c1-308ccca8ebbc"
      }
     }
    },
    "cd06d64d-e272-45ff-afb1-49214d295da3": {
     "id": "cd06d64d-e272-45ff-afb1-49214d295da3",
     "prev": "9dbc4420-b371-4ab7-8da7-ec7d87bd326e",
     "regions": {
      "65efc1ea-2c60-4fa7-8c6b-2f857e94d070": {
       "attrs": {
        "height": 0.8,
        "width": 0.8,
        "x": 0.1,
        "y": 0.1
       },
       "content": {
        "cell": "e120458b-a85c-43c7-b9db-65fc0aa7ea95",
        "part": "whole"
       },
       "id": "65efc1ea-2c60-4fa7-8c6b-2f857e94d070"
      }
     }
    },
    "ce3cd7e9-5ddf-4ff7-af51-a1f6533c665f": {
     "id": "ce3cd7e9-5ddf-4ff7-af51-a1f6533c665f",
     "prev": "383b0548-1cc9-48d1-80fb-42ddd40f3b09",
     "regions": {
      "f8444524-a2d6-4e8d-8cf4-3c09e5f7d8f2": {
       "attrs": {
        "height": 0.8,
        "width": 0.8,
        "x": 0.1,
        "y": 0.1
       },
       "content": {
        "cell": "0d7d6471-0c41-4025-aae3-04ad545550cf",
        "part": "whole"
       },
       "id": "f8444524-a2d6-4e8d-8cf4-3c09e5f7d8f2"
      }
     }
    },
    "da7f1fa8-90a6-41f3-a9f9-406abab00c37": {
     "id": "da7f1fa8-90a6-41f3-a9f9-406abab00c37",
     "prev": "a9cb24ce-6566-4402-a2c9-ad975e40a96a",
     "regions": {
      "5ee211e4-04cc-4c49-86e3-d6735b3e7390": {
       "attrs": {
        "height": 0.8,
        "width": 0.8,
        "x": 0.1,
        "y": 0.1
       },
       "content": {
        "cell": "4f5c3116-8dc2-4877-bf36-89fe30f84e3a",
        "part": "whole"
       },
       "id": "5ee211e4-04cc-4c49-86e3-d6735b3e7390"
      }
     }
    },
    "dc6e22a6-678b-4877-8eee-6c58e57c4fa5": {
     "id": "dc6e22a6-678b-4877-8eee-6c58e57c4fa5",
     "prev": "0d7d880e-04d1-4f7f-87a4-4afbbd76ea0d",
     "regions": {
      "17304945-794e-4eca-b395-37a21f5ea69d": {
       "attrs": {
        "height": 0.8,
        "width": 0.8,
        "x": 0.1,
        "y": 0.1
       },
       "content": {
        "cell": "9dbbb547-4ab8-40cb-b9b3-8cf0da3ea8ac",
        "part": "whole"
       },
       "id": "17304945-794e-4eca-b395-37a21f5ea69d"
      }
     }
    },
    "e99a8389-d23f-4d68-a37c-66d8050fa1af": {
     "id": "e99a8389-d23f-4d68-a37c-66d8050fa1af",
     "prev": "724c64d3-1aed-46cc-9099-85f04c31e645",
     "regions": {
      "26e7317b-23b2-4403-8cb4-79cbc3a7ccab": {
       "attrs": {
        "height": 0.8,
        "width": 0.8,
        "x": 0.1,
        "y": 0.1
       },
       "content": {
        "cell": "e60ee2cd-d7aa-4c43-88d8-cb522b33c9fc",
        "part": "whole"
       },
       "id": "26e7317b-23b2-4403-8cb4-79cbc3a7ccab"
      }
     }
    },
    "ea6ac810-00d3-4318-81cf-f94b7c90d1a6": {
     "id": "ea6ac810-00d3-4318-81cf-f94b7c90d1a6",
     "prev": "6c80613a-4717-4dc7-8a53-2bd2e0dd96ff",
     "regions": {
      "404bea26-c45c-44c4-abf1-57669da61304": {
       "attrs": {
        "height": 0.8,
        "width": 0.8,
        "x": 0.1,
        "y": 0.1
       },
       "content": {
        "cell": "f7c9ef12-b84e-4fec-96e2-9c39fc29c824",
        "part": "whole"
       },
       "id": "404bea26-c45c-44c4-abf1-57669da61304"
      }
     }
    },
    "ea6bbff8-7c2d-444d-a94b-681157a1843e": {
     "id": "ea6bbff8-7c2d-444d-a94b-681157a1843e",
     "prev": "49c647bb-8c97-4af4-a6f8-9acdd2719d20",
     "regions": {
      "682d26df-2074-42a8-a069-488e2f39978f": {
       "attrs": {
        "height": 0.8,
        "width": 0.8,
        "x": 0.1,
        "y": 0.1
       },
       "content": {
        "cell": "eda27b0c-417f-4d37-b55d-c96bba947b1a",
        "part": "whole"
       },
       "id": "682d26df-2074-42a8-a069-488e2f39978f"
      }
     }
    },
    "ea90a2b4-1ca0-499d-83c9-367b72cabe73": {
     "id": "ea90a2b4-1ca0-499d-83c9-367b72cabe73",
     "prev": "eff18974-fde6-4dee-9d06-3fef5ee47832",
     "regions": {
      "0a3d9270-bd6b-497b-a7ff-bc3cdf509d0d": {
       "attrs": {
        "height": 0.8,
        "width": 0.8,
        "x": 0.1,
        "y": 0.1
       },
       "content": {
        "cell": "727e9375-ed08-464a-b1a1-709871c41793",
        "part": "whole"
       },
       "id": "0a3d9270-bd6b-497b-a7ff-bc3cdf509d0d"
      }
     }
    },
    "efc70b24-d73c-434d-a3ef-69b94c4f7d6d": {
     "id": "efc70b24-d73c-434d-a3ef-69b94c4f7d6d",
     "prev": "cd06d64d-e272-45ff-afb1-49214d295da3",
     "regions": {
      "66231add-aff8-43e5-85f8-f7f54de39dcb": {
       "attrs": {
        "height": 0.8,
        "width": 0.8,
        "x": 0.1,
        "y": 0.1
       },
       "content": {
        "cell": "ce991057-3dc1-496e-acbb-af0d02bcca9a",
        "part": "whole"
       },
       "id": "66231add-aff8-43e5-85f8-f7f54de39dcb"
      }
     }
    },
    "eff18974-fde6-4dee-9d06-3fef5ee47832": {
     "id": "eff18974-fde6-4dee-9d06-3fef5ee47832",
     "prev": "84d0a0f6-166d-477a-b94c-01fe5d3f85d8",
     "regions": {
      "4b5e07ea-a82c-4b62-ad28-0c89acc40332": {
       "attrs": {
        "height": 0.8,
        "width": 0.8,
        "x": 0.1,
        "y": 0.1
       },
       "content": {
        "cell": "f745faa3-da2a-4f43-b065-a32d96c0841b",
        "part": "whole"
       },
       "id": "4b5e07ea-a82c-4b62-ad28-0c89acc40332"
      }
     }
    },
    "f0a9b3ac-cd58-4cba-843c-9bca82d37362": {
     "id": "f0a9b3ac-cd58-4cba-843c-9bca82d37362",
     "prev": "108f69c5-4a71-4a76-a899-14194d5525db",
     "regions": {
      "2c27aee8-30b9-495e-a5be-35bb3e294475": {
       "attrs": {
        "height": 0.8,
        "width": 0.8,
        "x": 0.1,
        "y": 0.1
       },
       "content": {
        "cell": "144402f7-b43c-41cd-8cb7-6035fb8bd917",
        "part": "whole"
       },
       "id": "2c27aee8-30b9-495e-a5be-35bb3e294475"
      }
     }
    },
    "f6b31f25-e360-4f6e-b1dc-84a93f752847": {
     "id": "f6b31f25-e360-4f6e-b1dc-84a93f752847",
     "prev": "25ace3c6-e43a-4577-8fa8-ef8336914e7e",
     "regions": {
      "fdad1172-5bf6-49f0-bdf0-158316c00c7f": {
       "attrs": {
        "height": 0.8,
        "width": 0.8,
        "x": 0.1,
        "y": 0.1
       },
       "content": {
        "cell": "6a3d49e5-f330-465c-a592-a38912503b79",
        "part": "whole"
       },
       "id": "fdad1172-5bf6-49f0-bdf0-158316c00c7f"
      }
     }
    }
   },
   "themes": {}
  }
 },
 "nbformat": 4,
 "nbformat_minor": 2
}
