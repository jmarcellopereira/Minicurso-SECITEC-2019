{
 "cells": [
  {
   "cell_type": "markdown",
   "metadata": {
    "collapsed": true
   },
   "source": [
    "# TIPOS DE DADOS"
   ]
  },
  {
   "cell_type": "markdown",
   "metadata": {},
   "source": [
    "## NUMÉRICOS"
   ]
  },
  {
   "cell_type": "markdown",
   "metadata": {},
   "source": [
    "São definidos como tipos inteiros os dados numéricos, não racionais, positivos ou negativos. Podem ser representados sem sinal(`unsigned`) ou com sinal (`signed`) capaz de representar números negativos.\n",
    "\n",
    "<table cellspacing=\"2\" cellpadding=\"2\">\n",
    "<tbody>\n",
    "<tr>\n",
    "<th>\n",
    "<p>Tipo</p>\n",
    "</th>\n",
    "<th>\n",
    "<p>Número de Bits</p>\n",
    "</th>\n",
    "<th>\n",
    "<p>Menor Valor</p>\n",
    "</th>\n",
    "<th>Maior Valor</th>\n",
    "</tr>\n",
    "<tr>\n",
    "<td>\n",
    "<p>Int8</p>\n",
    "</td>\n",
    "<td>\n",
    "<p>8</p>\n",
    "</td>\n",
    "<td>\n",
    "<p>$-2^7$</p>\n",
    "</td>\n",
    "<td>\n",
    "<p>$2^7 - 1$</p>\n",
    "</td>\n",
    "</tr>\n",
    "<tr>\n",
    "<td>\n",
    "<p>UInt8</p>\n",
    "</td>\n",
    "<td>\n",
    "<p>8</p>\n",
    "</td>\n",
    "<td>\n",
    "<p>0</p>\n",
    "</td>\n",
    "<td>\n",
    "<p>$2^8 - 1$</p>\n",
    "</td>\n",
    "</tr>\n",
    "<tr>\n",
    "<td>\n",
    "<p>Int16</p>\n",
    "</td>\n",
    "<td>\n",
    "<p>16</p>\n",
    "</td>\n",
    "<td>\n",
    "<p>$-2^{15}$</p>\n",
    "</td>\n",
    "<td>\n",
    "<p>$2^{15} - 1$</p>\n",
    "</td>\n",
    "</tr>\n",
    "<tr>\n",
    "<td>\n",
    "<p>UInt16</p>\n",
    "</td>\n",
    "<td>\n",
    "<p>16</p>\n",
    "</td>\n",
    "<td>\n",
    "<p>0</p>\n",
    "</td>\n",
    "<td>\n",
    "<p>$2^{16} - 1$</p>\n",
    "</td>\n",
    "</tr>\n",
    "<tr>\n",
    "<td>\n",
    "<p>Int32</p>\n",
    "</td>\n",
    "<td>\n",
    "<p>32</p>\n",
    "</td>\n",
    "<td>\n",
    "<p>$-2^{31}$</p>\n",
    "</td>\n",
    "<td>\n",
    "<p>$2^{31} - 1$</p>\n",
    "</td>\n",
    "</tr>\n",
    "<tr>\n",
    "<td>\n",
    "<p>UInt32</p>\n",
    "</td>\n",
    "<td>\n",
    "<p>32</p>\n",
    "</td>\n",
    "<td>\n",
    "<p>0</p>\n",
    "</td>\n",
    "<td>\n",
    "<p>$2^{32} - 1$</p>\n",
    "</td>\n",
    "</tr>\n",
    "<tr>\n",
    "<td>\n",
    "<p>Int64</p>\n",
    "</td>\n",
    "<td>\n",
    "<p>64</p>\n",
    "</td>\n",
    "<td>\n",
    "<p>$-2^{63}$</p>\n",
    "</td>\n",
    "<td>\n",
    "<p>$2^{63} - 1$</p>\n",
    "</td>\n",
    "</tr>\n",
    "<tr>\n",
    "<td>\n",
    "<p>UInt64</p>\n",
    "</td>\n",
    "<td>\n",
    "<p>64</p>\n",
    "</td>\n",
    "<td>\n",
    "<p>0</p>\n",
    "</td>\n",
    "<td>\n",
    "<p>$2^{64} - 1$</p>\n",
    "</td>\n",
    "</tr>\n",
    "<tr>\n",
    "<td>\n",
    "<p>Int128</p>\n",
    "</td>\n",
    "<td>\n",
    "<p>128</p>\n",
    "</td>\n",
    "<td>\n",
    "<p>$-2^{127}$</p>\n",
    "</td>\n",
    "<td>\n",
    "<p>$2^{127} - 1$</p>\n",
    "</td>\n",
    "</tr>\n",
    "<tr>\n",
    "<td>\n",
    "<p>UInt128</p>\n",
    "</td>\n",
    "<td>\n",
    "<p>128</p>\n",
    "</td>\n",
    "<td>\n",
    "<p>0</p>\n",
    "</td>\n",
    "<td>\n",
    "<p>$2^{128} - 1$</p>\n",
    "</td>\n",
    "</tr>\n",
    "<tr>\n",
    "<td>\n",
    "<p>Bool</p>\n",
    "</td>\n",
    "<td>\n",
    "<p>8</p>\n",
    "</td>\n",
    "<td>\n",
    "<p>false(0)</p>\n",
    "</td>\n",
    "<td>\n",
    "<p>true(1)</p>\n",
    "</td>\n",
    "</tr>\n",
    "</tbody>\n",
    "</table>\n",
    "\n",
    "### TIPOS PONTO FLUTUANTE:\n",
    "\n",
    "* Float32 — Números de ponto flutuante 32-bit seguindo o padrão IEEE 754.\n",
    "* Float64 — Números de ponto flutuante 64-bit seguindo o padrão IEEE 754."
   ]
  },
  {
   "cell_type": "markdown",
   "metadata": {},
   "source": [
    "### NUMEROS COMPLEXOS \n",
    "\n",
    "Para definir, usa-se a parte real em conjunto com a parte imaginária **im**"
   ]
  },
  {
   "cell_type": "code",
   "execution_count": 96,
   "metadata": {
    "scrolled": true
   },
   "outputs": [],
   "source": [
    "# definindo os numeros imaginarios\n",
    "\n"
   ]
  },
  {
   "cell_type": "code",
   "execution_count": null,
   "metadata": {
    "collapsed": true,
    "scrolled": true
   },
   "outputs": [],
   "source": [
    "# soma com imaginario\n",
    "\n"
   ]
  },
  {
   "cell_type": "code",
   "execution_count": null,
   "metadata": {
    "collapsed": true,
    "scrolled": true
   },
   "outputs": [],
   "source": [
    "# produto com imaginario\n",
    "\n"
   ]
  },
  {
   "cell_type": "markdown",
   "metadata": {},
   "source": [
    "## STRING"
   ]
  },
  {
   "cell_type": "markdown",
   "metadata": {},
   "source": [
    "Forma de expressão"
   ]
  },
  {
   "cell_type": "code",
   "execution_count": null,
   "metadata": {
    "collapsed": true,
    "scrolled": true
   },
   "outputs": [],
   "source": [
    "# string \n",
    "\n"
   ]
  },
  {
   "cell_type": "markdown",
   "metadata": {
    "collapsed": true
   },
   "source": [
    "## VARIÁVEIS"
   ]
  },
  {
   "cell_type": "markdown",
   "metadata": {},
   "source": [
    "* **Resetar todas as variáveis**\n",
    "\n",
    "Julia não reseta, de fato, as variáveis. Na verdade ele configura outro workspace."
   ]
  },
  {
   "cell_type": "markdown",
   "metadata": {},
   "source": [
    "* **Trabalhando com variáveis**"
   ]
  },
  {
   "cell_type": "code",
   "execution_count": null,
   "metadata": {
    "collapsed": true,
    "scrolled": true
   },
   "outputs": [],
   "source": [
    "# Atribindo o valores às variáveis x, y e z\n",
    "\n"
   ]
  },
  {
   "cell_type": "code",
   "execution_count": null,
   "metadata": {
    "collapsed": true,
    "scrolled": true
   },
   "outputs": [],
   "source": [
    "# Executando o calculo\n",
    "\n"
   ]
  },
  {
   "cell_type": "code",
   "execution_count": null,
   "metadata": {
    "collapsed": true,
    "scrolled": true
   },
   "outputs": [],
   "source": [
    "# Variável string\n",
    "\n"
   ]
  },
  {
   "cell_type": "code",
   "execution_count": null,
   "metadata": {
    "collapsed": true,
    "scrolled": true
   },
   "outputs": [],
   "source": [
    "# verificar o tipo da variável\n",
    "\n"
   ]
  },
  {
   "cell_type": "markdown",
   "metadata": {},
   "source": [
    "* **Variáveis criadas** "
   ]
  },
  {
   "cell_type": "code",
   "execution_count": null,
   "metadata": {
    "collapsed": true,
    "scrolled": true
   },
   "outputs": [],
   "source": [
    "# ver as variáveis criadas no workspace\n",
    "\n"
   ]
  },
  {
   "cell_type": "markdown",
   "metadata": {},
   "source": [
    "## CONSTANTES"
   ]
  },
  {
   "cell_type": "code",
   "execution_count": null,
   "metadata": {
    "collapsed": true,
    "scrolled": true
   },
   "outputs": [],
   "source": [
    "# constantes Pi, e, golden\n",
    "\n"
   ]
  },
  {
   "cell_type": "markdown",
   "metadata": {},
   "source": [
    "<strong>Declarando uma constante</strong><br>\n",
    "Constantes, declarado como <strong>const</strong>, são variáveis imutáveis quanto ao tipo. Ou seja, podem mudar de valor (será dado um aviso) mas não podem mudar de tipo.\n"
   ]
  },
  {
   "cell_type": "code",
   "execution_count": null,
   "metadata": {
    "collapsed": true,
    "scrolled": true
   },
   "outputs": [],
   "source": [
    "# variável \"vel_luz\" do tipo string\n",
    "\n"
   ]
  },
  {
   "cell_type": "code",
   "execution_count": null,
   "metadata": {
    "collapsed": true,
    "scrolled": true
   },
   "outputs": [],
   "source": [
    "# Tipo da constante\n",
    "\n"
   ]
  },
  {
   "cell_type": "code",
   "execution_count": null,
   "metadata": {
    "collapsed": true,
    "scrolled": true
   },
   "outputs": [],
   "source": [
    "# Alterando a variável para outro valor do mesmo tipo string. Será dado um aviso\n",
    "\n"
   ]
  },
  {
   "cell_type": "markdown",
   "metadata": {},
   "source": [
    "## CONVERSÃO DE TIPOS"
   ]
  },
  {
   "cell_type": "code",
   "execution_count": null,
   "metadata": {
    "collapsed": true,
    "scrolled": true
   },
   "outputs": [],
   "source": [
    "# definição das variáveis A = 8 B = 8.0 C = \"8\" D = \"a\"\n",
    "\n"
   ]
  },
  {
   "cell_type": "code",
   "execution_count": null,
   "metadata": {
    "collapsed": true,
    "scrolled": true
   },
   "outputs": [],
   "source": [
    "#tipo\n"
   ]
  },
  {
   "cell_type": "code",
   "execution_count": null,
   "metadata": {
    "collapsed": true,
    "scrolled": true
   },
   "outputs": [],
   "source": [
    "# transformar a variavel \"A\" em string \n",
    "\n"
   ]
  },
  {
   "cell_type": "code",
   "execution_count": null,
   "metadata": {
    "collapsed": true,
    "scrolled": true
   },
   "outputs": [],
   "source": [
    "# transformar a variavel \"C\" em float\n",
    "\n"
   ]
  },
  {
   "cell_type": "markdown",
   "metadata": {},
   "source": [
    "## LISTAS, ARRAY, VETORES E MATRIZES "
   ]
  },
  {
   "cell_type": "markdown",
   "metadata": {},
   "source": [
    "### LISTAS E ARRAY\n",
    "\n",
    "Um array é uma coleção ordenada de elementos. Na linguagem Julia é indicada com colchetes e itens separados por vírgulas. É possível criar arrays vazios ou arrays que armazenam valores de tipos diferentes ou restritas a valores de um tipo específico.\n",
    "\n",
    "Na linguagem Julia, os arrays são usados para listas, vetores, tabelas e matrizes. Um array unidimensional, 1D, atua como um vector ou uma lista. Uma array bidimensional, 2D, pode ser utilizada como uma tabela ou matriz."
   ]
  },
  {
   "cell_type": "markdown",
   "metadata": {},
   "source": [
    "#### ARRAY UNIDIMENSIONAL / VETORES E ARRAY MULTIDIMENSIONAL / MATRIZES"
   ]
  },
  {
   "cell_type": "markdown",
   "metadata": {},
   "source": [
    "**Array Unidimensional / Vetores**"
   ]
  },
  {
   "cell_type": "markdown",
   "metadata": {},
   "source": [
    "* **Criação de vetores e acesso a dados em um vetor**\n",
    "\n",
    "Para acessar um vetor utiliza a forma **vetor[indice]**"
   ]
  },
  {
   "cell_type": "code",
   "execution_count": null,
   "metadata": {
    "collapsed": true,
    "scrolled": true
   },
   "outputs": [],
   "source": [
    "# vetor \"v1\" vazio\n",
    "\n"
   ]
  },
  {
   "cell_type": "code",
   "execution_count": null,
   "metadata": {
    "collapsed": true,
    "scrolled": true
   },
   "outputs": [],
   "source": [
    "# vetor coluna v2 de 3 elementos\n",
    "\n"
   ]
  },
  {
   "cell_type": "code",
   "execution_count": null,
   "metadata": {
    "collapsed": true,
    "scrolled": true
   },
   "outputs": [],
   "source": [
    "# Vetor Linha v3 de 3 elementos\n",
    "\n"
   ]
  },
  {
   "cell_type": "code",
   "execution_count": null,
   "metadata": {
    "collapsed": true,
    "scrolled": true
   },
   "outputs": [],
   "source": [
    "# acessando dados em um vetor\n",
    "\n"
   ]
  },
  {
   "cell_type": "markdown",
   "metadata": {},
   "source": [
    "* **Manipulação de Arrays/vetores**\n",
    "\n",
    "Os comandos abaixo não funcionam para vetores linha."
   ]
  },
  {
   "cell_type": "code",
   "execution_count": null,
   "metadata": {
    "collapsed": true,
    "scrolled": true
   },
   "outputs": [],
   "source": [
    "# listar vetor coluna v2\n",
    "\n"
   ]
  },
  {
   "cell_type": "code",
   "execution_count": null,
   "metadata": {
    "collapsed": true,
    "scrolled": true
   },
   "outputs": [],
   "source": [
    "# quantidade de elementos de um vetor ou tamanho do vetor v1\n",
    "\n"
   ]
  },
  {
   "cell_type": "code",
   "execution_count": null,
   "metadata": {
    "collapsed": true,
    "scrolled": true
   },
   "outputs": [],
   "source": [
    "# adicionando um elemento ou vetor de elementos [-2, -4, 500 , 100] ao final do vetor v1\n",
    "\n"
   ]
  },
  {
   "cell_type": "code",
   "execution_count": null,
   "metadata": {
    "collapsed": true,
    "scrolled": true
   },
   "outputs": [],
   "source": [
    "# listar vetor v2\n",
    "\n"
   ]
  },
  {
   "cell_type": "code",
   "execution_count": null,
   "metadata": {
    "collapsed": true,
    "scrolled": true
   },
   "outputs": [],
   "source": [
    "# adicionando o elemento 77 e 88  no início do vetor v1\n",
    "\n"
   ]
  },
  {
   "cell_type": "code",
   "execution_count": null,
   "metadata": {
    "collapsed": true,
    "scrolled": true
   },
   "outputs": [],
   "source": [
    "# listar vetor v2\n",
    "\n"
   ]
  },
  {
   "cell_type": "code",
   "execution_count": null,
   "metadata": {
    "collapsed": true,
    "scrolled": true
   },
   "outputs": [],
   "source": [
    "# retirando elemento do final do vetor v2\n",
    "\n"
   ]
  },
  {
   "cell_type": "code",
   "execution_count": null,
   "metadata": {
    "collapsed": true,
    "scrolled": true
   },
   "outputs": [],
   "source": [
    "# listar vetor v2\n",
    "\n"
   ]
  },
  {
   "cell_type": "code",
   "execution_count": null,
   "metadata": {
    "collapsed": true,
    "scrolled": true
   },
   "outputs": [],
   "source": [
    "# retirando elemento do início do vetor \n",
    "\n"
   ]
  },
  {
   "cell_type": "code",
   "execution_count": null,
   "metadata": {
    "collapsed": true,
    "scrolled": true
   },
   "outputs": [],
   "source": [
    "# listar vetor v2\n",
    "\n"
   ]
  },
  {
   "cell_type": "code",
   "execution_count": null,
   "metadata": {
    "collapsed": true,
    "scrolled": true
   },
   "outputs": [],
   "source": [
    "# retirar elementos ordem específica\n",
    "\n"
   ]
  },
  {
   "cell_type": "code",
   "execution_count": null,
   "metadata": {
    "collapsed": true,
    "scrolled": true
   },
   "outputs": [],
   "source": [
    "# Limpar o vetor \n",
    "\n"
   ]
  },
  {
   "cell_type": "markdown",
   "metadata": {},
   "source": [
    "Atenção:  e pop nao serve para vetores linha! Funciona somente para vetores coluna."
   ]
  },
  {
   "cell_type": "markdown",
   "metadata": {},
   "source": [
    "* **Criando vetores igual ao MatLab**"
   ]
  },
  {
   "cell_type": "code",
   "execution_count": null,
   "metadata": {
    "collapsed": true,
    "scrolled": true
   },
   "outputs": [],
   "source": [
    "# criar vetor v4 semelhante ao Linspace do matlab v4\n",
    "\n"
   ]
  },
  {
   "cell_type": "code",
   "execution_count": null,
   "metadata": {
    "collapsed": true,
    "scrolled": true
   },
   "outputs": [],
   "source": [
    "# Acessando v4[5]\n",
    "\n"
   ]
  },
  {
   "cell_type": "code",
   "execution_count": null,
   "metadata": {
    "collapsed": true,
    "scrolled": true
   },
   "outputs": [],
   "source": [
    "# criar vetor v5 semelhante ao matlab \n",
    "\n"
   ]
  },
  {
   "cell_type": "code",
   "execution_count": null,
   "metadata": {
    "collapsed": true,
    "scrolled": true
   },
   "outputs": [],
   "source": [
    "# acessando v5[5]\n",
    "\n"
   ]
  },
  {
   "cell_type": "markdown",
   "metadata": {},
   "source": [
    "* **Vetor aleatorio**"
   ]
  },
  {
   "cell_type": "code",
   "execution_count": null,
   "metadata": {
    "collapsed": true,
    "scrolled": true
   },
   "outputs": [],
   "source": [
    "# criando vetor v6 de números aleatórios da Mega Sena da virada\n",
    "\n"
   ]
  },
  {
   "cell_type": "code",
   "execution_count": null,
   "metadata": {
    "collapsed": true,
    "scrolled": true
   },
   "outputs": [],
   "source": [
    "# números únicos\n",
    "\n"
   ]
  },
  {
   "cell_type": "markdown",
   "metadata": {},
   "source": [
    "* **Ordenação de vetores**\n",
    "\n",
    "A função **sort(vetor, alg=InsertionSort/MergeSort/QuickSort)** somente ordena o vetor e **sort!(vetor)** ordena e substitui os dados do vetor pelos dados ordenados. O método QuickSort é usado por padrão para arrays numéricos, enquanto o MergeSort é usado para outros tipos de arrays."
   ]
  },
  {
   "cell_type": "code",
   "execution_count": null,
   "metadata": {
    "collapsed": true,
    "scrolled": true
   },
   "outputs": [],
   "source": [
    "# ordenando\n",
    "\n"
   ]
  },
  {
   "cell_type": "code",
   "execution_count": null,
   "metadata": {
    "collapsed": true,
    "scrolled": true
   },
   "outputs": [],
   "source": [
    "# ordenando vetor v6 com InsertionSort\n",
    "\n"
   ]
  },
  {
   "cell_type": "markdown",
   "metadata": {},
   "source": [
    "#### ARRAY MULTIDIMENSIONAL / MATRIZES"
   ]
  },
  {
   "cell_type": "markdown",
   "metadata": {},
   "source": [
    "* **Criação e manipulação de Matrizes**"
   ]
  },
  {
   "cell_type": "code",
   "execution_count": null,
   "metadata": {
    "collapsed": true,
    "scrolled": true
   },
   "outputs": [],
   "source": [
    "# Criando uma matriz m1 3x3 \n",
    "\n"
   ]
  },
  {
   "cell_type": "code",
   "execution_count": null,
   "metadata": {
    "collapsed": true,
    "scrolled": true
   },
   "outputs": [],
   "source": [
    "# jogos da mega sena parte 2: penultimate edition!\n",
    "\n"
   ]
  }
 ],
 "metadata": {
  "anaconda-cloud": {},
  "kernelspec": {
   "display_name": "Julia 1.0.3",
   "language": "julia",
   "name": "julia-1.0"
  },
  "language_info": {
   "file_extension": ".jl",
   "mimetype": "application/julia",
   "name": "julia",
   "version": "1.0.3"
  },
  "latex_envs": {
   "LaTeX_envs_menu_present": true,
   "autoclose": false,
   "autocomplete": true,
   "bibliofile": "biblio.bib",
   "cite_by": "apalike",
   "current_citInitial": 1,
   "eqLabelWithNumbers": true,
   "eqNumInitial": 1,
   "hotkeys": {
    "equation": "Ctrl-E",
    "itemize": "Ctrl-I"
   },
   "labels_anchors": false,
   "latex_user_defs": false,
   "report_style_numbering": false,
   "user_envs_cfg": false
  }
 },
 "nbformat": 4,
 "nbformat_minor": 1
}
