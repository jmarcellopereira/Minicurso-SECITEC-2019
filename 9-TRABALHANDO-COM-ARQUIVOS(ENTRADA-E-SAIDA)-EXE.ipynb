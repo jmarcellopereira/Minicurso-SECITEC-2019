{
 "cells": [
  {
   "cell_type": "markdown",
   "metadata": {},
   "source": [
    "# TRABALHANDO COM ARQUIVOS(ENTRADA E SAIDA)"
   ]
  },
  {
   "cell_type": "markdown",
   "metadata": {},
   "source": [
    "## DATA FRAMES \n",
    "\n",
    "Um `DataFrame` é uma estrutura bidimensional semelhante à uma matriz no qual os dados são tabelados em colunas nomeadas no qual possuem a mesma quantidade de linhas. JOSHI (2016) define data frame como:\n",
    "> É uma estrutura de dados que tem colunas rotuladas, que individualmente podem ter diferentes tipos de dados. Como uma tabela SQL ou uma planilha, ela tem duas dimensões. Também pode ser pensado como uma lista de dicionários, mas, fundamentalmente, é diferente. \n",
    "\n",
    "É uma ótima forma de organizar informações pois além de manter uma boa formatação dos dados, ainda permite que sejam gravados em arquivos do tipo \"CSV\", \"XLSX\", \"ODS\" entre outros, que podem ser abertos e manipulados em softwares de planilha tipo excel ou calc. Exemplo de `DataFrame`:\n",
    "\n",
    "<img src=\"Figuras/dataframe.png\" align=\"center\" width=\"300\">\n",
    "<img ></img>\n",
    "Para instalar o pacote use:\n",
    "\n",
    "```julia\n",
    "using Pkg\n",
    "Pkg.add(\"DataFrames\")\n",
    "```"
   ]
  },
  {
   "cell_type": "markdown",
   "metadata": {},
   "source": [
    "### CRIAR, LER SALVAR DATAFRAMES"
   ]
  },
  {
   "cell_type": "markdown",
   "metadata": {},
   "source": [
    "+ **Para criar um dataframe use a sintaxe:**\n",
    "\n",
    "```julia\n",
    "nome_dataframe = DataFrame()\n",
    "nome_dataframe[:nome_coluna_1] = [dado1_col_1,dado2_col_1,...,dadosN_col_1]\n",
    "nome_dataframe[:nome_coluna_2] = [dado1_col_2,dado2_col_2,...,dadosN_col_2]\n",
    "\n",
    "```\n",
    "**OBS** : Nomes das colunas não podem ter espaço"
   ]
  },
  {
   "cell_type": "code",
   "execution_count": 60,
   "metadata": {
    "scrolled": true
   },
   "outputs": [],
   "source": [
    "# Importar data frames\n",
    "\n"
   ]
  },
  {
   "cell_type": "code",
   "execution_count": 59,
   "metadata": {
    "scrolled": false
   },
   "outputs": [],
   "source": [
    "# Criar dataframe \"Softwares1\" contendo colunas Nome e Licença. Nomes das colunas não podem ter espaço\n",
    "\n"
   ]
  },
  {
   "cell_type": "markdown",
   "metadata": {},
   "source": [
    "### MANIPULAR COLUNAS, LINHAS E CONCATENAR DATAFRAMES"
   ]
  },
  {
   "cell_type": "markdown",
   "metadata": {},
   "source": [
    "* **Adicionar e deletar colunas de um DataFrame**\n",
    "\n",
    "Para adicionar uma nova coluna de dados ao DataFrame use:\n",
    "```julia\n",
    "Nome_DataFrame[:nova_coluna] = [vetor_dados]\n",
    "\n",
    "nome_DataFrame.nome_nova_coluna = [vetor_dados]\n",
    "```\n",
    "Para deletar uma coluna use:\n",
    "```julia\n",
    "delete!(Nome_Dataframe, :nome_coluna)\n",
    "```"
   ]
  },
  {
   "cell_type": "code",
   "execution_count": 13,
   "metadata": {
    "scrolled": true
   },
   "outputs": [],
   "source": [
    "# Adicionar uma nova coluna de dados chamada \"gostei\"\n",
    "\n"
   ]
  },
  {
   "cell_type": "code",
   "execution_count": 12,
   "metadata": {
    "scrolled": true
   },
   "outputs": [],
   "source": [
    "# para deletar uma coluna delete!(datafrane, :nome_colula)\n",
    "\n"
   ]
  },
  {
   "cell_type": "markdown",
   "metadata": {},
   "source": [
    "* **Para alterar nome de uma coluna use:**\n",
    "```julia\n",
    "rename!(Nome_Dataframe,:nome_coluna,:novo_nome_coluna) # apenas uma coluna\n",
    "names!(Nome_Dataframe, [:novo_nome_coluna_1, :novo_nome_coluna_2]) # todas as colunas\n",
    "```"
   ]
  },
  {
   "cell_type": "code",
   "execution_count": 14,
   "metadata": {
    "scrolled": true
   },
   "outputs": [],
   "source": [
    "# Alterar o nome da coluna 1 \"Nome\" para \"Nome_do_programa\"\n",
    "\n"
   ]
  },
  {
   "cell_type": "code",
   "execution_count": 15,
   "metadata": {},
   "outputs": [],
   "source": [
    "#Renomear todas as colunas\n",
    "\n"
   ]
  },
  {
   "cell_type": "markdown",
   "metadata": {},
   "source": [
    "### VISUALIZAR E ALTERAR DADOS EM UM DATAFRAME"
   ]
  },
  {
   "cell_type": "markdown",
   "metadata": {},
   "source": [
    "* **Visualizar dados**\n",
    "\n",
    "```julia\n",
    "Nome_DataFrame[:nome_coluna_x]  -> Somente os elementos da coluna_x\n",
    "Nome_DataFrame[coluna_x]        -> Somente os elementos da coluna_x\n",
    "\n",
    "Nome_DataFrame[:nome_coluna_x][elemento_x]  -> Somente um elemento da coluna_x e linha_x\n",
    "Nome_DataFrame[coluna_x][elemento_x]        -> Somente um elemento da coluna_x e linha_x\n",
    "```"
   ]
  },
  {
   "cell_type": "code",
   "execution_count": 19,
   "metadata": {},
   "outputs": [],
   "source": [
    "# Visualizando toda a primeira coluna\n",
    "\n"
   ]
  },
  {
   "cell_type": "code",
   "execution_count": 23,
   "metadata": {},
   "outputs": [],
   "source": [
    "# acessando o segundo elemento da primeira coluna\n",
    "\n"
   ]
  },
  {
   "cell_type": "markdown",
   "metadata": {},
   "source": [
    "* **Alterar dados**\n",
    "\n",
    "```julia\n",
    "Nome_DataFrame[:nome_coluna_x][elemento_x] = novo_dado    -> altera o dado da coluna_x e linha_x\n",
    "Nome_DataFrame[coluna_x][elemento_x]       = novo_dado    -> altera o dado da coluna_x e linha_x\n",
    "Nome_DataFrame[[elem_x1,elem_x2,elem_x3],:coluna_x] = novo_dado* -> altera os dados dos elem x1,x2,x3 da coluna_x\n",
    "\n",
    "*novo_dado pode ser um vetor correspondente aos novos dados de elem x1,x2,x3...\n",
    "```"
   ]
  },
  {
   "cell_type": "code",
   "execution_count": 26,
   "metadata": {},
   "outputs": [],
   "source": [
    "# alterando o valor do segudo elemento da primeira coluna de Softwares1\n",
    "\n"
   ]
  },
  {
   "cell_type": "markdown",
   "metadata": {},
   "source": [
    "* **Adicionar linha de dados**\n",
    "\n",
    "```julia\n",
    "push!(Nome_Dataframe, [dado_col_x1, dado_col_x2, ..., dado_col_xn])\n",
    "```\n",
    "Sendo x um número inteiro que representa a coluna ou elemento.\n"
   ]
  },
  {
   "cell_type": "code",
   "execution_count": 46,
   "metadata": {
    "scrolled": true
   },
   "outputs": [],
   "source": [
    "# adicionar linhas a Software1\n",
    "\n"
   ]
  },
  {
   "cell_type": "markdown",
   "metadata": {},
   "source": [
    "* **Deletar uma linha**\n",
    "\n",
    "```julia\n",
    "deleterows!(Nome_DataFrame, [linha_1,linha_2,...]) # apaga as linhas e modifica o Dataframe(CUIDADO!)\n",
    "deleterows!(Nome_DataFrame, linha_1:linha_x)       # apaga as linhas e modifica o Dataframe(CUIDADO!)\n",
    "unique(Nome_DataFrame)  # apaga a linha repetida \n",
    "unique!(Nome_DataFrame) # apaga a linha repetida e modifica o Dataframe(CUIDADO!)\n",
    "```"
   ]
  },
  {
   "cell_type": "code",
   "execution_count": 32,
   "metadata": {},
   "outputs": [],
   "source": [
    "# retirar elementos de software1\n",
    "\n"
   ]
  },
  {
   "cell_type": "markdown",
   "metadata": {},
   "source": [
    "* **IMPORTAR/SALVAR UM ARQUIVO CSV**\n",
    "\n",
    "\n",
    "**Salvar dados em um arquivo CSV:**\n",
    "```julia\n",
    "  CSV.write(\"Nome_arquivo.csv\", Nome_dataframe);\n",
    "```\n",
    "\n",
    "**importar os dados de um arquivo CSV, use a sintaxe:**\n",
    "\n",
    "```julia\n",
    "   nome_dataframe = CSV.read(\"nome_arquivo.csv\")\n",
    "```   "
   ]
  },
  {
   "cell_type": "code",
   "execution_count": 63,
   "metadata": {},
   "outputs": [],
   "source": [
    "# importar CSV\n",
    "\n"
   ]
  },
  {
   "cell_type": "code",
   "execution_count": 62,
   "metadata": {
    "scrolled": true
   },
   "outputs": [],
   "source": [
    "# salvar no arquivo \"dataframe_softwares1.csv\" o primeiro dataframe\n",
    "\n"
   ]
  },
  {
   "cell_type": "code",
   "execution_count": 61,
   "metadata": {
    "scrolled": false
   },
   "outputs": [],
   "source": [
    "# exibindo o conteúdo do \"dataframe_softwares1.csv\"\n",
    "\n"
   ]
  },
  {
   "cell_type": "markdown",
   "metadata": {
    "collapsed": true
   },
   "source": [
    "* **APLICAÇÕES**"
   ]
  },
  {
   "cell_type": "markdown",
   "metadata": {},
   "source": [
    "Um pesquisador deseja investigar todas as raízes das função $~f  = x + x^2sin(x)~$ num intervalo de 0 a 15."
   ]
  },
  {
   "cell_type": "code",
   "execution_count": 55,
   "metadata": {
    "scrolled": false
   },
   "outputs": [],
   "source": [
    "# importar pacote  DataFrames e SymPy, e criar uma variável simbolica X\n",
    "\n"
   ]
  },
  {
   "cell_type": "code",
   "execution_count": 13,
   "metadata": {},
   "outputs": [],
   "source": [
    "# Função genérica com variável simbólica\n",
    "\n"
   ]
  },
  {
   "cell_type": "code",
   "execution_count": 14,
   "metadata": {
    "scrolled": false
   },
   "outputs": [],
   "source": [
    "# criar grafico da função\n",
    "\n"
   ]
  },
  {
   "cell_type": "code",
   "execution_count": 15,
   "metadata": {
    "scrolled": true
   },
   "outputs": [],
   "source": [
    "# criar dataframe \"Resultado2\" vazio (= [ ] siginifica vetor vazio)\n",
    "\n"
   ]
  },
  {
   "cell_type": "code",
   "execution_count": 57,
   "metadata": {},
   "outputs": [],
   "source": [
    "# usar laço for para inserir no data frame o calculo da raiz para cada valor de xi = [0.0, 3.5, 6.5, 9.8, 12.5]\n",
    "\n"
   ]
  },
  {
   "cell_type": "code",
   "execution_count": 58,
   "metadata": {},
   "outputs": [],
   "source": [
    "# Gravando os dados em um arquivo CSV\n",
    "\n"
   ]
  }
 ],
 "metadata": {
  "anaconda-cloud": {},
  "kernelspec": {
   "display_name": "Julia 1.0.3 (4 threads)",
   "language": "julia",
   "name": "julia-1.0k"
  },
  "language_info": {
   "file_extension": ".jl",
   "mimetype": "application/julia",
   "name": "julia",
   "version": "1.0.3"
  }
 },
 "nbformat": 4,
 "nbformat_minor": 1
}
