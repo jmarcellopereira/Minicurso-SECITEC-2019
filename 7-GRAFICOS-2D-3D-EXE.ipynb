{
 "cells": [
  {
   "cell_type": "markdown",
   "metadata": {},
   "source": [
    "# GRÁFICOS DE DADOS DISCRETOS, DE FUNÇÕES MATEMÁTICAS E DE POLÍGONOS \n",
    "\n",
    "Julia permite usar diversos pacotes gráficos e como são muitos e para cada pacote há a necessidade de aprender um conjunto de comandos, o pacote **Plots** foi criado para solucionar esse problema. Com uma única sintaxe é possível operar nos seguintes pacotes:PyPlot, Plotly / PlotlyJS, GR, UnicodePlots, PGFPlots(necessita instalar o `pdf2svg`), e outros"
   ]
  },
  {
   "cell_type": "markdown",
   "metadata": {
    "collapsed": true
   },
   "source": [
    "## GRÁFICO DE DADOS DISCRETO"
   ]
  },
  {
   "cell_type": "markdown",
   "metadata": {},
   "source": [
    "* **Usando o Plots** \n",
    "\n",
    "Sintaxe:\n",
    "```julia\n",
    "using Plots \n",
    "pacote_grafico()\n",
    "\n",
    "tipo_graf(vetor_x, vetor_y, opções)\n",
    "ou\n",
    "tipo_graf(vetor_x, f(var), opções)\n",
    "```"
   ]
  },
  {
   "cell_type": "code",
   "execution_count": 125,
   "metadata": {},
   "outputs": [],
   "source": [
    "# carregando o Plots e pacote GR\n",
    "\n"
   ]
  },
  {
   "cell_type": "code",
   "execution_count": 7,
   "metadata": {},
   "outputs": [],
   "source": [
    "# definindo vetor x_dados e y_dados\n",
    "\n",
    "x_dados = [0.0, 1.0, 2.0, 3.0, 4.0, 5.0, 6.0, 7.0, 8.0, 9.0, 10.0]\n",
    "y_dados = [0.0, 0.5, 2.3, 5.0, 8.0, 7.0, 6.9, 8.0, 9.0, 6.0, 4.2 ];"
   ]
  },
  {
   "cell_type": "markdown",
   "metadata": {},
   "source": [
    "* **Scatter**"
   ]
  },
  {
   "cell_type": "code",
   "execution_count": 126,
   "metadata": {
    "scrolled": false
   },
   "outputs": [],
   "source": [
    "# gráfico\n",
    "\n"
   ]
  },
  {
   "cell_type": "markdown",
   "metadata": {},
   "source": [
    "**Melhorando o Gráfico**"
   ]
  },
  {
   "cell_type": "code",
   "execution_count": 24,
   "metadata": {
    "scrolled": false
   },
   "outputs": [
    {
     "data": {
      "text/html": [
       "<div id=\"af697660-9775-47dd-9d2d-66cb1639aa8e\" class=\"plotly-graph-div\"></div>\n",
       "\n",
       "<script>\n",
       "    window.PLOTLYENV=window.PLOTLYENV || {};\n",
       "    window.PLOTLYENV.BASE_URL=\"https://plot.ly\";\n",
       "    require(['plotly'], function(Plotly) {\n",
       "        Plotly.newPlot('af697660-9775-47dd-9d2d-66cb1639aa8e', [{\"yaxis\":\"y\",\"y\":[14,13,44,18,11,37,6,16,31,0,25],\"showlegend\":true,\"name\":\"meu graf\",\"type\":\"scatter\",\"xaxis\":\"x\",\"colorbar\":{\"title\":\"\"},\"x\":[0,1,2,3,4,5,6,7,8,9,10],\"mode\":\"markers\",\"marker\":{\"symbol\":\"circle\",\"line\":{\"width\":1,\"color\":\"rgba(0, 0, 0, 1.000)\"},\"size\":8,\"color\":\"rgba(255, 0, 0, 1.000)\"}}],\n",
       "               {\"yaxis\":{\"type\":\"-\",\"titlefont\":{\"size\":15,\"color\":\"rgba(0, 0, 0, 1.000)\",\"family\":\"sans-serif\"},\"title\":\"\",\"tickfont\":{\"size\":11,\"color\":\"rgba(0, 0, 0, 1.000)\",\"family\":\"sans-serif\"},\"ticks\":\"inside\",\"tickmode\":\"array\",\"showgrid\":true,\"tickvals\":[0.0,10.0,20.0,30.0,40.0],\"domain\":[0.050160396617089535,0.9868766404199475],\"ticktext\":[\"0\",\"10\",\"20\",\"30\",\"40\"],\"tickangle\":0,\"zeroline\":false,\"linecolor\":\"rgba(0, 0, 0, 1.000)\",\"tickcolor\":\"rgba(0, 0, 0, 1.000)\",\"anchor\":\"x\"},\"annotations\":[],\"width\":400,\"plot_bgcolor\":\"rgba(255, 255, 255, 1.000)\",\"showlegend\":true,\"legend\":{\"bgcolor\":\"rgba(255, 255, 255, 1.000)\",\"y\":1.0,\"font\":{\"size\":11,\"color\":\"rgba(0, 0, 0, 1.000)\",\"family\":\"sans-serif\"},\"bordercolor\":\"rgba(0, 0, 0, 1.000)\",\"x\":1.0},\"xaxis\":{\"type\":\"-\",\"titlefont\":{\"size\":15,\"color\":\"rgba(0, 0, 0, 1.000)\",\"family\":\"sans-serif\"},\"title\":\"\",\"tickfont\":{\"size\":11,\"color\":\"rgba(0, 0, 0, 1.000)\",\"family\":\"sans-serif\"},\"ticks\":\"inside\",\"tickmode\":\"array\",\"showgrid\":true,\"tickvals\":[0.0,5.0,10.0],\"domain\":[0.05428696412948381,0.9901574803149608],\"ticktext\":[\"0\",\"5\",\"10\"],\"tickangle\":0,\"zeroline\":false,\"linecolor\":\"rgba(0, 0, 0, 1.000)\",\"tickcolor\":\"rgba(0, 0, 0, 1.000)\",\"anchor\":\"y\"},\"paper_bgcolor\":\"rgba(255, 255, 255, 1.000)\",\"margin\":{\"r\":0,\"l\":0,\"b\":20,\"t\":20},\"height\":300}, {showLink: false});\n",
       "\n",
       "    });\n",
       " </script>\n"
      ]
     },
     "execution_count": 24,
     "metadata": {},
     "output_type": "execute_result"
    }
   ],
   "source": [
    "# label=\"meu graf\", size=(400, 300), mark =(:red, :s))\n",
    "\n"
   ]
  },
  {
   "cell_type": "code",
   "execution_count": 28,
   "metadata": {},
   "outputs": [
    {
     "data": {
      "text/html": [
       "<div id=\"7eabc588-f094-41a6-ad65-96be49a583a5\" class=\"plotly-graph-div\"></div>\n",
       "\n",
       "<script>\n",
       "    window.PLOTLYENV=window.PLOTLYENV || {};\n",
       "    window.PLOTLYENV.BASE_URL=\"https://plot.ly\";\n",
       "    require(['plotly'], function(Plotly) {\n",
       "        Plotly.newPlot('7eabc588-f094-41a6-ad65-96be49a583a5', [{\"yaxis\":\"y\",\"y\":[14,13,44,18,11,37,6,16,31,0,25],\"showlegend\":true,\"name\":\"y1\",\"type\":\"scatter\",\"xaxis\":\"x\",\"colorbar\":{\"title\":\"\"},\"x\":[0,1,2,3,4,5,6,7,8,9,10],\"mode\":\"markers\",\"marker\":{\"symbol\":\"circle\",\"line\":{\"width\":1,\"color\":\"rgba(0, 0, 0, 1.000)\"},\"size\":[20,10,16,40,6,10,4,8,8,16],\"color\":\"rgba(0, 154, 250, 1.000)\"}}],\n",
       "               {\"yaxis\":{\"type\":\"-\",\"titlefont\":{\"size\":15,\"color\":\"rgba(0, 0, 0, 1.000)\",\"family\":\"sans-serif\"},\"title\":\"\",\"tickfont\":{\"size\":11,\"color\":\"rgba(0, 0, 0, 1.000)\",\"family\":\"sans-serif\"},\"ticks\":\"inside\",\"tickmode\":\"array\",\"showgrid\":true,\"tickvals\":[0.0,10.0,20.0,30.0,40.0],\"domain\":[0.050160396617089535,0.9868766404199475],\"ticktext\":[\"0\",\"10\",\"20\",\"30\",\"40\"],\"tickangle\":0,\"zeroline\":false,\"linecolor\":\"rgba(0, 0, 0, 1.000)\",\"tickcolor\":\"rgba(0, 0, 0, 1.000)\",\"anchor\":\"x\"},\"annotations\":[],\"width\":500,\"plot_bgcolor\":\"rgba(255, 255, 255, 1.000)\",\"showlegend\":true,\"legend\":{\"bgcolor\":\"rgba(255, 255, 255, 1.000)\",\"y\":1.0,\"font\":{\"size\":11,\"color\":\"rgba(0, 0, 0, 1.000)\",\"family\":\"sans-serif\"},\"bordercolor\":\"rgba(0, 0, 0, 1.000)\",\"x\":1.0},\"xaxis\":{\"type\":\"-\",\"titlefont\":{\"size\":15,\"color\":\"rgba(0, 0, 0, 1.000)\",\"family\":\"sans-serif\"},\"title\":\"\",\"tickfont\":{\"size\":11,\"color\":\"rgba(0, 0, 0, 1.000)\",\"family\":\"sans-serif\"},\"ticks\":\"inside\",\"tickmode\":\"array\",\"showgrid\":true,\"tickvals\":[0.0,5.0,10.0],\"domain\":[0.04342957130358705,0.9921259842519685],\"ticktext\":[\"0\",\"5\",\"10\"],\"tickangle\":0,\"zeroline\":false,\"linecolor\":\"rgba(0, 0, 0, 1.000)\",\"tickcolor\":\"rgba(0, 0, 0, 1.000)\",\"anchor\":\"y\"},\"paper_bgcolor\":\"rgba(255, 255, 255, 1.000)\",\"margin\":{\"r\":0,\"l\":0,\"b\":20,\"t\":20},\"height\":300}, {showLink: false});\n",
       "\n",
       "    });\n",
       " </script>\n"
      ]
     },
     "execution_count": 28,
     "metadata": {},
     "output_type": "execute_result"
    }
   ],
   "source": [
    "# grafico scatter com peso, flag ms = vetor_pesos\n",
    "\n"
   ]
  },
  {
   "cell_type": "markdown",
   "metadata": {},
   "source": [
    "### OUTROS TIPOS DE GRÁFICOS "
   ]
  },
  {
   "cell_type": "markdown",
   "metadata": {},
   "source": [
    "* **Pizza**"
   ]
  },
  {
   "cell_type": "code",
   "execution_count": 127,
   "metadata": {
    "scrolled": false
   },
   "outputs": [],
   "source": [
    "# Dados Detran\n",
    "\n",
    "Vitimas = [\"Motociclistas\", \"Motoristas\", \"Pedestres\", \"Ciclistas\", \"Outros\"]\n",
    "Percentual = [34.56, 24.11 , 18.33, 3.70, 19.31];"
   ]
  },
  {
   "cell_type": "code",
   "execution_count": 54,
   "metadata": {},
   "outputs": [],
   "source": [
    "# Gráfico Pie\n",
    "\n"
   ]
  },
  {
   "cell_type": "markdown",
   "metadata": {},
   "source": [
    "* **Barras Verticais**"
   ]
  },
  {
   "cell_type": "code",
   "execution_count": 128,
   "metadata": {},
   "outputs": [],
   "source": [
    "# Quantidade de acidentes\n",
    "\n",
    "Quantidade = [12199, 8511 , 6469, 1306, 6815];"
   ]
  },
  {
   "cell_type": "code",
   "execution_count": 129,
   "metadata": {
    "scrolled": false
   },
   "outputs": [],
   "source": [
    "# grafico barras verticais para Vitimas e Quantidade\n",
    "\n"
   ]
  },
  {
   "cell_type": "markdown",
   "metadata": {},
   "source": [
    "## GRÁFICO DE UMA FUNÇÃO"
   ]
  },
  {
   "cell_type": "markdown",
   "metadata": {},
   "source": [
    "#### GRÁFICO FUNÇÃO GENÉRICA\n",
    "\n",
    "Sintaxe:\n",
    "```julia\n",
    "plot(vetor_x,funcao(vetor_x),opcoes)\n",
    "```"
   ]
  },
  {
   "cell_type": "code",
   "execution_count": 130,
   "metadata": {
    "scrolled": false
   },
   "outputs": [],
   "source": [
    "# definição função genérica f1 e f2\n",
    "\n",
    "\n",
    "\n",
    "# vetor_x definido como vetor de -10 até 10\n",
    "\n"
   ]
  },
  {
   "cell_type": "code",
   "execution_count": 36,
   "metadata": {},
   "outputs": [
    {
     "data": {
      "text/html": [
       "<div id=\"a9323f2f-cd62-481c-b20d-0c809ff883d5\" class=\"plotly-graph-div\"></div>\n",
       "\n",
       "<script>\n",
       "    window.PLOTLYENV=window.PLOTLYENV || {};\n",
       "    window.PLOTLYENV.BASE_URL=\"https://plot.ly\";\n",
       "    require(['plotly'], function(Plotly) {\n",
       "        Plotly.newPlot('a9323f2f-cd62-481c-b20d-0c809ff883d5', [{\"yaxis\":\"y\",\"y\":[0.0,0.009983341664682815,0.03973386615901225,0.08865606199840186,0.15576733692346023,0.2397127693021015,0.3387854840370212,0.4509523810663837,0.5738848727196183,0.7049942186647351,0.8414709848078965,0.9803280960675791,1.1184469031606714,1.2526256410423509,1.3796296219838442,1.4962424799060816,1.5993177648664083,1.6858301777691966,1.7529257355807513,1.7979701666060874,1.8185948536513634,1.8127396699626348,1.7786920884030983,1.7151219880064565,1.6211116333227622,1.496180360259891,1.340303566735807,1.1539256766313404,0.9379668204365342,0.6938230547205491,0.4233600241796016,0.12890005354320053,-0.18679725896825627,-0.5205607906727191,-0.8688397468912261,-1.2277412969136694,-1.5930735958614688,-1.9603937213614258,-2.3250599855823317,-2.6822880208174977,-3.027209981231713,-3.354936155364082,-3.6606182441370705,-3.939513528022656,-4.187049125113871,-4.3988855294929365,-4.570978616713936,-4.699639310551274,-4.781590122412035,-4.8140178018592295,-4.794621373315692,-4.721654879871435,-4.593964209744796,-4.411017443786677,-4.172928232802331,-3.8804717906371557,-3.5350931720850007,-3.138907592806534,-2.6946926405997926,-2.2058723224983927,-1.6764929891935552,-1.1111912760597848,-0.5151542974684776,0.10592757305140318,0.7459149110431593,1.398279922570801,2.0561729991882935,2.712494468131209,3.3599707877425353,3.991234374278582,4.598906191031523,5.175680184893719,5.714408619713902,6.20818733058852,6.65043990900604,7.034999825810542,7.356189507439296,7.608895400852903,7.788638093921919,7.891636600534199,7.914865972987054,7.856107467845199,7.713990564774139,7.488026220177235,7.178630827941557,6.787140457299667,6.315815041717374,5.767832301714995,5.147271297447503,4.459085622475174,3.7090663671758093,2.9037950973791045,2.050587209722278,1.157426138615674,0.232888999261563,-0.7139356443871884,-1.6735370997406045,-2.6360780761861418,-3.5914954666688983,-4.529605348375682,-5.440211108893697],\"showlegend\":true,\"name\":\"função\",\"type\":\"scatter\",\"xaxis\":\"x\",\"line\":{\"width\":1,\"dash\":\"solid\",\"color\":\"rgba(255, 0, 0, 1.000)\",\"shape\":\"linear\"},\"colorbar\":{\"title\":\"\"},\"x\":[0.0,0.1,0.2,0.3,0.4,0.5,0.6,0.7,0.8,0.9,1.0,1.1,1.2,1.3,1.4,1.5,1.6,1.7,1.8,1.9,2.0,2.1,2.2,2.3,2.4,2.5,2.6,2.7,2.8,2.9,3.0,3.1,3.2,3.3,3.4,3.5,3.6,3.7,3.8,3.9,4.0,4.1,4.2,4.3,4.4,4.5,4.6,4.7,4.8,4.9,5.0,5.1,5.2,5.3,5.4,5.5,5.6,5.7,5.8,5.9,6.0,6.1,6.2,6.3,6.4,6.5,6.6,6.7,6.8,6.9,7.0,7.1,7.2,7.3,7.4,7.5,7.6,7.7,7.8,7.9,8.0,8.1,8.2,8.3,8.4,8.5,8.6,8.7,8.8,8.9,9.0,9.1,9.2,9.3,9.4,9.5,9.6,9.7,9.8,9.9,10.0],\"mode\":\"lines\"}],\n",
       "               {\"yaxis\":{\"type\":\"-\",\"titlefont\":{\"size\":15,\"color\":\"rgba(0, 0, 0, 1.000)\",\"family\":\"sans-serif\"},\"title\":\"\",\"tickfont\":{\"size\":11,\"color\":\"rgba(0, 0, 0, 1.000)\",\"family\":\"sans-serif\"},\"ticks\":\"inside\",\"tickmode\":\"array\",\"showgrid\":true,\"tickvals\":[-5.0,0.0,5.0],\"domain\":[0.050160396617089535,0.9868766404199475],\"ticktext\":[\"-5\",\"0\",\"5\"],\"tickangle\":0,\"zeroline\":false,\"linecolor\":\"rgba(0, 0, 0, 1.000)\",\"tickcolor\":\"rgba(0, 0, 0, 1.000)\",\"anchor\":\"x\"},\"annotations\":[],\"width\":400,\"plot_bgcolor\":\"rgba(255, 255, 255, 1.000)\",\"showlegend\":true,\"legend\":{\"bgcolor\":\"rgba(255, 255, 255, 1.000)\",\"y\":1.0,\"font\":{\"size\":11,\"color\":\"rgba(0, 0, 0, 1.000)\",\"family\":\"sans-serif\"},\"bordercolor\":\"rgba(0, 0, 0, 1.000)\",\"x\":1.0},\"xaxis\":{\"type\":\"-\",\"titlefont\":{\"size\":15,\"color\":\"rgba(0, 0, 0, 1.000)\",\"family\":\"sans-serif\"},\"title\":\"\",\"tickfont\":{\"size\":11,\"color\":\"rgba(0, 0, 0, 1.000)\",\"family\":\"sans-serif\"},\"ticks\":\"inside\",\"tickmode\":\"array\",\"showgrid\":true,\"tickvals\":[0.0,2.0,4.0,6.0,8.0,10.0],\"domain\":[0.05428696412948381,0.9901574803149608],\"ticktext\":[\"0\",\"2\",\"4\",\"6\",\"8\",\"10\"],\"tickangle\":0,\"zeroline\":false,\"linecolor\":\"rgba(0, 0, 0, 1.000)\",\"tickcolor\":\"rgba(0, 0, 0, 1.000)\",\"anchor\":\"y\"},\"paper_bgcolor\":\"rgba(255, 255, 255, 1.000)\",\"margin\":{\"r\":0,\"l\":0,\"b\":20,\"t\":20},\"height\":300}, {showLink: false});\n",
       "\n",
       "    });\n",
       " </script>\n"
      ]
     },
     "execution_count": 36,
     "metadata": {},
     "output_type": "execute_result"
    }
   ],
   "source": [
    "# gráfico com nome função, tamanho 400x300 e linha vermelha\n",
    "\n"
   ]
  },
  {
   "cell_type": "markdown",
   "metadata": {},
   "source": [
    "### GRÁFICOS MULTIPLOS "
   ]
  },
  {
   "cell_type": "markdown",
   "metadata": {},
   "source": [
    "#### GRÁFICOS GERADOS AO MESMO TEMPO SOBRE A MESMA FIGURA \n",
    "\n",
    "```julia\n",
    "plot(var_vetor,funcao(var_vetor),opcoes)\n",
    "plot!(var_vetor, função(var_vetor), opções)\n",
    "```"
   ]
  },
  {
   "cell_type": "code",
   "execution_count": 131,
   "metadata": {
    "scrolled": false
   },
   "outputs": [],
   "source": [
    "# grafico multiplo de funcoes\n",
    "\n"
   ]
  },
  {
   "cell_type": "markdown",
   "metadata": {},
   "source": [
    "#### GRÁFICOS MÚLTIPLOS LADO A LADO\n",
    "```julia\n",
    "plot(plot1, plot2,..,plotn layout = @layout([a  b  .. n]), title = [\"graf1\" \"graf2\"]) # hor\n",
    "plot(plot1, plot2,..,plotn layout = @layout([a; b; .. n]), title = [\"graf1\" \"graf2\"]) # vert\n",
    "```"
   ]
  },
  {
   "cell_type": "code",
   "execution_count": 133,
   "metadata": {},
   "outputs": [],
   "source": [
    "# definir plot1 e plot2\n",
    "\n"
   ]
  },
  {
   "cell_type": "markdown",
   "metadata": {},
   "source": [
    "**Horizontal**"
   ]
  },
  {
   "cell_type": "code",
   "execution_count": 46,
   "metadata": {
    "scrolled": false
   },
   "outputs": [],
   "source": [
    "# graficos lado a lado na horizontal\n",
    "\n"
   ]
  },
  {
   "cell_type": "markdown",
   "metadata": {},
   "source": [
    "**Vertical**"
   ]
  },
  {
   "cell_type": "code",
   "execution_count": 46,
   "metadata": {
    "scrolled": false
   },
   "outputs": [
    {
     "data": {
      "text/html": [
       "<div id=\"76d23607-bab8-4099-bfee-0d1a8b594de6\" class=\"plotly-graph-div\"></div>\n",
       "\n",
       "<script>\n",
       "    window.PLOTLYENV=window.PLOTLYENV || {};\n",
       "    window.PLOTLYENV.BASE_URL=\"https://plot.ly\";\n",
       "    require(['plotly'], function(Plotly) {\n",
       "        Plotly.newPlot('76d23607-bab8-4099-bfee-0d1a8b594de6', [{\"yaxis\":\"y\",\"y\":[0.0,0.009983341664682815,0.03973386615901225,0.08865606199840186,0.15576733692346023,0.2397127693021015,0.3387854840370212,0.4509523810663837,0.5738848727196183,0.7049942186647351,0.8414709848078965,0.9803280960675791,1.1184469031606714,1.2526256410423509,1.3796296219838442,1.4962424799060816,1.5993177648664083,1.6858301777691966,1.7529257355807513,1.7979701666060874,1.8185948536513634,1.8127396699626348,1.7786920884030983,1.7151219880064565,1.6211116333227622,1.496180360259891,1.340303566735807,1.1539256766313404,0.9379668204365342,0.6938230547205491,0.4233600241796016,0.12890005354320053,-0.18679725896825627,-0.5205607906727191,-0.8688397468912261,-1.2277412969136694,-1.5930735958614688,-1.9603937213614258,-2.3250599855823317,-2.6822880208174977,-3.027209981231713,-3.354936155364082,-3.6606182441370705,-3.939513528022656,-4.187049125113871,-4.3988855294929365,-4.570978616713936,-4.699639310551274,-4.781590122412035,-4.8140178018592295,-4.794621373315692,-4.721654879871435,-4.593964209744796,-4.411017443786677,-4.172928232802331,-3.8804717906371557,-3.5350931720850007,-3.138907592806534,-2.6946926405997926,-2.2058723224983927,-1.6764929891935552,-1.1111912760597848,-0.5151542974684776,0.10592757305140318,0.7459149110431593,1.398279922570801,2.0561729991882935,2.712494468131209,3.3599707877425353,3.991234374278582,4.598906191031523,5.175680184893719,5.714408619713902,6.20818733058852,6.65043990900604,7.034999825810542,7.356189507439296,7.608895400852903,7.788638093921919,7.891636600534199,7.914865972987054,7.856107467845199,7.713990564774139,7.488026220177235,7.178630827941557,6.787140457299667,6.315815041717374,5.767832301714995,5.147271297447503,4.459085622475174,3.7090663671758093,2.9037950973791045,2.050587209722278,1.157426138615674,0.232888999261563,-0.7139356443871884,-1.6735370997406045,-2.6360780761861418,-3.5914954666688983,-4.529605348375682,-5.440211108893697],\"showlegend\":true,\"name\":\"y1\",\"type\":\"scatter\",\"xaxis\":\"x\",\"line\":{\"width\":1,\"dash\":\"solid\",\"color\":\"rgba(255, 0, 0, 1.000)\",\"shape\":\"linear\"},\"colorbar\":{\"title\":\"\"},\"x\":[0.0,0.1,0.2,0.3,0.4,0.5,0.6,0.7,0.8,0.9,1.0,1.1,1.2,1.3,1.4,1.5,1.6,1.7,1.8,1.9,2.0,2.1,2.2,2.3,2.4,2.5,2.6,2.7,2.8,2.9,3.0,3.1,3.2,3.3,3.4,3.5,3.6,3.7,3.8,3.9,4.0,4.1,4.2,4.3,4.4,4.5,4.6,4.7,4.8,4.9,5.0,5.1,5.2,5.3,5.4,5.5,5.6,5.7,5.8,5.9,6.0,6.1,6.2,6.3,6.4,6.5,6.6,6.7,6.8,6.9,7.0,7.1,7.2,7.3,7.4,7.5,7.6,7.7,7.8,7.9,8.0,8.1,8.2,8.3,8.4,8.5,8.6,8.7,8.8,8.9,9.0,9.1,9.2,9.3,9.4,9.5,9.6,9.7,9.8,9.9,10.0],\"mode\":\"lines\"},{\"yaxis\":\"y2\",\"y\":[0.0,0.09950041652780259,0.19601331556824833,0.28660094673768177,0.3684243976011541,0.4387912809451864,0.49520136894580696,0.5353895310991419,0.5573653674777324,0.559448971443598,0.5403023058681398,0.4989557335681351,0.4348293053720083,0.34774847721196356,0.23795400006033743,0.10610580250155435,-0.046719235682062106,-0.21903564030239187,-0.40896377044755683,-0.6142501770406563,-0.8322936730942848,-1.060176819659701,-1.294702457961761,-1.532434848943595,-1.769744917298989,-2.002859038867334,-2.227910758759263,-2.4409947834460652,-2.6382225538722426,-2.8157786789338126,-2.9699774898013365,-3.0973189658471663,-3.19454328254321,-3.258683240699254,-3.2871138547701677,-3.277598405517787,-3.228330298802929,-3.1379701173285097,-3.005677305274784,-2.8311359863805468,-2.6145744834544478,-2.3567781807864034,-2.0590954496309375,-1.7234364399438944,-1.3522646279050452,-0.9485810974385086,-0.5159016239012524,-0.058226718275585634,0.4199951205093427,0.9139106101706213,1.4183109273161312,1.927686487836199,2.436286690761961,2.938183981749552,3.4273415300902275,3.89768375860193,4.343168919657398,4.7578628735832105,5.13601319825965,5.472122741389812,5.761021719902196,5.997937474499765,6.178561001543948,6.299109409215515,6.356383480052433,6.347819567232152,6.2715351069262955,6.12636709317664,5.911902934378812,5.628503190864962,5.277315780403132,4.860281331743926,4.380129464632233,3.8403658768820685,3.245250224050489,2.5997648837626937,1.9095748036251432,1.1809787376915555,0.42085228038866807,-0.36341679255234194,-1.1640002704689083,-1.972707645259908,-2.7810698600674426,-3.5804278132561533,-4.362024694580159,-5.117101172821001,-5.836992406952107,-6.513225816697368,-7.1376185237425736,-7.7023733622459,-8.200172356962092,-8.624266579393117,-8.968561316918304,-9.227695526709212,-9.397114595130942,-9.473135483865596,-9.453003415623618,-9.334939334363709,-9.118177466626582,-8.802992410991072,-8.390715290764524],\"showlegend\":true,\"name\":\"y1\",\"type\":\"scatter\",\"xaxis\":\"x2\",\"line\":{\"width\":1,\"dash\":\"solid\",\"color\":\"rgba(0, 154, 250, 1.000)\",\"shape\":\"linear\"},\"colorbar\":{\"title\":\"\"},\"x\":[0.0,0.1,0.2,0.3,0.4,0.5,0.6,0.7,0.8,0.9,1.0,1.1,1.2,1.3,1.4,1.5,1.6,1.7,1.8,1.9,2.0,2.1,2.2,2.3,2.4,2.5,2.6,2.7,2.8,2.9,3.0,3.1,3.2,3.3,3.4,3.5,3.6,3.7,3.8,3.9,4.0,4.1,4.2,4.3,4.4,4.5,4.6,4.7,4.8,4.9,5.0,5.1,5.2,5.3,5.4,5.5,5.6,5.7,5.8,5.9,6.0,6.1,6.2,6.3,6.4,6.5,6.6,6.7,6.8,6.9,7.0,7.1,7.2,7.3,7.4,7.5,7.6,7.7,7.8,7.9,8.0,8.1,8.2,8.3,8.4,8.5,8.6,8.7,8.8,8.9,9.0,9.1,9.2,9.3,9.4,9.5,9.6,9.7,9.8,9.9,10.0],\"mode\":\"lines\"}],\n",
       "               {\"yaxis\":{\"type\":\"-\",\"titlefont\":{\"size\":15,\"color\":\"rgba(0, 0, 0, 1.000)\",\"family\":\"sans-serif\"},\"title\":\"\",\"tickfont\":{\"size\":11,\"color\":\"rgba(0, 0, 0, 1.000)\",\"family\":\"sans-serif\"},\"ticks\":\"inside\",\"tickmode\":\"array\",\"showgrid\":true,\"tickvals\":[-5.0,0.0,5.0],\"domain\":[0.537620297462817,0.9415463692038495],\"ticktext\":[\"-5\",\"0\",\"5\"],\"tickangle\":0,\"zeroline\":false,\"linecolor\":\"rgba(0, 0, 0, 1.000)\",\"tickcolor\":\"rgba(0, 0, 0, 1.000)\",\"anchor\":\"x\"},\"annotations\":[{\"text\":\"Graf_a\",\"y\":1.0,\"xref\":\"paper\",\"font\":{\"size\":20,\"color\":\"rgba(0, 0, 0, 1.000)\",\"family\":\"sans-serif\"},\"xanchor\":\"center\",\"x\":0.5148148148148148,\"yref\":\"paper\",\"showarrow\":false,\"yanchor\":\"top\",\"rotation\":-0.0},{\"text\":\"graf B\",\"y\":0.49999999999999994,\"xref\":\"paper\",\"font\":{\"size\":20,\"color\":\"rgba(0, 0, 0, 1.000)\",\"family\":\"sans-serif\"},\"xanchor\":\"center\",\"x\":0.5148148148148148,\"yref\":\"paper\",\"showarrow\":false,\"yanchor\":\"top\",\"rotation\":-0.0}],\"width\":600,\"showlegend\":true,\"legend\":{\"bgcolor\":\"rgba(255, 255, 255, 1.000)\",\"y\":1.0,\"font\":{\"size\":11,\"color\":\"rgba(0, 0, 0, 1.000)\",\"family\":\"sans-serif\"},\"bordercolor\":\"rgba(0, 0, 0, 1.000)\",\"x\":1.0},\"xaxis\":{\"type\":\"-\",\"titlefont\":{\"size\":15,\"color\":\"rgba(0, 0, 0, 1.000)\",\"family\":\"sans-serif\"},\"title\":\"\",\"tickfont\":{\"size\":11,\"color\":\"rgba(0, 0, 0, 1.000)\",\"family\":\"sans-serif\"},\"ticks\":\"inside\",\"tickmode\":\"array\",\"showgrid\":true,\"tickvals\":[0.0,2.0,4.0,6.0,8.0,10.0],\"domain\":[0.03619130941965587,0.9934383202099738],\"ticktext\":[\"0\",\"2\",\"4\",\"6\",\"8\",\"10\"],\"tickangle\":0,\"zeroline\":false,\"linecolor\":\"rgba(0, 0, 0, 1.000)\",\"tickcolor\":\"rgba(0, 0, 0, 1.000)\",\"anchor\":\"y\"},\"yaxis2\":{\"type\":\"-\",\"titlefont\":{\"size\":15,\"color\":\"rgba(0, 0, 0, 1.000)\",\"family\":\"sans-serif\"},\"title\":\"\",\"tickfont\":{\"size\":11,\"color\":\"rgba(0, 0, 0, 1.000)\",\"family\":\"sans-serif\"},\"ticks\":\"inside\",\"tickmode\":\"array\",\"showgrid\":true,\"tickvals\":[-5.0,0.0,5.0],\"domain\":[0.03762029746281702,0.44154636920384943],\"ticktext\":[\"-5\",\"0\",\"5\"],\"tickangle\":0,\"zeroline\":false,\"linecolor\":\"rgba(0, 0, 0, 1.000)\",\"tickcolor\":\"rgba(0, 0, 0, 1.000)\",\"anchor\":\"x2\"},\"xaxis2\":{\"type\":\"-\",\"titlefont\":{\"size\":15,\"color\":\"rgba(0, 0, 0, 1.000)\",\"family\":\"sans-serif\"},\"title\":\"\",\"tickfont\":{\"size\":11,\"color\":\"rgba(0, 0, 0, 1.000)\",\"family\":\"sans-serif\"},\"ticks\":\"inside\",\"tickmode\":\"array\",\"showgrid\":true,\"tickvals\":[0.0,2.0,4.0,6.0,8.0,10.0],\"domain\":[0.03619130941965587,0.9934383202099738],\"ticktext\":[\"0\",\"2\",\"4\",\"6\",\"8\",\"10\"],\"tickangle\":0,\"zeroline\":false,\"linecolor\":\"rgba(0, 0, 0, 1.000)\",\"tickcolor\":\"rgba(0, 0, 0, 1.000)\",\"anchor\":\"y2\"},\"margin\":{\"r\":0,\"l\":0,\"b\":20,\"t\":20},\"height\":400,\"plot_bgcolor\":\"rgba(255, 255, 255, 1.000)\",\"paper_bgcolor\":\"rgba(255, 255, 255, 1.000)\"}, {showLink: false});\n",
       "\n",
       "    });\n",
       " </script>\n"
      ]
     },
     "execution_count": 46,
     "metadata": {},
     "output_type": "execute_result"
    }
   ],
   "source": [
    "# graficos lado a lado na vertical\n",
    "\n"
   ]
  },
  {
   "cell_type": "markdown",
   "metadata": {},
   "source": [
    "## GRÁFICOS 3D"
   ]
  },
  {
   "cell_type": "markdown",
   "metadata": {},
   "source": [
    "### GRÁFICO DE LINHAS\n",
    "+  Sintaxe:\n",
    "```julia\n",
    "vetor_x \n",
    "vetor_y ou y(x)\n",
    "vetor_z ou z(x,y)\n",
    "plot( x, y, z, argumentos);\n",
    "```"
   ]
  },
  {
   "cell_type": "code",
   "execution_count": 115,
   "metadata": {
    "scrolled": false
   },
   "outputs": [],
   "source": [
    "# definir vetor_x, vetor_y e função z(x, y) = x^2 + y^2\n",
    "\n"
   ]
  },
  {
   "cell_type": "code",
   "execution_count": 122,
   "metadata": {},
   "outputs": [],
   "source": [
    "# gráfico função z.(x,y)\n",
    "\n"
   ]
  },
  {
   "cell_type": "markdown",
   "metadata": {},
   "source": [
    "### GRÁFICO DE SUPERFÍCIE\n",
    "\n",
    "+ Por padrão, a figura será colorida em tons de uma cor sólida, mas também suporta mapeamento de cores, fornecendo o .  Sintaxe:\n",
    "```julia\n",
    "vetor_x \n",
    "vetor_y ou y(x)\n",
    "matriz_z ou z(x,y) \n",
    "surface( vetor_x, vetor_y, z, argumentos);\n",
    "```"
   ]
  },
  {
   "cell_type": "code",
   "execution_count": 124,
   "metadata": {
    "scrolled": false
   },
   "outputs": [],
   "source": [
    "# grafico de uma superfície\n",
    "\n"
   ]
  }
 ],
 "metadata": {
  "anaconda-cloud": {},
  "kernelspec": {
   "display_name": "Julia 1.0.3 (4 threads)",
   "language": "julia",
   "name": "julia-1.0k"
  },
  "language_info": {
   "file_extension": ".jl",
   "mimetype": "application/julia",
   "name": "julia",
   "version": "1.0.3"
  }
 },
 "nbformat": 4,
 "nbformat_minor": 1
}
