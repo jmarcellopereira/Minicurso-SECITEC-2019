{
 "cells": [
  {
   "cell_type": "markdown",
   "metadata": {},
   "source": [
    "# CÁLCULO DE RAÍZES E SISTEMAS DE EQUAÇÕES E INEQUAÇÕES\n",
    "\n",
    "Alguns pacotes para encontrar raízes de equações:\n",
    "\n",
    "\n",
    "* **SymPy**: O pacote SymPy é uma biblioteca Python para matemática simbólica acessada via pacote PyCall e permite resolver equações e sistemas lineares. A função `solve()` permite resolver equações e sistemas lineares e `nsolve()` equações e sistemas não lineares. \n",
    "\n",
    " \n",
    "* **Roots**: Este pacote implementa métodos numéricos (Bissecção, Newton, Secante e Halley) para encontrar raízes de equações lineares e não lineares. A interface básica é através da função `fzero()`.\n",
    "\n",
    "\n",
    "* **Polynomials**: É um pacote exclusivo para manipulação de polinômios. Permite operações de aritmética básica, integração, diferenciação, avaliação e determinação de raizes em polinômios univariados densos.\n",
    "\n",
    "\n",
    "* **SunDials**: É um pacote para Julia que faz a interface para a biblioteca Sundials da biblioteca escrita em `C`. Apresenta uma ótima velocidade de cálculo e permite resolver integrais de EDO, sistemas não lineares e outros.\n",
    "\n",
    "\n",
    "* **NLsolve**: O pacote NLsolve resolve sistemas de equações não-lineares utilizando diversos algoritmos e métodos numericos."
   ]
  },
  {
   "cell_type": "markdown",
   "metadata": {},
   "source": [
    "## RAIZES DE UMA EQUAÇÃO "
   ]
  },
  {
   "cell_type": "markdown",
   "metadata": {},
   "source": [
    "### SOLUÇÃO SYMBÓLICA"
   ]
  },
  {
   "cell_type": "markdown",
   "metadata": {},
   "source": [
    "#### SYMPY\n",
    "\n",
    "Para calcular as raízes de uma equação algébrica ou transcendente* com apenas uma variável use a seguinte sintaxe:\n",
    "```julia\n",
    "solve(equação, var)\n",
    "```\n",
    "Sendo:\n",
    "- equação: equação algébrica expressa diretamente ou através de uma função genérica. Não funciona com função anônima.\n",
    "- var : incógnita da equação.\n",
    "\n",
    "A função retorna um vetor de dados simbólicos do tipo `SymPy.Sym`. Caso a função `solve()` retorne `[]` ou <span style=\"color:blue\">raises NotImplementedError</span>, isto significa que o método empregado pelo função `solve()` não conseguiu encontrar uma solução, porém ela poderá existir e será encontrada (caso exista em um dado intervalo) numericamente. \n",
    "\n",
    "    * nem todas é possível calcular, sendo então necessário uma solução numérica."
   ]
  },
  {
   "cell_type": "markdown",
   "metadata": {},
   "source": [
    "Equação de Gauss, ou equação dos pontos conjugados, relaciona a posição onde está o objeto ($p$) à frente de um espelho esférico, a posição da imagem formada ($p'$) e o foco do espelho (f): \n",
    "\n",
    "<img src=\"Figuras/gauss.jpg\" width=\"400\" height=\"400\">\n",
    "\n",
    "\n",
    "Podemos resolver a equação de Gauss em relação à distância $p$ do objeto até o espelho."
   ]
  },
  {
   "cell_type": "code",
   "execution_count": 26,
   "metadata": {
    "scrolled": false
   },
   "outputs": [],
   "source": [
    "# Carregar SymPy e variáveis simbólicas f, p_o, p_i, i, o\n",
    "\n"
   ]
  },
  {
   "cell_type": "markdown",
   "metadata": {},
   "source": [
    "Resolver a equação de Gauss em função da distancia da imagem ao espelho\n",
    "\n",
    "$\\displaystyle \\frac{1}{f} = \\frac{1}{p_o} + \\frac{1}{p_i}$     ->    $\\displaystyle \\frac{1}{f} - \\frac{1}{p_o} - \\frac{1}{p_i} = 0$"
   ]
  },
  {
   "cell_type": "code",
   "execution_count": 27,
   "metadata": {},
   "outputs": [],
   "source": [
    "# sol_p_i recebe a solução da equação de Gauss\n",
    "\n"
   ]
  },
  {
   "cell_type": "code",
   "execution_count": 28,
   "metadata": {},
   "outputs": [],
   "source": [
    "# verificar o tipo de sol_p_i\n"
   ]
  },
  {
   "cell_type": "code",
   "execution_count": 27,
   "metadata": {},
   "outputs": [
    {
     "data": {
      "text/latex": [
       "\\[ \\left[ \\begin{array}{r}10\\end{array} \\right] \\]"
      ],
      "text/plain": [
       "1-element Array{Sym,1}:\n",
       " 10"
      ]
     },
     "execution_count": 27,
     "metadata": {},
     "output_type": "execute_result"
    }
   ],
   "source": [
    "# testar para f = 10cm e p_o = 5cm\n",
    "\n",
    "subs(sol_p_i, p_i => 10, f => 5)"
   ]
  },
  {
   "cell_type": "markdown",
   "metadata": {},
   "source": [
    "### FUNÇÕES"
   ]
  },
  {
   "cell_type": "code",
   "execution_count": 28,
   "metadata": {
    "scrolled": true
   },
   "outputs": [],
   "source": [
    "# denifir função f1 x^2 - 3*x -2 e vetor_x de -5 a 5\n",
    "\n"
   ]
  },
  {
   "cell_type": "code",
   "execution_count": 29,
   "metadata": {
    "scrolled": false
   },
   "outputs": [],
   "source": [
    "# Gráfico \n",
    "\n"
   ]
  },
  {
   "cell_type": "code",
   "execution_count": 30,
   "metadata": {},
   "outputs": [],
   "source": [
    "# importar SymPy e variável x\n",
    "\n"
   ]
  },
  {
   "cell_type": "markdown",
   "metadata": {},
   "source": [
    "De acordo com o gráfico, podemos observar que temos 2 raízes, sendo a primeira $x \\thickapprox -0.5$ e segunda $x \\thickapprox 3.5$. "
   ]
  },
  {
   "cell_type": "code",
   "execution_count": 31,
   "metadata": {
    "scrolled": false
   },
   "outputs": [],
   "source": [
    "# solução f1(x)\n",
    "\n"
   ]
  },
  {
   "cell_type": "markdown",
   "metadata": {},
   "source": [
    "O resultado é do tipo simbólico, logo é interessante vincular o resultado a duas variáveis $x_1$ e $x_2$ do tipo float."
   ]
  },
  {
   "cell_type": "code",
   "execution_count": 32,
   "metadata": {
    "scrolled": true
   },
   "outputs": [],
   "source": [
    "# x1 e x2 recebem o resultado de x^2 - 3*x -2 do tipo float\n",
    "\n"
   ]
  },
  {
   "cell_type": "code",
   "execution_count": 34,
   "metadata": {
    "scrolled": true
   },
   "outputs": [],
   "source": [
    "# Gráfico\n",
    "\n"
   ]
  },
  {
   "cell_type": "markdown",
   "metadata": {},
   "source": [
    "### SOLUÇÃO NUMÉRICA"
   ]
  },
  {
   "cell_type": "markdown",
   "metadata": {},
   "source": [
    "#### SYMPY"
   ]
  },
  {
   "cell_type": "markdown",
   "metadata": {},
   "source": [
    "A função `nsolve()` permite usar métodos de aproximação numérica para encontrar raízes de equações não lineares. Sintaxe:\n",
    "```julia\n",
    "nsolve(equação, xi) \n",
    "```\n",
    "Sendo:\n",
    "* `equação`: equação algébrica expressa diretamente ou através de uma função genérica ou anônima.\n",
    "* `xi`: valor estimado da raiz.\n",
    "\n",
    "A função `nsolve()` retorna um valor do tipo `BigFloat`."
   ]
  },
  {
   "cell_type": "code",
   "execution_count": 36,
   "metadata": {},
   "outputs": [],
   "source": [
    "# carregar SymPy e variável x\n",
    "\n"
   ]
  },
  {
   "cell_type": "code",
   "execution_count": 35,
   "metadata": {
    "scrolled": false
   },
   "outputs": [],
   "source": [
    "# definir a função genérica fnl(x)  x*cos(x) + sin(x + 1) \n",
    "\n"
   ]
  },
  {
   "cell_type": "code",
   "execution_count": 37,
   "metadata": {
    "scrolled": false
   },
   "outputs": [],
   "source": [
    "# Gráfico\n",
    "\n"
   ]
  },
  {
   "cell_type": "markdown",
   "metadata": {},
   "source": [
    "A função retorna um valor do tipo `BigFloat` que é muito grande para a maioria das aplicações."
   ]
  },
  {
   "cell_type": "code",
   "execution_count": 38,
   "metadata": {},
   "outputs": [],
   "source": [
    "# tentar resolver com o solve\n",
    "\n"
   ]
  },
  {
   "cell_type": "code",
   "execution_count": 39,
   "metadata": {
    "scrolled": false
   },
   "outputs": [],
   "source": [
    "# definir as raízes raiz1, raiz2 e raiz3 para os pontos 2,5,7 com flag prec = 10\n",
    "# use @show \n",
    "\n"
   ]
  },
  {
   "cell_type": "code",
   "execution_count": 20,
   "metadata": {
    "scrolled": false
   },
   "outputs": [],
   "source": [
    "#Testando. Veja que o resultado é bem próximo de zero.\n",
    "\n"
   ]
  },
  {
   "cell_type": "markdown",
   "metadata": {},
   "source": [
    "### ROOTS\n",
    "\n",
    "Este pacote contém rotinas para encontrar raízes de uma equação de uma incógnita real definidas por uma função genérica.\n",
    "\n",
    "Sintaxe:\n",
    "```julia\n",
    "fzero(funcao_variável, xi)\n",
    "```\n",
    "Sendo:\n",
    "* equação: equação expressa através de uma função genérica ou anônima. \n",
    "* xi: valor estimado da raiz.\n",
    "\n",
    "Obs: use `verbose = true` para mostrar informações sobre o algotimo utilizado. Também é possível passar um método específico como argumento (Bisection(), FalsePosition(), entre outros). A função `fzero()` não calcula as raízes de expressões passadas como argumento. Ocorrerá erro caso seja executado  `fzero(x^2 -2*x, 1)`. O pacote `Roots` não funciona com expressões simbólicas."
   ]
  },
  {
   "cell_type": "code",
   "execution_count": 40,
   "metadata": {},
   "outputs": [],
   "source": [
    "# importar Roots\n",
    "\n"
   ]
  },
  {
   "cell_type": "code",
   "execution_count": 42,
   "metadata": {},
   "outputs": [],
   "source": [
    "# raiz1R recebe o resultado da função fzero() de fnl no ponto inicial 2\n",
    "\n"
   ]
  },
  {
   "cell_type": "code",
   "execution_count": 43,
   "metadata": {
    "scrolled": false
   },
   "outputs": [],
   "source": [
    "# mais detalhes sobre o processo com verbose=true\n",
    "\n"
   ]
  },
  {
   "cell_type": "markdown",
   "metadata": {},
   "source": [
    "**Raízes dentro uma faixa de valores**\n",
    "\n",
    "o pacote `Roots` utiliza a função `fzeros(função, x1, xn)`. "
   ]
  },
  {
   "cell_type": "code",
   "execution_count": 44,
   "metadata": {
    "scrolled": true
   },
   "outputs": [],
   "source": [
    "# usar fzeros para calcula as raízes entre 0 e 20\n",
    "\n"
   ]
  },
  {
   "cell_type": "markdown",
   "metadata": {
    "collapsed": true
   },
   "source": [
    "## SISTEMAS DE EQUAÇÕES LINEARES E NÃO LINEARES "
   ]
  },
  {
   "cell_type": "markdown",
   "metadata": {},
   "source": [
    "### SISTEMAS DE EQUAÇÕES LINEARES \n",
    "\n",
    "Dado o sistema abaixo:\n",
    "\n",
    "${\\begin{cases}\n",
    "& 2x + 3y - 6 ~~ = 0 \\\\ \n",
    "& 3x - 4y - 12 = 0 \n",
    "\\end{cases}}$\n",
    "\n",
    "Calcular as raízes"
   ]
  },
  {
   "cell_type": "code",
   "execution_count": 46,
   "metadata": {},
   "outputs": [],
   "source": [
    "# Sistema de equações definido pelas funções genéricas \n",
    "# eql_1(x,y) = 2*x + 3*y - 6 e eql_2(x,y) = 3*x - 4*y - 12\n",
    "\n"
   ]
  },
  {
   "cell_type": "markdown",
   "metadata": {},
   "source": [
    "### SYMPY"
   ]
  },
  {
   "cell_type": "markdown",
   "metadata": {},
   "source": [
    "A função `solve()` . Sintaxe:\n",
    "```julia\n",
    "solve([equação_1(var_1, var_2...var_n) , ..., equação_n(var_nvar_2...var_n)] , [var_1,...,var_n])\n",
    "```\n",
    "Sendo:\n",
    "* `equação_1 , ..., equação_n`: Equações algébricas expressas diretamente ou através de funções genéricas. Não funciona com função anônima.\n",
    "* `var_1, ..., var_n`: Incógnitas das equações.\n",
    "\n",
    "A função `solve()` retorna um dicionário de dados simbólicos do tipo `SymPy.Sym`."
   ]
  },
  {
   "cell_type": "code",
   "execution_count": 47,
   "metadata": {},
   "outputs": [],
   "source": [
    "# importar SymPy e criar as variáveis simbólicas x e y\n",
    "\n"
   ]
  },
  {
   "cell_type": "code",
   "execution_count": 31,
   "metadata": {
    "scrolled": true
   },
   "outputs": [],
   "source": [
    "# sol_sys recebe o resultado de eql_1 e eql_2\n",
    "\n"
   ]
  },
  {
   "cell_type": "code",
   "execution_count": 32,
   "metadata": {},
   "outputs": [],
   "source": [
    "# verificar o tipo de sol_sys\n"
   ]
  },
  {
   "cell_type": "markdown",
   "metadata": {},
   "source": [
    "O SymPy retorna o resultado `Dict{SymPy.Sym,SymPy.Sym}`. É interessante tranformar os dados em `Float` para manipulá-los. "
   ]
  },
  {
   "cell_type": "code",
   "execution_count": 33,
   "metadata": {},
   "outputs": [],
   "source": [
    "# x1 e x2 recebem o resultado do tipo float do sistema\n",
    "\n"
   ]
  },
  {
   "cell_type": "markdown",
   "metadata": {},
   "source": [
    "### SISTEMAS DE EQUAÇÕES NÃO LINEARES"
   ]
  },
  {
   "cell_type": "markdown",
   "metadata": {},
   "source": [
    "Dado o sistema abaixo:\n",
    "\n",
    "${\\begin{cases}\n",
    "& xy -2x ~~~~~~~~~ = 0 \\\\ \n",
    "&- x^2 + 8y -2 = 0 \n",
    "\\end{cases}}$"
   ]
  },
  {
   "cell_type": "code",
   "execution_count": 48,
   "metadata": {},
   "outputs": [],
   "source": [
    "# Carregar sympy e variáveis x e y\n",
    "\n"
   ]
  },
  {
   "cell_type": "code",
   "execution_count": 50,
   "metadata": {},
   "outputs": [],
   "source": [
    "# Funções eqnl_1(x,y) = 3*x + cos(y)  - 5 e eqnl_2(x,y) = -sin(x) + y - 2\n",
    "\n"
   ]
  },
  {
   "cell_type": "markdown",
   "metadata": {},
   "source": [
    "### SYMPY\n",
    "\n",
    "\n",
    "Sintaxe: \n",
    "```julia\n",
    "nsolve([eq_1(var_1...var_n),..., eq_n(var_1...var(n)], [var_1,..., var_n], [valor_var_1,..., valor_var_n])\n",
    "```\n",
    "Sendo: \n",
    "* [eq_1 , ..., eq_n]: vetor das equações algébricas expressas diretamente ou através de funções genéricas. Não funciona com funções anônimas.\n",
    "* [var_1, ..., var_n]: vetor das incógnitas das equações. \n",
    "* [valor_var_1,..., valor_var_n]: vetor de valores aproximados das raízes.\n",
    "\n",
    "A função `nsolve()` retorna um dicionário de dados simbólicos do tipo `SymPy.Sym`."
   ]
  },
  {
   "cell_type": "code",
   "execution_count": 52,
   "metadata": {
    "scrolled": true
   },
   "outputs": [],
   "source": [
    "# use xs e ys para receber o resultado do sistema\n",
    "\n"
   ]
  },
  {
   "cell_type": "code",
   "execution_count": 53,
   "metadata": {},
   "outputs": [],
   "source": [
    "# verificar o tipo de xs\n",
    "\n"
   ]
  },
  {
   "cell_type": "code",
   "execution_count": 54,
   "metadata": {},
   "outputs": [],
   "source": [
    "# transformar em float\n",
    "\n"
   ]
  },
  {
   "cell_type": "code",
   "execution_count": null,
   "metadata": {},
   "outputs": [],
   "source": []
  },
  {
   "cell_type": "markdown",
   "metadata": {},
   "source": [
    "**INTERPOLAÇÃO**\n",
    "\n",
    "Quando trabalhamos com pesquisa experimental ou simulação numérica, . Dessa forma Chapra e Canale (2008) definem a interpolação como a estimativa de valores entre pontos discretos bem conhecidos. A interpolação serve para determinar a correspondência $x_{interp} -> y_{interp}$ entre dois pontos $A(x_1,y_1)~ e~ B(x_2,y_2)$ conhecidos. \n",
    "\n",
    "Os resultados de medições experimentais ou simulações numéricas fornecem, em geral,um conjunto de valores de uma função em pontos discretos de uma variável independente. Esses valores podem ser apresentados naforma de uma tabela para valores discretos de . O processo de calcular a função para valores intermédios aos valores conhecidos de é chamado interpolação."
   ]
  },
  {
   "cell_type": "code",
   "execution_count": 22,
   "metadata": {},
   "outputs": [],
   "source": [
    "#Dados\n",
    "\n",
    "x_dados = [0.0, 1.0, 2.0, 3.0, 4.0, 5.0, 6.0, 7.0, 8.0, 9.0, 10.0]\n",
    "y_dados = [0.0, 0.5, 2.3, 5.0, 8.0, 7.0, 6.9, 8.0, 9.0, 6.0, 4.2 ];"
   ]
  },
  {
   "cell_type": "code",
   "execution_count": null,
   "metadata": {},
   "outputs": [],
   "source": [
    "# Gráfico\n"
   ]
  },
  {
   "cell_type": "code",
   "execution_count": 21,
   "metadata": {},
   "outputs": [],
   "source": [
    "# Carregar pacote Interpolations\n",
    "\n"
   ]
  },
  {
   "cell_type": "code",
   "execution_count": 23,
   "metadata": {},
   "outputs": [],
   "source": [
    "# LinearInterpolation\n",
    "\n"
   ]
  },
  {
   "cell_type": "code",
   "execution_count": 24,
   "metadata": {},
   "outputs": [],
   "source": [
    "# Gráfico interpolado\n"
   ]
  }
 ],
 "metadata": {
  "anaconda-cloud": {},
  "kernelspec": {
   "display_name": "Julia 1.0.3 (4 threads)",
   "language": "julia",
   "name": "julia-1.0k"
  },
  "language_info": {
   "file_extension": ".jl",
   "mimetype": "application/julia",
   "name": "julia",
   "version": "1.0.3"
  }
 },
 "nbformat": 4,
 "nbformat_minor": 1
}
