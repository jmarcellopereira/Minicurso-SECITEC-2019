{
 "cells": [
  {
   "cell_type": "markdown",
   "metadata": {
    "collapsed": true
   },
   "source": [
    "# GERENCIAMENTO DE PACOTES"
   ]
  },
  {
   "cell_type": "markdown",
   "metadata": {},
   "source": [
    "## LISTANTO PACOTES INSTALADOS"
   ]
  },
  {
   "cell_type": "code",
   "execution_count": 11,
   "metadata": {},
   "outputs": [],
   "source": [
    "#Carregar o pacote Pkg\n",
    "\n"
   ]
  },
  {
   "cell_type": "code",
   "execution_count": 13,
   "metadata": {
    "scrolled": false
   },
   "outputs": [],
   "source": [
    "# Retorna o nomes dos pacotes e a versão instalada de cada pacote  Pkg.installed()\n",
    "\n"
   ]
  },
  {
   "cell_type": "markdown",
   "metadata": {},
   "source": [
    "## LISTA DE PACOTES DISPONÍVEIS NO REPOSITORIO OFICIAL\n",
    "\n",
    "https://juliaobserver.com/packages"
   ]
  },
  {
   "cell_type": "markdown",
   "metadata": {},
   "source": [
    "## INSTALAÇÃO, ATUALIZAÇÃO E REMOÇÃO DE PACOTES"
   ]
  },
  {
   "cell_type": "markdown",
   "metadata": {},
   "source": [
    "**Atualiza a base de dados de pacotes ja instalados**"
   ]
  },
  {
   "cell_type": "code",
   "execution_count": 4,
   "metadata": {
    "scrolled": true
   },
   "outputs": [],
   "source": [
    "# Atualizar base de pacotes Pkg.update()\n",
    "\n"
   ]
  },
  {
   "cell_type": "markdown",
   "metadata": {},
   "source": [
    "**Instalado um novo pagote: Pkg.add(\"Nome do pacote\")**"
   ]
  },
  {
   "cell_type": "code",
   "execution_count": 5,
   "metadata": {},
   "outputs": [],
   "source": [
    "# Para instala, retire o # e execute\n",
    "\n",
    "#Pkg.add(\"SymPy\")\n",
    "#Pkg.add(\"Dates\")\n",
    "#Pkg.add(\"Roots\")\n",
    "#Pkg.add(\"PyPlot\")\n",
    "#Pkg.add(\"Plots\")\n",
    "#Pkg.add(\"DataFrames\")\n",
    "#Pkg.add(\"Calculus\")\n",
    "#Pkg.add(\"Interpolations\")\n",
    "#Pkg.add(\"LsqFit\")"
   ]
  },
  {
   "cell_type": "markdown",
   "metadata": {},
   "source": [
    "**Removendo um pacote Pkg.rm(\"pacote\")**"
   ]
  },
  {
   "cell_type": "code",
   "execution_count": null,
   "metadata": {},
   "outputs": [],
   "source": [
    "# removendo pacote Dates\n",
    "\n"
   ]
  },
  {
   "cell_type": "markdown",
   "metadata": {},
   "source": [
    "## INSTALAÇÃO DE PACOTES NÃO OFICIAIS \n",
    "\n",
    "Para instalar um pacote não oficial, basta usar o link do Github na forma: :\n",
    "```julia\n",
    "Pkg.add(PackageSpec(url = \"https://github.com/user/pacote.jl\"))\n",
    "```\n"
   ]
  },
  {
   "cell_type": "code",
   "execution_count": null,
   "metadata": {
    "scrolled": true
   },
   "outputs": [],
   "source": []
  },
  {
   "cell_type": "markdown",
   "metadata": {},
   "source": [
    "Sempre Depois de instalar uma nova versão Julia, execute **Pkg.build (\"IJulia\")**, a fim de reconstruir o pacote iJulia com esta nova versão."
   ]
  },
  {
   "cell_type": "markdown",
   "metadata": {},
   "source": [
    "## UTILIZANDO UM PACOTE INSTALADO###"
   ]
  },
  {
   "cell_type": "code",
   "execution_count": 4,
   "metadata": {
    "scrolled": true
   },
   "outputs": [],
   "source": [
    "# using \"nome_do_pacote\" sem aspas e com letra inicial maiúscula\n",
    "\n"
   ]
  },
  {
   "cell_type": "markdown",
   "metadata": {},
   "source": []
  }
 ],
 "metadata": {
  "anaconda-cloud": {},
  "kernelspec": {
   "display_name": "Julia 1.0.3 (4 threads)",
   "language": "julia",
   "name": "julia-1.0k"
  },
  "language_info": {
   "file_extension": ".jl",
   "mimetype": "application/julia",
   "name": "julia",
   "version": "1.0.3"
  }
 },
 "nbformat": 4,
 "nbformat_minor": 1
}
