{
 "cells": [
  {
   "cell_type": "markdown",
   "metadata": {
    "nbpresent": {
     "id": "054605d6-55fa-4f16-8adc-948e1624a636"
    },
    "slideshow": {
     "slide_type": "slide"
    }
   },
   "source": [
    "# COMO USAR O JUPYTER\n",
    "![Softwares](Figuras/jupyter.svg)"
   ]
  },
  {
   "cell_type": "markdown",
   "metadata": {
    "nbpresent": {
     "id": "069c0f14-a01b-4404-91bd-0dd22d578e4d"
    },
    "slideshow": {
     "slide_type": "slide"
    }
   },
   "source": [
    "O Notebook Jupyter é uma aplicação web derivado do IPython que é um interpretador interativo para várias linguagens de programação, mas especialmente focado em Python. Ipython oferece \"type introspection\", \"rich media\", sintax shell, completação por tab e edição auxiliada por histórico de comando. Jupyter possui suporte para mais de 40 linguagens de programação, incluindo as mais populares em computação científica como Python, R, Julia e Scala. De forma geral, Jupyter é a evolução do Ipython notebook.\n",
    "\n",
    "![Softwares](Figuras/notebook_components.png)"
   ]
  },
  {
   "cell_type": "markdown",
   "metadata": {
    "nbpresent": {
     "id": "866d004d-9e75-44ed-9e11-9a099af1d61f"
    },
    "slideshow": {
     "slide_type": "slide"
    }
   },
   "source": [
    "## O QUE VOCE PODE FAZER NO JUPYTER?\n",
    "+ Usar como interface para várias linguagens de programação\n",
    "+ Usar como processador de textos Latex, Markdown e outros\n",
    "+ Convertor de formato para Latex, Html, pdf e outros\n",
    "![Softwares](Figuras/nbconvert.png)\n",
    "+ Trabalha com computação paralela - Jupyter também inclui uma estrutura de computação paralela, **IPython.parallel**. Isto permite controlar vários motores individuais, que são uma versão estendida do kernel IPython descrito acima.\n",
    "+ e muito mais"
   ]
  },
  {
   "cell_type": "markdown",
   "metadata": {
    "nbpresent": {
     "id": "7bdaed5c-9b6b-41d5-8f6d-7e9083f9e8c9"
    },
    "slideshow": {
     "slide_type": "slide"
    }
   },
   "source": [
    "## INTERFACE DO JUPYTER"
   ]
  },
  {
   "cell_type": "markdown",
   "metadata": {
    "slideshow": {
     "slide_type": "subslide"
    }
   },
   "source": [
    "### INTERFACE GRÁFICA DO JUPYTER\n"
   ]
  },
  {
   "cell_type": "markdown",
   "metadata": {
    "nbpresent": {
     "id": "e89e82f8-1fde-4eeb-b027-c34ea7aea8f7"
    },
    "slideshow": {
     "slide_type": "subslide"
    }
   },
   "source": [
    "### COMANDOS BÁSICOS DO JUPYTE\n",
    "    f: procurar e atualizar\n",
    "    Ctrl-Shift-P: abrir comando \n",
    "    Enter: modo de edição \n",
    "    Shift-Enter: executar célula e saltar para baixo\n",
    "    Ctrl-Enter: executar células selecionadas\n",
    "    Alt-Enter: executar célular e inserir outra abaixo\n",
    "\n",
    "**Com a Célula selecionada**\n",
    "\n",
    "    y: código\n",
    "    m: markdown\n",
    "    R: raw\n",
    "    1: cabeçalho tamanho 1\n",
    "    2: cabeçalho tamanho 2\n",
    "    3: cabeçalho tamanho 3\n",
    "    k: selecionar célula acima \n",
    "    Up: selecionar célula acima \n",
    "    Down: selecionar célula abaixo \n",
    "    j: selecionar célula abaixo\n",
    "    Shift-k: selecionar célulaS acima\n",
    "    Shift-Up: selecionar célulaS acima\n",
    "    Shift-Down: selecionar célulaS abaixo\n",
    "    Shift-j: selecionar célulaS abaixo\n",
    "    a: inserir célula acima \n",
    "    b: inserir célula abaixo\n",
    "    x: cortar célula(s) selecionadas\n",
    "    c: copiar células células selecionadas\n",
    "    Shift-v: colar células selecionadas\n",
    "    v: colar células abaixo \n",
    "    z: desfazer (control z)\n",
    "    d,d: deletar células \n",
    "    Shift-m: agrupar células selecionadas\n",
    "    Ctrl-s: salvar notebook\n",
    "    \n",
    "    h: mostrar atalhos teclado \n",
    "    i,i: interromper Kernel (SUPER IMPORTANTE)\n",
    "    0,0: resetar o kernel (SUPER IMPORTANTE)\n",
    "    q: fechar a página atual\n",
    "    Shift-Space: rolar para cima \n",
    "    \n",
    "**Dentro da célula**\n",
    "\n",
    "    Tab: completar código\n",
    "    Ctrl-a: selecionar tudo\n",
    "    Ctrl-z: desfazer codigo dentro da célula\n",
    "    Ctrl-Shift-z: redo\n",
    "    Ctrl-y: refazer código dentro da célula\n",
    "    Ctrl-m: modo comando\n",
    "    Ctrl-Shift-p: open the command palette\n",
    "    Esc: command mode\n",
    "    Shift-Enter: execular célula \n",
    "    Ctrl-Enter: executar células selecionadas\n",
    "    Alt-Enter: executar e inserir celula abaixo\n",
    "    Ctrl-Shift-Minus: dividir células"
   ]
  },
  {
   "cell_type": "markdown",
   "metadata": {
    "nbpresent": {
     "id": "6e48a92c-0ce6-4041-a01b-ed047d41b491"
    },
    "slideshow": {
     "slide_type": "subslide"
    }
   },
   "source": [
    "## BÁSICO DO MARKDOWN\n",
    "\n",
    "+ **Cabeçalho**\n",
    "\n",
    "`# primeiro nivel`\n",
    "# primeiro nível \n",
    "\n",
    "`## segundo nivel`\n",
    "## segundo nível \n",
    "\n",
    "`### terceiro nivel`\n",
    "### terceiro nivel\n",
    "\n",
    "+ **Blocos**\n",
    "> blocos blocos.\n",
    "> \n",
    "> blocos.\n",
    "\n",
    "\n",
    "+ **Itálico**\n",
    "\n",
    "`*palavra*`\n",
    "\n",
    "*palavra*\n",
    "\n",
    "`_palavra_`\n",
    "\n",
    "_palavra_\n",
    "\n",
    "+ **Negrito**\n",
    "\n",
    "`**palavra**`\n",
    "\n",
    "**palavra**\n",
    "\n",
    "`__palavra__`\n",
    "\n",
    "__palavra__\n",
    "\n",
    "* **Nível (use tab para criar o nivel)**\n",
    "      \n",
    "*   nivel 1\n",
    "    * nivel 2\n",
    "        * nivel 3\n",
    "\n",
    "* **Numeração**\n",
    "\n",
    "    1.  Red\n",
    "    2.  Green\n",
    "    3.  Blue\n",
    "\n",
    "\n",
    "* **Links**\n",
    "\n",
    "`[examplo](http://examplo.com/).` \n",
    "\n",
    "[example link](http://example.com/).\n",
    "\n",
    "* **Códigos**\n",
    "\n",
    "` ```linguagem_programação `\n",
    "\n",
    "codigo\n",
    "\n",
    "` ```    `\n",
    "```julia\n",
    "for \n",
    "end\n",
    "\n",
    "```\n",
    "\n",
    "\n",
    "* **Latex**\n",
    "\n",
    "`$formula latex$`\n",
    "\n",
    "$e^x=\\sum_{i=0}^\\infty \\frac{1}{i!}x^i$\n",
    "\n",
    "\n",
    "\n",
    "\n",
    "* **Tabelas**\n",
    "\n",
    "coluna1           | coluna2\n",
    "------------------|:--------------:\n",
    "normal            | centralizado\n",
    "\n",
    "* **Linha Horizontal**\n",
    "\n",
    "`***`\n",
    "***\n",
    "\n",
    "**Figura**\n",
    "\n",
    "`![texto](https://sourceforge.net/images/icon_linux.gif)`\n",
    "\n",
    "![alternate text](https://sourceforge.net/images/icon_linux.gif)"
   ]
  },
  {
   "cell_type": "code",
   "execution_count": null,
   "metadata": {
    "collapsed": true
   },
   "outputs": [],
   "source": []
  }
 ],
 "metadata": {
  "anaconda-cloud": {},
  "kernelspec": {
   "display_name": "Julia 0.6.4",
   "language": "julia",
   "name": "julia-0.6"
  },
  "language_info": {
   "file_extension": ".jl",
   "mimetype": "application/julia",
   "name": "julia",
   "version": "0.6.4"
  },
  "latex_envs": {
   "LaTeX_envs_menu_present": true,
   "autoclose": false,
   "autocomplete": true,
   "bibliofile": "biblio.bib",
   "cite_by": "apalike",
   "current_citInitial": 1,
   "eqLabelWithNumbers": true,
   "eqNumInitial": 1,
   "hotkeys": {
    "equation": "Ctrl-E",
    "itemize": "Ctrl-I"
   },
   "labels_anchors": false,
   "latex_user_defs": false,
   "report_style_numbering": false,
   "user_envs_cfg": false
  },
  "nbpresent": {
   "slides": {
    "3061c8c3-58d8-455e-8d7e-1d6c921796bc": {
     "id": "3061c8c3-58d8-455e-8d7e-1d6c921796bc",
     "prev": "b537f6bd-7244-43dd-888e-6f0e1a8801c6",
     "regions": {
      "31c84998-4ef8-46b5-ae64-557738c47058": {
       "attrs": {
        "height": 0.8,
        "width": 0.8,
        "x": 0.1,
        "y": 0.1
       },
       "content": {
        "cell": "e89e82f8-1fde-4eeb-b027-c34ea7aea8f7",
        "part": "whole"
       },
       "id": "31c84998-4ef8-46b5-ae64-557738c47058"
      }
     }
    },
    "4e52ddc5-bdcd-4167-871e-313d24d7597f": {
     "id": "4e52ddc5-bdcd-4167-871e-313d24d7597f",
     "prev": "99a5bb75-1692-4364-9d22-b08edc2aa7ce",
     "regions": {
      "474294e5-a7e6-4b7e-aa27-c1667dfb10f4": {
       "attrs": {
        "height": 0.8,
        "width": 0.8,
        "x": 0.1,
        "y": 0.1
       },
       "content": {
        "cell": "069c0f14-a01b-4404-91bd-0dd22d578e4d",
        "part": "whole"
       },
       "id": "474294e5-a7e6-4b7e-aa27-c1667dfb10f4"
      }
     }
    },
    "58038434-0591-4845-915d-08ed99e42573": {
     "id": "58038434-0591-4845-915d-08ed99e42573",
     "prev": "4e52ddc5-bdcd-4167-871e-313d24d7597f",
     "regions": {
      "31fdfc5e-da5f-4c0e-b1ae-e19d34f21ee7": {
       "attrs": {
        "height": 0.8,
        "width": 0.8,
        "x": 0.1,
        "y": 0.1
       },
       "content": {
        "cell": "866d004d-9e75-44ed-9e11-9a099af1d61f",
        "part": "whole"
       },
       "id": "31fdfc5e-da5f-4c0e-b1ae-e19d34f21ee7"
      }
     }
    },
    "99a5bb75-1692-4364-9d22-b08edc2aa7ce": {
     "id": "99a5bb75-1692-4364-9d22-b08edc2aa7ce",
     "prev": null,
     "regions": {
      "1ae2d628-284d-421c-a3eb-bf5efab87fc4": {
       "attrs": {
        "height": 0.8,
        "width": 0.8,
        "x": 0.1,
        "y": 0.1
       },
       "content": {
        "cell": "054605d6-55fa-4f16-8adc-948e1624a636",
        "part": "whole"
       },
       "id": "1ae2d628-284d-421c-a3eb-bf5efab87fc4"
      }
     }
    },
    "9bc68c2b-0373-4b2e-a13e-57ff40e90443": {
     "id": "9bc68c2b-0373-4b2e-a13e-57ff40e90443",
     "prev": "3061c8c3-58d8-455e-8d7e-1d6c921796bc",
     "regions": {
      "9a39d899-6495-4e46-9e4a-d77f1c2768af": {
       "attrs": {
        "height": 0.8,
        "width": 0.8,
        "x": 0.1,
        "y": 0.1
       },
       "content": {
        "cell": "6e48a92c-0ce6-4041-a01b-ed047d41b491",
        "part": "whole"
       },
       "id": "9a39d899-6495-4e46-9e4a-d77f1c2768af"
      }
     }
    },
    "b537f6bd-7244-43dd-888e-6f0e1a8801c6": {
     "id": "b537f6bd-7244-43dd-888e-6f0e1a8801c6",
     "prev": "58038434-0591-4845-915d-08ed99e42573",
     "regions": {
      "830093d0-e33f-4eca-acb0-39d515b279ad": {
       "attrs": {
        "height": 0.8,
        "width": 0.8,
        "x": 0.1,
        "y": 0.1
       },
       "content": {
        "cell": "7bdaed5c-9b6b-41d5-8f6d-7e9083f9e8c9",
        "part": "whole"
       },
       "id": "830093d0-e33f-4eca-acb0-39d515b279ad"
      }
     }
    }
   },
   "themes": {}
  }
 },
 "nbformat": 4,
 "nbformat_minor": 1
}
