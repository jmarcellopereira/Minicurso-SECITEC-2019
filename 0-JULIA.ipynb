{
 "cells": [
  {
   "cell_type": "markdown",
   "metadata": {
    "nbpresent": {
     "id": "c8ab8aaf-8374-4ee3-bf92-947f62062e61"
    },
    "slideshow": {
     "slide_type": "slide"
    }
   },
   "source": [
    "# MAS.... PORQUE JULIA?\n",
    "\n",
    "<img src=\"Figuras/homem-pensando.png\" width=\"400\" height=\"300\">"
   ]
  },
  {
   "cell_type": "markdown",
   "metadata": {
    "nbpresent": {
     "id": "56c7fede-27e0-4b82-a503-33632e208bc8"
    },
    "slideshow": {
     "slide_type": "slide"
    }
   },
   "source": [
    "## LINGUAGENS/SOFTWARES DE PROGRAMAÇÃO CIENTÍFICA\n",
    "\n",
    "<img src=\"Figuras/ling-comp-cient.png\" width=\"400\" height=\"600\">"
   ]
  },
  {
   "cell_type": "markdown",
   "metadata": {
    "nbpresent": {
     "id": "14c1ad60-91f5-47d9-9938-cfe3241a8759"
    },
    "slideshow": {
     "slide_type": "slide"
    }
   },
   "source": [
    "##  A LINGUAGEM DE PROGRAMAÇÃO JULIA \n",
    "\n",
    "![Logo Julia](Figuras/julia-logo.png)"
   ]
  },
  {
   "cell_type": "markdown",
   "metadata": {
    "nbpresent": {
     "id": "0d17e9e8-0817-4f55-b7d4-0cc22a929369"
    },
    "slideshow": {
     "slide_type": "subslide"
    }
   },
   "source": [
    "### INFORMAÇÕES GERAIS DA LINGUAGEM\n",
    "\n",
    "*   Julia é uma linguagem de programação compilada (JIT – Just in time) open source de alto nível projetado com foco na computação científica e numérica de alto desempenho (BEZANSON et al., 2015). \n",
    "\n",
    "* É relativamente jovem, teve início no MIT em agosto de 2009 e, em fevereiro de 2012, tornou-se open source. \n",
    "\n",
    "* Desenvolvedores: Jeff Bezanson, Stefan Karpinski, Viral Shah e  Alan Edelman. \n",
    "\n",
    "* Foi pensada como uma linguagem para computação científica suficientemente rápida como C ou Fortran, mas igualmente fácil de aprender como o MATLAB e o Mathematica, com o objetivo de facilitar a modelagem computacional.\n",
    "\n",
    "* É escrito em C, C++ e Scheme, e a biblioteca padrão é escrita utilizando a própria linguagem Julia.\n",
    "\n",
    "* A versão estável é a 0.6.2"
   ]
  },
  {
   "cell_type": "markdown",
   "metadata": {
    "nbpresent": {
     "id": "2f7f900c-bec6-4698-85a6-0fffbe5971b9"
    },
    "slideshow": {
     "slide_type": "subslide"
    }
   },
   "source": [
    "### VANTAGENS DA LINGUAGEM DE PROGRAMAÇÃO JULIA\n",
    "\n",
    "*   Livre e open source (Licença MIT)\n",
    "*   Tipos definidos pelo usuário são rápidos e compactos como tipos nativos\n",
    "*   Ausência da necessidade de vetorizar códigos por desempenho - códigos não vetorizados são rápidos\n",
    "*   Projetado para computação paralela e distribuída\n",
    "*   Sistemas de tipos não obstrutivos mas poderoso\n",
    "*   Conversão e promoção de tipos numéricos e outros de forma elegante e extensível\n",
    "*   Chamadas de funções em C de forma direta (sem necessidade de wrappers ou API especial)\n",
    "*   Capacidade semelhante a de uma poderosa shell para gerenciar outros processos\n",
    "*   Macros de forma parecida a Lisp e outras facilidades de metaprogramação\n"
   ]
  },
  {
   "cell_type": "markdown",
   "metadata": {
    "nbpresent": {
     "id": "3f578ca2-ed6e-4a53-9fe8-6d3851eccfe6"
    },
    "slideshow": {
     "slide_type": "subslide"
    }
   },
   "source": [
    "### DESVANTAGENS DA LINGUAGEM DE PROGRAMAÇÃO JULIA\n",
    "\n",
    "* Comunidade pequena aqui no Brasil (https://github.com/julialangpt, https://t.me/joinchat/CKvynhIWGJK2VX1BNsXbOw)\n",
    "* Poucos pacotes comparado com Python e Matlab\n",
    "* Não possui livros traduzidos* "
   ]
  },
  {
   "cell_type": "markdown",
   "metadata": {
    "nbpresent": {
     "id": "f9d7d9ce-6f8a-4c76-b356-e72f15a2cb15"
    },
    "slideshow": {
     "slide_type": "subslide"
    }
   },
   "source": [
    "### O QUE JULIA É CAPAZ DE FAZER\n",
    "\n",
    "<img src=\"Figuras/julia_bench.png\" width=\"600\" height=\"600\">\n",
    "\n",
    "**Tabela:** benchmark tempo em segundos de processamento relativo ao tempo de C (quanto menor melhor, performance de = 1.0)."
   ]
  },
  {
   "cell_type": "markdown",
   "metadata": {
    "slideshow": {
     "slide_type": "slide"
    }
   },
   "source": [
    "### QUEM USA JULIA?\n",
    "\n",
    "Julia users, partners and employers looking to hire Julia programmers in 2017 include: Google, Apple, Amazon, Facebook, IBM, Intel, Microsoft, BlackRock, Capital One, PwC, Ford, Oracle, Comcast, DARPA, Moore Foundation, Federal Reserve Bank of New York (FRBNY), UC Berkeley Autonomous Race Car (BARC), Federal Aviation Administration (FAA), MIT Lincoln Labs, Nobel Laureate Thomas J. Sargent, **Brazilian National Development Bank (BNDES)**, Conning, Berkery Noyes, BestX, Path BioAnalytics, Invenia, AOT Energy, AlgoCircle, Trinity Health, Gambit, Augmedics, Tangent Works, Voxel8, Massachusetts General Hospital, NaviHealth, Farmers Insurance, Pilot Flying J, Lawrence Berkeley National Laboratory, National Energy Research Scientific Computing Center (NERSC), Oak Ridge National Laboratory, Los Alamos National Laboratory, Lawrence Livermore National Laboratory, National Renewable Energy Laboratory, MIT, Caltech, Stanford, UC Berkeley, Harvard, Columbia, NYU, Oxford, NUS, UCL, Nantes, Alan Turing Institute, University of Chicago, Cornell, Max Planck Institute, Australian National University, University of Warwick, University of Colorado, Queen Mary University of London, London Institute of Cancer Research, UC Irvine, University of Kaiserslautern, University of Queensland. "
   ]
  },
  {
   "cell_type": "markdown",
   "metadata": {
    "slideshow": {
     "slide_type": "slide"
    }
   },
   "source": [
    "### CASES - BNDES\n",
    "\n",
    "O BNDES é um dos maiores bancos de desenvolvimento do mundo e, hoje, o principal instrumento do governo brasileiro para financiamento e investimento de longo prazo em todos os segmentos da economia. O BNDES lida com quase R $ 1 trilhão no total de ativos, com milhares de contrapartes e milhões de contratos financeiros em sua carteira.\n",
    "\n",
    "A equipe de ativos e passivos estava tentando resolver um problema de otimização estocástica multiestágio para maximizar os retornos do banco, escolhendo as melhores decisões de alocação, financiamento e hedge, sujeitas a uma ampla gama de restrições comerciais, políticas e de mercado.\n",
    "\n",
    "Por que escolheram Julia?\n",
    "\n",
    "A equipe do projeto do BNDES, liderada por Diogo Barboza Gobira e Felipe Vilhena Antunes Amaral selecionou Julia por sua \"velocidade, elegância e JuMP (o Pacote de Otimização Matemática em Julia)\".\n",
    "\n",
    "O BNDES relata um aumento de velocidade superior a 10x. Explorar o paralelismo nativo de Julia pode render melhorias ainda maiores em velocidade, escalabilidade e produtividade."
   ]
  },
  {
   "cell_type": "markdown",
   "metadata": {
    "nbpresent": {
     "id": "73fe4e6b-0b64-44b2-90b3-dd63e53344ec"
    },
    "slideshow": {
     "slide_type": "slide"
    }
   },
   "source": [
    "### JULIA X MATLAB \n",
    "\n",
    "Julia possui uma sintaxe muito pr&oacute;xima do MATLAB de tal forma que os nomes da maioria das fun&ccedil;&otilde;es em Julia correspondem aos nomes do MATLAB/Octave. Quanto ao processamento, os par&acirc;metros de refer&ecirc;ncia mostram que Julia &eacute; mais r&aacute;pida, dependendo do tipo de opera&ccedil;&atilde;o. Julia fornece uma interface para a linguagem MATLAB com o pacote MATLAB.jl (https://github.com/lindahua/MATLAB.jl). \n",
    "\n",
    "#### Sintaxe\n",
    "\n",
    "![Logo Julia](Figuras/sintaxe.png)\n",
    "\n",
    "\n",
    "#### Modelo de execução\n",
    "![Logo Julia](Figuras/modelo.png)\n",
    "\n",
    "#### Paradigma principal\n",
    "![Logo Julia](Figuras/paradigma.png)\n",
    "\n",
    "\n",
    "#### Modelo de tipo de dados\n",
    "![Logo Julia](Figuras/modelo-dado.png)"
   ]
  },
  {
   "cell_type": "markdown",
   "metadata": {
    "slideshow": {
     "slide_type": "slide"
    }
   },
   "source": [
    "### JULIA X MATLAB \n",
    "\n",
    "#### Modelo de execução\n",
    "![Logo Julia](Figuras/modelo.png)\n",
    "\n",
    "#### Paradigma principal\n",
    "![Logo Julia](Figuras/paradigma.png)\n",
    "\n",
    "\n",
    "#### Modelo de tipo de dados\n",
    "![Logo Julia](Figuras/modelo-dado.png)"
   ]
  },
  {
   "cell_type": "markdown",
   "metadata": {
    "nbpresent": {
     "id": "9640bebd-14f2-4758-8faa-22e35c0739f4"
    },
    "slideshow": {
     "slide_type": "slide"
    }
   },
   "source": [
    "### COMO SÃO AS LINGUAGENS DE PROGRAMAÇÃO \n",
    "\n",
    "![Diagrama Computação cientifica](Figuras/ling-prog.jpg)"
   ]
  },
  {
   "cell_type": "markdown",
   "metadata": {
    "nbpresent": {
     "id": "68d9d898-5653-4bd7-893f-bc9e56312b84"
    },
    "slideshow": {
     "slide_type": "slide"
    }
   },
   "source": [
    "## COMO APRENDER JULIA?\n",
    "\n",
    "Ainda não existe livros publicados em português, mas há muito material disponível na internet além de grupos de discussão."
   ]
  },
  {
   "cell_type": "markdown",
   "metadata": {
    "nbpresent": {
     "id": "ed61e539-1cf5-4d44-801e-2c87202b2ab8"
    },
    "slideshow": {
     "slide_type": "slide"
    }
   },
   "source": [
    "#### LIVROS, TUTORIAIS E MANUAIS \n",
    "\n",
    "- [Site oficial da linguagem : http://julialang.org/](http://julialang.org/)\n",
    "- [Tradução do manual oficial : http://julia-pt-br.readthedocs.io/pt_BR/latest/manual/introduction.html](http://julia-pt-br.readthedocs.io/pt_BR/latest/manual/introduction.html)\n",
    "- [Mastering Julia: Malcolm Sherrington July 22, 2015 : https://goo.gl/JPNvhS](https://goo.gl/JPNvhS)\n",
    "- [Getting Started with Julia: Ivo Balbaert February 26, 2015 : https://goo.gl/b8bpMY](https://goo.gl/b8bpMY)\n",
    "- [Julia High Performance: Avik Sengupta, 26 de abril de 2016 :https://goo.gl/hnvEvd](https://goo.gl/hnvEvd)\n",
    "- [Computational Physics (Gerson J. Ferreira: UFU) : http://www.infis.ufu.br/images/users/gerson/PhysComp/FisComp.pdf](http://www.infis.ufu.br/images/users/gerson/PhysComp/FisComp.pdf )\n",
    "- **[Tutorial em português-Br (João Marcello): https://github.com/JuliaLangPt/tutorial_PT_BR](https://github.com/JuliaLangPt/tutorial_PT_BR)**"
   ]
  },
  {
   "cell_type": "markdown",
   "metadata": {
    "nbpresent": {
     "id": "8da37622-c6bf-4b18-ad1a-ec1528bb8c07"
    },
    "slideshow": {
     "slide_type": "slide"
    }
   },
   "source": [
    "### VIDEO AULAS\n",
    "\n",
    "- [Play list Video aulas em português (Alexandre Gomiero) : https://goo.gl/ITXKuO](https://goo.gl/ITXKuO )\n",
    "- [Canal oficial da linguagem (inglês) : https://www.youtube.com/user/JuliaLanguage](https://www.youtube.com/user/JuliaLanguage)\n",
    "- [Evolução da linguagem (inglês): https://youtu.be/FiJ5uKJlMEc](https://youtu.be/FiJ5uKJlMEc  )\n",
    "- [Introduction to Julia for Python Developers : https://youtu.be/qhrY0c_BHs8 ](https://youtu.be/qhrY0c_BHs8   )\n",
    "- [The Julia Computer Language (inglês) : https://goo.gl/Qm9khV  ](https://goo.gl/Qm9khV    )\n",
    "- [Julia Programming Tutorial (inglês) : https://goo.gl/zAvPD0 ](https://goo.gl/zAvPD0  )\n",
    "- [Avaliação da linguagem julia (porguguês) :https://youtu.be/pS0XXKhDMY0](https://youtu.be/pS0XXKhDMY0  )"
   ]
  }
 ],
 "metadata": {
  "celltoolbar": "Slideshow",
  "kernelspec": {
   "display_name": "Julia 1.0.3 (4 threads)",
   "language": "julia",
   "name": "julia-1.0k"
  },
  "language_info": {
   "file_extension": ".jl",
   "mimetype": "application/julia",
   "name": "julia",
   "version": "1.0.3"
  },
  "nbpresent": {
   "slides": {
    "1ea6217e-3ee2-4923-ae0a-b2e3c917e6ca": {
     "id": "1ea6217e-3ee2-4923-ae0a-b2e3c917e6ca",
     "prev": "2e9928b4-e886-456a-9aaa-b3ef89850aab",
     "regions": {
      "e85a916e-d372-47c4-9205-b1605534011d": {
       "attrs": {
        "height": 0.8,
        "width": 0.8,
        "x": 0.1,
        "y": 0.1
       },
       "content": {
        "cell": "9640bebd-14f2-4758-8faa-22e35c0739f4",
        "part": "whole"
       },
       "id": "e85a916e-d372-47c4-9205-b1605534011d"
      }
     }
    },
    "2e9928b4-e886-456a-9aaa-b3ef89850aab": {
     "id": "2e9928b4-e886-456a-9aaa-b3ef89850aab",
     "prev": "a298c016-6827-43a5-820f-3044c048736d",
     "regions": {
      "c0cc15f4-a893-49af-b2a6-22d78265265b": {
       "attrs": {
        "height": 0.8,
        "width": 0.8,
        "x": 0.1,
        "y": 0.1
       },
       "content": {
        "cell": "73fe4e6b-0b64-44b2-90b3-dd63e53344ec",
        "part": "whole"
       },
       "id": "c0cc15f4-a893-49af-b2a6-22d78265265b"
      }
     }
    },
    "494073c9-9b4a-4030-8070-51b020b7520a": {
     "id": "494073c9-9b4a-4030-8070-51b020b7520a",
     "prev": "c0a78ebd-6448-4365-b2b8-71cd435e4a16",
     "regions": {
      "fb40d97d-cbc0-4333-b90b-8bfac908e5ba": {
       "attrs": {
        "height": 0.8,
        "width": 0.8,
        "x": 0.1,
        "y": 0.1
       },
       "content": {
        "cell": "0d17e9e8-0817-4f55-b7d4-0cc22a929369",
        "part": "whole"
       },
       "id": "fb40d97d-cbc0-4333-b90b-8bfac908e5ba"
      }
     }
    },
    "497e97bc-b935-4e15-a829-cfd3d70d4544": {
     "id": "497e97bc-b935-4e15-a829-cfd3d70d4544",
     "prev": "59fc9bb0-81d4-498e-b650-5eeb311c011b",
     "regions": {
      "cba662b1-2def-4021-88c3-9bb1f9dcd967": {
       "attrs": {
        "height": 0.8,
        "width": 0.8,
        "x": 0.1,
        "y": 0.1
       },
       "content": {
        "cell": "3f578ca2-ed6e-4a53-9fe8-6d3851eccfe6",
        "part": "whole"
       },
       "id": "cba662b1-2def-4021-88c3-9bb1f9dcd967"
      }
     }
    },
    "500a59f6-b4a9-4b48-8bdd-bf093d581515": {
     "id": "500a59f6-b4a9-4b48-8bdd-bf093d581515",
     "prev": "818baab7-cf36-48f5-9aef-4ed6955b4a45",
     "regions": {
      "47806c4c-41ba-4b66-be67-483113f1136c": {
       "attrs": {
        "height": 0.8,
        "width": 0.8,
        "x": 0.1,
        "y": 0.1
       },
       "content": {
        "cell": "c6c3e634-6ae1-4075-a6d6-1516c3a1cb07",
        "part": "whole"
       },
       "id": "47806c4c-41ba-4b66-be67-483113f1136c"
      }
     }
    },
    "59fc9bb0-81d4-498e-b650-5eeb311c011b": {
     "id": "59fc9bb0-81d4-498e-b650-5eeb311c011b",
     "prev": "494073c9-9b4a-4030-8070-51b020b7520a",
     "regions": {
      "485c6e87-2b9f-4ccd-8b55-d7648d7b0ca9": {
       "attrs": {
        "height": 0.8,
        "width": 0.8,
        "x": 0.1,
        "y": 0.1
       },
       "content": {
        "cell": "2f7f900c-bec6-4698-85a6-0fffbe5971b9",
        "part": "whole"
       },
       "id": "485c6e87-2b9f-4ccd-8b55-d7648d7b0ca9"
      }
     }
    },
    "5e86c5db-58c9-4428-b9d1-20fcb6bf7c0e": {
     "id": "5e86c5db-58c9-4428-b9d1-20fcb6bf7c0e",
     "prev": "881a623a-8cf9-4d1f-a2dc-9e0c4ddb7f31",
     "regions": {
      "f9fd5a4e-f755-4359-b0bd-139e96090d8a": {
       "attrs": {
        "height": 0.8,
        "width": 0.8,
        "x": 0.1,
        "y": 0.1
       },
       "content": {
        "cell": "8da37622-c6bf-4b18-ad1a-ec1528bb8c07",
        "part": "whole"
       },
       "id": "f9fd5a4e-f755-4359-b0bd-139e96090d8a"
      }
     }
    },
    "7221ca0e-45a5-42ae-8812-70f3d2785d88": {
     "id": "7221ca0e-45a5-42ae-8812-70f3d2785d88",
     "prev": "5e86c5db-58c9-4428-b9d1-20fcb6bf7c0e",
     "regions": {
      "7d639f73-60b2-4790-a94f-963ea0f2a8e0": {
       "attrs": {
        "height": 0.8,
        "width": 0.8,
        "x": 0.1,
        "y": 0.1
       },
       "content": {
        "cell": "570f749f-2224-4c02-bbf7-eefc80272d2f",
        "part": "whole"
       },
       "id": "7d639f73-60b2-4790-a94f-963ea0f2a8e0"
      }
     }
    },
    "818baab7-cf36-48f5-9aef-4ed6955b4a45": {
     "id": "818baab7-cf36-48f5-9aef-4ed6955b4a45",
     "prev": null,
     "regions": {
      "401a2af3-1c33-4661-b0ee-82c3070a56ce": {
       "attrs": {
        "height": 0.8,
        "width": 0.8,
        "x": 0.1,
        "y": 0.1
       },
       "content": {
        "cell": "c8ab8aaf-8374-4ee3-bf92-947f62062e61",
        "part": "whole"
       },
       "id": "401a2af3-1c33-4661-b0ee-82c3070a56ce"
      }
     }
    },
    "881a623a-8cf9-4d1f-a2dc-9e0c4ddb7f31": {
     "id": "881a623a-8cf9-4d1f-a2dc-9e0c4ddb7f31",
     "prev": "9f5f6ca0-9981-4bb7-a9f3-c6a3ed0e511f",
     "regions": {
      "4f23a4ea-e110-4a24-b630-d893d26a55ee": {
       "attrs": {
        "height": 0.8,
        "width": 0.8,
        "x": 0.1,
        "y": 0.1
       },
       "content": {
        "cell": "ed61e539-1cf5-4d44-801e-2c87202b2ab8",
        "part": "whole"
       },
       "id": "4f23a4ea-e110-4a24-b630-d893d26a55ee"
      }
     }
    },
    "9f5f6ca0-9981-4bb7-a9f3-c6a3ed0e511f": {
     "id": "9f5f6ca0-9981-4bb7-a9f3-c6a3ed0e511f",
     "prev": "1ea6217e-3ee2-4923-ae0a-b2e3c917e6ca",
     "regions": {
      "e732095d-b66a-4660-b765-8576de3c9453": {
       "attrs": {
        "height": 0.8,
        "width": 0.8,
        "x": 0.1,
        "y": 0.1
       },
       "content": {
        "cell": "68d9d898-5653-4bd7-893f-bc9e56312b84",
        "part": "whole"
       },
       "id": "e732095d-b66a-4660-b765-8576de3c9453"
      }
     }
    },
    "a298c016-6827-43a5-820f-3044c048736d": {
     "id": "a298c016-6827-43a5-820f-3044c048736d",
     "prev": "497e97bc-b935-4e15-a829-cfd3d70d4544",
     "regions": {
      "a429d534-f5fb-44f9-9d29-f22ab64ca5a0": {
       "attrs": {
        "height": 0.8,
        "width": 0.8,
        "x": 0.1,
        "y": 0.1
       },
       "content": {
        "cell": "f9d7d9ce-6f8a-4c76-b356-e72f15a2cb15",
        "part": "whole"
       },
       "id": "a429d534-f5fb-44f9-9d29-f22ab64ca5a0"
      }
     }
    },
    "c0a78ebd-6448-4365-b2b8-71cd435e4a16": {
     "id": "c0a78ebd-6448-4365-b2b8-71cd435e4a16",
     "prev": "ec7eb5a9-3918-4f71-81e5-a472dd4d789f",
     "regions": {
      "2c1f0946-77f6-4445-bda2-a851163055c3": {
       "attrs": {
        "height": 0.8,
        "width": 0.8,
        "x": 0.1,
        "y": 0.1
       },
       "content": {
        "cell": "14c1ad60-91f5-47d9-9938-cfe3241a8759",
        "part": "whole"
       },
       "id": "2c1f0946-77f6-4445-bda2-a851163055c3"
      }
     }
    },
    "d1b791b6-2b62-4823-be8c-7b71a02a7fba": {
     "id": "d1b791b6-2b62-4823-be8c-7b71a02a7fba",
     "prev": "500a59f6-b4a9-4b48-8bdd-bf093d581515",
     "regions": {
      "0f331c37-499a-4b76-8777-36fd146d637a": {
       "attrs": {
        "height": 0.8,
        "width": 0.8,
        "x": 0.1,
        "y": 0.1
       },
       "content": {
        "cell": "a8b9ffc6-fb1d-4758-9eb1-42122176eec6",
        "part": "whole"
       },
       "id": "0f331c37-499a-4b76-8777-36fd146d637a"
      }
     }
    },
    "ec7eb5a9-3918-4f71-81e5-a472dd4d789f": {
     "id": "ec7eb5a9-3918-4f71-81e5-a472dd4d789f",
     "prev": "d1b791b6-2b62-4823-be8c-7b71a02a7fba",
     "regions": {
      "8a597207-63bf-465f-bde5-b87d15293302": {
       "attrs": {
        "height": 0.8,
        "width": 0.8,
        "x": 0.1,
        "y": 0.1
       },
       "content": {
        "cell": "56c7fede-27e0-4b82-a503-33632e208bc8",
        "part": "whole"
       },
       "id": "8a597207-63bf-465f-bde5-b87d15293302"
      }
     }
    }
   },
   "themes": {}
  }
 },
 "nbformat": 4,
 "nbformat_minor": 2
}
